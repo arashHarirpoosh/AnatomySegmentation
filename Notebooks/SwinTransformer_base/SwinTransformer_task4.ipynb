{
 "cells": [
  {
   "cell_type": "code",
   "execution_count": 1,
   "id": "c5a3913e",
   "metadata": {},
   "outputs": [
    {
     "name": "stdout",
     "output_type": "stream",
     "text": [
      "MONAI version: 1.2.dev2313\n",
      "Numpy version: 1.23.5\n",
      "Pytorch version: 2.0.0+cu118\n",
      "MONAI flags: HAS_EXT = False, USE_COMPILED = False, USE_META_DICT = False\n",
      "MONAI rev id: 331437dfce075b4fa5785016ad4e7f8c7c77ad21\n",
      "MONAI __file__: D:\\Arash\\Semester2\\DeepLearning\\FinalProject\\venv\\lib\\site-packages\\monai\\__init__.py\n",
      "\n",
      "Optional dependencies:\n",
      "Pytorch Ignite version: 0.4.11\n",
      "ITK version: 5.3.0\n",
      "Nibabel version: 5.0.1\n",
      "scikit-image version: 0.20.0\n",
      "Pillow version: 9.4.0\n",
      "Tensorboard version: 2.12.0\n",
      "gdown version: 4.7.1\n",
      "TorchVision version: 0.15.1+cu118\n",
      "tqdm version: 4.65.0\n",
      "lmdb version: 1.4.0\n",
      "psutil version: 5.9.4\n",
      "pandas version: 1.5.3\n",
      "einops version: 0.6.0\n",
      "transformers version: 4.27.3\n",
      "mlflow version: 2.2.2\n",
      "pynrrd version: 1.0.0\n",
      "\n",
      "For details about installing the optional dependencies, please visit:\n",
      "    https://docs.monai.io/en/latest/installation.html#installing-the-recommended-dependencies\n",
      "\n"
     ]
    }
   ],
   "source": [
    "import os\n",
    "import torch\n",
    "from trainer import Trainer\n",
    "\n",
    "from Preprocessing import (\n",
    "    filter_collate_fn,\n",
    "    generate_file_path,\n",
    "    get_train_transform,\n",
    "    get_validation_transform\n",
    ")\n",
    "\n",
    "from monai.data import (\n",
    "    DataLoader,\n",
    "    ThreadDataLoader,\n",
    "    SmartCacheDataset,\n",
    "    PersistentDataset,\n",
    "    load_decathlon_datalist,\n",
    "    decollate_batch,\n",
    "    set_track_meta,\n",
    ")\n",
    "\n",
    "from monai.losses import DiceCELoss\n",
    "\n",
    "from monai.networks.nets import SwinUNETR\n",
    "from map_to_binary import class_map_5_parts\n",
    "from monai.data.utils import pad_list_data_collate\n"
   ]
  },
  {
   "cell_type": "code",
   "execution_count": 2,
   "id": "1dc77eac",
   "metadata": {},
   "outputs": [],
   "source": [
    "task_name = 'muscles'\n",
    "val_transforms = get_validation_transform()\n",
    "train_transforms = get_train_transform(num_samples=4)"
   ]
  },
  {
   "cell_type": "markdown",
   "id": "0413decb",
   "metadata": {},
   "source": [
    "# Load Dataset"
   ]
  },
  {
   "cell_type": "code",
   "execution_count": 3,
   "id": "ff9d9330",
   "metadata": {},
   "outputs": [],
   "source": [
    "root_dataset = 'DatasetCombined'\n",
    "label_name = f'labels_task_{task_name}'"
   ]
  },
  {
   "cell_type": "code",
   "execution_count": 4,
   "id": "0697423c",
   "metadata": {},
   "outputs": [
    {
     "ename": "KeyboardInterrupt",
     "evalue": "",
     "output_type": "error",
     "traceback": [
      "\u001b[1;31m---------------------------------------------------------------------------\u001b[0m",
      "\u001b[1;31mKeyboardInterrupt\u001b[0m                         Traceback (most recent call last)",
      "Cell \u001b[1;32mIn[4], line 1\u001b[0m\n\u001b[1;32m----> 1\u001b[0m file_list_val \u001b[38;5;241m=\u001b[39m \u001b[43mgenerate_file_path\u001b[49m\u001b[43m(\u001b[49m\u001b[43mroot_path\u001b[49m\u001b[38;5;241;43m=\u001b[39;49m\u001b[38;5;124;43mf\u001b[39;49m\u001b[38;5;124;43m'\u001b[39;49m\u001b[38;5;132;43;01m{\u001b[39;49;00m\u001b[43mroot_dataset\u001b[49m\u001b[38;5;132;43;01m}\u001b[39;49;00m\u001b[38;5;124;43m/val\u001b[39;49m\u001b[38;5;124;43m'\u001b[39;49m\u001b[43m,\u001b[49m\u001b[43m \u001b[49m\u001b[43mlabel_name\u001b[49m\u001b[38;5;241;43m=\u001b[39;49m\u001b[43mlabel_name\u001b[49m\u001b[43m)\u001b[49m\n\u001b[0;32m      2\u001b[0m file_list_train \u001b[38;5;241m=\u001b[39m generate_file_path(root_path\u001b[38;5;241m=\u001b[39m\u001b[38;5;124mf\u001b[39m\u001b[38;5;124m'\u001b[39m\u001b[38;5;132;01m{\u001b[39;00mroot_dataset\u001b[38;5;132;01m}\u001b[39;00m\u001b[38;5;124m/train\u001b[39m\u001b[38;5;124m'\u001b[39m, label_name\u001b[38;5;241m=\u001b[39mlabel_name)\n",
      "File \u001b[1;32mD:\\Arash\\AnatomySegmentation\\Preprocessing.py:201\u001b[0m, in \u001b[0;36mgenerate_file_path\u001b[1;34m(root_path, label_name)\u001b[0m\n\u001b[0;32m    199\u001b[0m \u001b[38;5;28;01mdef\u001b[39;00m \u001b[38;5;21mgenerate_file_path\u001b[39m(root_path, label_name):\n\u001b[0;32m    200\u001b[0m     all_files \u001b[38;5;241m=\u001b[39m os\u001b[38;5;241m.\u001b[39mlistdir(root_path)\n\u001b[1;32m--> 201\u001b[0m     \u001b[38;5;28;01mreturn\u001b[39;00m [{\u001b[38;5;124m'\u001b[39m\u001b[38;5;124mimage\u001b[39m\u001b[38;5;124m'\u001b[39m: \u001b[38;5;124mf\u001b[39m\u001b[38;5;124m'\u001b[39m\u001b[38;5;132;01m{\u001b[39;00mroot_path\u001b[38;5;132;01m}\u001b[39;00m\u001b[38;5;124m/\u001b[39m\u001b[38;5;132;01m{\u001b[39;00mi\u001b[38;5;132;01m}\u001b[39;00m\u001b[38;5;124m/ct.nii.gz\u001b[39m\u001b[38;5;124m'\u001b[39m,\n\u001b[0;32m    202\u001b[0m              \u001b[38;5;124m'\u001b[39m\u001b[38;5;124mlabel\u001b[39m\u001b[38;5;124m'\u001b[39m: \u001b[38;5;124mf\u001b[39m\u001b[38;5;124m'\u001b[39m\u001b[38;5;132;01m{\u001b[39;00mroot_path\u001b[38;5;132;01m}\u001b[39;00m\u001b[38;5;124m/\u001b[39m\u001b[38;5;132;01m{\u001b[39;00mi\u001b[38;5;132;01m}\u001b[39;00m\u001b[38;5;124m/segments/\u001b[39m\u001b[38;5;132;01m{\u001b[39;00mlabel_name\u001b[38;5;132;01m}\u001b[39;00m\u001b[38;5;124m.nii.gz\u001b[39m\u001b[38;5;124m'\u001b[39m\n\u001b[0;32m    203\u001b[0m              }\n\u001b[0;32m    204\u001b[0m             \u001b[38;5;28;01mfor\u001b[39;00m i \u001b[38;5;129;01min\u001b[39;00m all_files \u001b[38;5;28;01mif\u001b[39;00m os\u001b[38;5;241m.\u001b[39mpath\u001b[38;5;241m.\u001b[39misfile(\u001b[38;5;124mf\u001b[39m\u001b[38;5;124m'\u001b[39m\u001b[38;5;132;01m{\u001b[39;00mroot_path\u001b[38;5;132;01m}\u001b[39;00m\u001b[38;5;124m/\u001b[39m\u001b[38;5;132;01m{\u001b[39;00mi\u001b[38;5;132;01m}\u001b[39;00m\u001b[38;5;124m/ct.nii.gz\u001b[39m\u001b[38;5;124m'\u001b[39m) \u001b[38;5;28;01mif\u001b[39;00m\n\u001b[0;32m    205\u001b[0m             nib\u001b[38;5;241m.\u001b[39mload(\u001b[38;5;124mf\u001b[39m\u001b[38;5;124m'\u001b[39m\u001b[38;5;132;01m{\u001b[39;00mroot_path\u001b[38;5;132;01m}\u001b[39;00m\u001b[38;5;124m/\u001b[39m\u001b[38;5;132;01m{\u001b[39;00mi\u001b[38;5;132;01m}\u001b[39;00m\u001b[38;5;124m/segments/\u001b[39m\u001b[38;5;132;01m{\u001b[39;00mlabel_name\u001b[38;5;132;01m}\u001b[39;00m\u001b[38;5;124m.nii.gz\u001b[39m\u001b[38;5;124m'\u001b[39m)\u001b[38;5;241m.\u001b[39mget_fdata(dtype\u001b[38;5;241m=\u001b[39mnp\u001b[38;5;241m.\u001b[39mfloat32)\u001b[38;5;241m.\u001b[39mmax() \u001b[38;5;241m>\u001b[39m \u001b[38;5;241m0\u001b[39m]\n",
      "File \u001b[1;32mD:\\Arash\\AnatomySegmentation\\Preprocessing.py:205\u001b[0m, in \u001b[0;36m<listcomp>\u001b[1;34m(.0)\u001b[0m\n\u001b[0;32m    199\u001b[0m \u001b[38;5;28;01mdef\u001b[39;00m \u001b[38;5;21mgenerate_file_path\u001b[39m(root_path, label_name):\n\u001b[0;32m    200\u001b[0m     all_files \u001b[38;5;241m=\u001b[39m os\u001b[38;5;241m.\u001b[39mlistdir(root_path)\n\u001b[0;32m    201\u001b[0m     \u001b[38;5;28;01mreturn\u001b[39;00m [{\u001b[38;5;124m'\u001b[39m\u001b[38;5;124mimage\u001b[39m\u001b[38;5;124m'\u001b[39m: \u001b[38;5;124mf\u001b[39m\u001b[38;5;124m'\u001b[39m\u001b[38;5;132;01m{\u001b[39;00mroot_path\u001b[38;5;132;01m}\u001b[39;00m\u001b[38;5;124m/\u001b[39m\u001b[38;5;132;01m{\u001b[39;00mi\u001b[38;5;132;01m}\u001b[39;00m\u001b[38;5;124m/ct.nii.gz\u001b[39m\u001b[38;5;124m'\u001b[39m,\n\u001b[0;32m    202\u001b[0m              \u001b[38;5;124m'\u001b[39m\u001b[38;5;124mlabel\u001b[39m\u001b[38;5;124m'\u001b[39m: \u001b[38;5;124mf\u001b[39m\u001b[38;5;124m'\u001b[39m\u001b[38;5;132;01m{\u001b[39;00mroot_path\u001b[38;5;132;01m}\u001b[39;00m\u001b[38;5;124m/\u001b[39m\u001b[38;5;132;01m{\u001b[39;00mi\u001b[38;5;132;01m}\u001b[39;00m\u001b[38;5;124m/segments/\u001b[39m\u001b[38;5;132;01m{\u001b[39;00mlabel_name\u001b[38;5;132;01m}\u001b[39;00m\u001b[38;5;124m.nii.gz\u001b[39m\u001b[38;5;124m'\u001b[39m\n\u001b[0;32m    203\u001b[0m              }\n\u001b[0;32m    204\u001b[0m             \u001b[38;5;28;01mfor\u001b[39;00m i \u001b[38;5;129;01min\u001b[39;00m all_files \u001b[38;5;28;01mif\u001b[39;00m os\u001b[38;5;241m.\u001b[39mpath\u001b[38;5;241m.\u001b[39misfile(\u001b[38;5;124mf\u001b[39m\u001b[38;5;124m'\u001b[39m\u001b[38;5;132;01m{\u001b[39;00mroot_path\u001b[38;5;132;01m}\u001b[39;00m\u001b[38;5;124m/\u001b[39m\u001b[38;5;132;01m{\u001b[39;00mi\u001b[38;5;132;01m}\u001b[39;00m\u001b[38;5;124m/ct.nii.gz\u001b[39m\u001b[38;5;124m'\u001b[39m) \u001b[38;5;28;01mif\u001b[39;00m\n\u001b[1;32m--> 205\u001b[0m             \u001b[43mnib\u001b[49m\u001b[38;5;241;43m.\u001b[39;49m\u001b[43mload\u001b[49m\u001b[43m(\u001b[49m\u001b[38;5;124;43mf\u001b[39;49m\u001b[38;5;124;43m'\u001b[39;49m\u001b[38;5;132;43;01m{\u001b[39;49;00m\u001b[43mroot_path\u001b[49m\u001b[38;5;132;43;01m}\u001b[39;49;00m\u001b[38;5;124;43m/\u001b[39;49m\u001b[38;5;132;43;01m{\u001b[39;49;00m\u001b[43mi\u001b[49m\u001b[38;5;132;43;01m}\u001b[39;49;00m\u001b[38;5;124;43m/segments/\u001b[39;49m\u001b[38;5;132;43;01m{\u001b[39;49;00m\u001b[43mlabel_name\u001b[49m\u001b[38;5;132;43;01m}\u001b[39;49;00m\u001b[38;5;124;43m.nii.gz\u001b[39;49m\u001b[38;5;124;43m'\u001b[39;49m\u001b[43m)\u001b[49m\u001b[38;5;241m.\u001b[39mget_fdata(dtype\u001b[38;5;241m=\u001b[39mnp\u001b[38;5;241m.\u001b[39mfloat32)\u001b[38;5;241m.\u001b[39mmax() \u001b[38;5;241m>\u001b[39m \u001b[38;5;241m0\u001b[39m]\n",
      "File \u001b[1;32mD:\\Arash\\Semester2\\DeepLearning\\FinalProject\\venv\\lib\\site-packages\\nibabel\\loadsave.py:95\u001b[0m, in \u001b[0;36mload\u001b[1;34m(filename, **kwargs)\u001b[0m\n\u001b[0;32m     93\u001b[0m sniff \u001b[38;5;241m=\u001b[39m \u001b[38;5;28;01mNone\u001b[39;00m\n\u001b[0;32m     94\u001b[0m \u001b[38;5;28;01mfor\u001b[39;00m image_klass \u001b[38;5;129;01min\u001b[39;00m all_image_classes:\n\u001b[1;32m---> 95\u001b[0m     is_valid, sniff \u001b[38;5;241m=\u001b[39m \u001b[43mimage_klass\u001b[49m\u001b[38;5;241;43m.\u001b[39;49m\u001b[43mpath_maybe_image\u001b[49m\u001b[43m(\u001b[49m\u001b[43mfilename\u001b[49m\u001b[43m,\u001b[49m\u001b[43m \u001b[49m\u001b[43msniff\u001b[49m\u001b[43m)\u001b[49m\n\u001b[0;32m     96\u001b[0m     \u001b[38;5;28;01mif\u001b[39;00m is_valid:\n\u001b[0;32m     97\u001b[0m         img \u001b[38;5;241m=\u001b[39m image_klass\u001b[38;5;241m.\u001b[39mfrom_filename(filename, \u001b[38;5;241m*\u001b[39m\u001b[38;5;241m*\u001b[39mkwargs)\n",
      "File \u001b[1;32mD:\\Arash\\Semester2\\DeepLearning\\FinalProject\\venv\\lib\\site-packages\\nibabel\\filebasedimages.py:471\u001b[0m, in \u001b[0;36mFileBasedImage.path_maybe_image\u001b[1;34m(klass, filename, sniff, sniff_max)\u001b[0m\n\u001b[0;32m    469\u001b[0m \u001b[38;5;28;01mif\u001b[39;00m sniff \u001b[38;5;129;01mis\u001b[39;00m \u001b[38;5;129;01mnot\u001b[39;00m \u001b[38;5;28;01mNone\u001b[39;00m \u001b[38;5;129;01mand\u001b[39;00m \u001b[38;5;28mlen\u001b[39m(sniff[\u001b[38;5;241m0\u001b[39m]) \u001b[38;5;241m<\u001b[39m klass\u001b[38;5;241m.\u001b[39m_meta_sniff_len:\n\u001b[0;32m    470\u001b[0m     sniff \u001b[38;5;241m=\u001b[39m \u001b[38;5;28;01mNone\u001b[39;00m\n\u001b[1;32m--> 471\u001b[0m sniff \u001b[38;5;241m=\u001b[39m \u001b[43mklass\u001b[49m\u001b[38;5;241;43m.\u001b[39;49m\u001b[43m_sniff_meta_for\u001b[49m\u001b[43m(\u001b[49m\u001b[43mfilename\u001b[49m\u001b[43m,\u001b[49m\u001b[43m \u001b[49m\u001b[38;5;28;43mmax\u001b[39;49m\u001b[43m(\u001b[49m\u001b[43mklass\u001b[49m\u001b[38;5;241;43m.\u001b[39;49m\u001b[43m_meta_sniff_len\u001b[49m\u001b[43m,\u001b[49m\u001b[43m \u001b[49m\u001b[43msniff_max\u001b[49m\u001b[43m)\u001b[49m\u001b[43m,\u001b[49m\u001b[43m \u001b[49m\u001b[43msniff\u001b[49m\u001b[43m)\u001b[49m\n\u001b[0;32m    472\u001b[0m \u001b[38;5;28;01mif\u001b[39;00m sniff \u001b[38;5;129;01mis\u001b[39;00m \u001b[38;5;28;01mNone\u001b[39;00m \u001b[38;5;129;01mor\u001b[39;00m \u001b[38;5;28mlen\u001b[39m(sniff[\u001b[38;5;241m0\u001b[39m]) \u001b[38;5;241m<\u001b[39m klass\u001b[38;5;241m.\u001b[39m_meta_sniff_len:\n\u001b[0;32m    473\u001b[0m     \u001b[38;5;28;01mreturn\u001b[39;00m \u001b[38;5;28;01mFalse\u001b[39;00m, sniff\n",
      "File \u001b[1;32mD:\\Arash\\Semester2\\DeepLearning\\FinalProject\\venv\\lib\\site-packages\\nibabel\\filebasedimages.py:416\u001b[0m, in \u001b[0;36mFileBasedImage._sniff_meta_for\u001b[1;34m(klass, filename, sniff_nbytes, sniff)\u001b[0m\n\u001b[0;32m    414\u001b[0m \u001b[38;5;66;03m# Attempt to sniff from metadata location\u001b[39;00m\n\u001b[0;32m    415\u001b[0m \u001b[38;5;28;01mtry\u001b[39;00m:\n\u001b[1;32m--> 416\u001b[0m     \u001b[38;5;28;01mwith\u001b[39;00m \u001b[43mImageOpener\u001b[49m\u001b[43m(\u001b[49m\u001b[43mmeta_fname\u001b[49m\u001b[43m,\u001b[49m\u001b[43m \u001b[49m\u001b[38;5;124;43m'\u001b[39;49m\u001b[38;5;124;43mrb\u001b[39;49m\u001b[38;5;124;43m'\u001b[39;49m\u001b[43m)\u001b[49m \u001b[38;5;28;01mas\u001b[39;00m fobj:\n\u001b[0;32m    417\u001b[0m         binaryblock \u001b[38;5;241m=\u001b[39m fobj\u001b[38;5;241m.\u001b[39mread(sniff_nbytes)\n\u001b[0;32m    418\u001b[0m \u001b[38;5;28;01mexcept\u001b[39;00m (\u001b[38;5;167;01mOSError\u001b[39;00m, \u001b[38;5;167;01mEOFError\u001b[39;00m):\n",
      "File \u001b[1;32mD:\\Arash\\Semester2\\DeepLearning\\FinalProject\\venv\\lib\\site-packages\\nibabel\\openers.py:156\u001b[0m, in \u001b[0;36mOpener.__init__\u001b[1;34m(self, fileish, *args, **kwargs)\u001b[0m\n\u001b[0;32m    153\u001b[0m \u001b[38;5;66;03m# Clear keep_open hint if it is not relevant for the file type\u001b[39;00m\n\u001b[0;32m    154\u001b[0m \u001b[38;5;28;01melse\u001b[39;00m:\n\u001b[0;32m    155\u001b[0m     kwargs\u001b[38;5;241m.\u001b[39mpop(\u001b[38;5;124m'\u001b[39m\u001b[38;5;124mkeep_open\u001b[39m\u001b[38;5;124m'\u001b[39m, \u001b[38;5;28;01mNone\u001b[39;00m)\n\u001b[1;32m--> 156\u001b[0m \u001b[38;5;28mself\u001b[39m\u001b[38;5;241m.\u001b[39mfobj \u001b[38;5;241m=\u001b[39m opener(fileish, \u001b[38;5;241m*\u001b[39margs, \u001b[38;5;241m*\u001b[39m\u001b[38;5;241m*\u001b[39mkwargs)\n\u001b[0;32m    157\u001b[0m \u001b[38;5;28mself\u001b[39m\u001b[38;5;241m.\u001b[39m_name \u001b[38;5;241m=\u001b[39m fileish\n\u001b[0;32m    158\u001b[0m \u001b[38;5;28mself\u001b[39m\u001b[38;5;241m.\u001b[39mme_opened \u001b[38;5;241m=\u001b[39m \u001b[38;5;28;01mTrue\u001b[39;00m\n",
      "File \u001b[1;32mD:\\Arash\\Semester2\\DeepLearning\\FinalProject\\venv\\lib\\site-packages\\nibabel\\openers.py:76\u001b[0m, in \u001b[0;36m_gzip_open\u001b[1;34m(filename, mode, compresslevel, mtime, keep_open)\u001b[0m\n\u001b[0;32m     72\u001b[0m     gzip_file \u001b[38;5;241m=\u001b[39m IndexedGzipFile(filename, drop_handles\u001b[38;5;241m=\u001b[39m\u001b[38;5;129;01mnot\u001b[39;00m keep_open)\n\u001b[0;32m     74\u001b[0m \u001b[38;5;66;03m# Fall-back to built-in GzipFile\u001b[39;00m\n\u001b[0;32m     75\u001b[0m \u001b[38;5;28;01melse\u001b[39;00m:\n\u001b[1;32m---> 76\u001b[0m     gzip_file \u001b[38;5;241m=\u001b[39m \u001b[43mDeterministicGzipFile\u001b[49m\u001b[43m(\u001b[49m\u001b[43mfilename\u001b[49m\u001b[43m,\u001b[49m\u001b[43m \u001b[49m\u001b[43mmode\u001b[49m\u001b[43m,\u001b[49m\u001b[43m \u001b[49m\u001b[43mcompresslevel\u001b[49m\u001b[43m,\u001b[49m\u001b[43m \u001b[49m\u001b[43mmtime\u001b[49m\u001b[38;5;241;43m=\u001b[39;49m\u001b[43mmtime\u001b[49m\u001b[43m)\u001b[49m\n\u001b[0;32m     78\u001b[0m \u001b[38;5;28;01mreturn\u001b[39;00m gzip_file\n",
      "File \u001b[1;32mD:\\Arash\\Semester2\\DeepLearning\\FinalProject\\venv\\lib\\site-packages\\nibabel\\openers.py:60\u001b[0m, in \u001b[0;36mDeterministicGzipFile.__init__\u001b[1;34m(self, filename, mode, compresslevel, fileobj, mtime)\u001b[0m\n\u001b[0;32m     58\u001b[0m     mode \u001b[38;5;241m+\u001b[39m\u001b[38;5;241m=\u001b[39m \u001b[38;5;124m'\u001b[39m\u001b[38;5;124mb\u001b[39m\u001b[38;5;124m'\u001b[39m\n\u001b[0;32m     59\u001b[0m \u001b[38;5;28;01mif\u001b[39;00m fileobj \u001b[38;5;129;01mis\u001b[39;00m \u001b[38;5;28;01mNone\u001b[39;00m:\n\u001b[1;32m---> 60\u001b[0m     fileobj \u001b[38;5;241m=\u001b[39m \u001b[38;5;28mself\u001b[39m\u001b[38;5;241m.\u001b[39mmyfileobj \u001b[38;5;241m=\u001b[39m \u001b[38;5;28;43mopen\u001b[39;49m\u001b[43m(\u001b[49m\u001b[43mfilename\u001b[49m\u001b[43m,\u001b[49m\u001b[43m \u001b[49m\u001b[43mmode\u001b[49m\u001b[43m \u001b[49m\u001b[38;5;129;43;01mor\u001b[39;49;00m\u001b[43m \u001b[49m\u001b[38;5;124;43m'\u001b[39;49m\u001b[38;5;124;43mrb\u001b[39;49m\u001b[38;5;124;43m'\u001b[39;49m\u001b[43m)\u001b[49m\n\u001b[0;32m     61\u001b[0m \u001b[38;5;28;01mreturn\u001b[39;00m \u001b[38;5;28msuper\u001b[39m()\u001b[38;5;241m.\u001b[39m\u001b[38;5;21m__init__\u001b[39m(\n\u001b[0;32m     62\u001b[0m     filename\u001b[38;5;241m=\u001b[39m\u001b[38;5;124m'\u001b[39m\u001b[38;5;124m'\u001b[39m, mode\u001b[38;5;241m=\u001b[39mmode, compresslevel\u001b[38;5;241m=\u001b[39mcompresslevel, fileobj\u001b[38;5;241m=\u001b[39mfileobj, mtime\u001b[38;5;241m=\u001b[39mmtime\n\u001b[0;32m     63\u001b[0m )\n",
      "\u001b[1;31mKeyboardInterrupt\u001b[0m: "
     ]
    }
   ],
   "source": [
    "file_list_val = generate_file_path(root_path=f'{root_dataset}/val', label_name=label_name)\n",
    "file_list_train = generate_file_path(root_path=f'{root_dataset}/train', label_name=label_name)"
   ]
  },
  {
   "cell_type": "code",
   "execution_count": 4,
   "id": "95cfe5f7",
   "metadata": {},
   "outputs": [],
   "source": [
    "train_ds = PersistentDataset(\n",
    "    data=file_list_train,\n",
    "    transform=train_transforms,\n",
    "    cache_dir=f'C:/Training/train_{task_name}'\n",
    ")\n",
    "\n",
    "train_loader = ThreadDataLoader(train_ds, batch_size=1, shuffle=True,\n",
    "                                collate_fn=lambda x: pad_list_data_collate(x, pad_to_shape=(96, 96, 96))\n",
    "                               )"
   ]
  },
  {
   "cell_type": "code",
   "execution_count": 5,
   "id": "848ee03c",
   "metadata": {},
   "outputs": [],
   "source": [
    "val_ds = PersistentDataset(\n",
    "    data=file_list_val,\n",
    "    transform=val_transforms,\n",
    "    cache_dir=f'val_{task_name}'\n",
    "#     cache_dir='C:/Training/val'\n",
    ")\n",
    "\n",
    "val_loader = DataLoader(val_ds, batch_size=1, num_workers=0,\n",
    "                              collate_fn=lambda x: pad_list_data_collate(x, pad_to_shape=(96, 96, 96)))"
   ]
  },
  {
   "cell_type": "code",
   "execution_count": 4,
   "id": "fc0492cb",
   "metadata": {},
   "outputs": [
    {
     "data": {
      "text/plain": [
       "22"
      ]
     },
     "execution_count": 4,
     "metadata": {},
     "output_type": "execute_result"
    }
   ],
   "source": [
    "num_of_classes = len(class_map_5_parts[f'class_map_part_{task_name}']) + 1\n",
    "num_of_classes"
   ]
  },
  {
   "cell_type": "markdown",
   "id": "48a8360d",
   "metadata": {},
   "source": [
    "# Model"
   ]
  },
  {
   "cell_type": "code",
   "execution_count": 5,
   "id": "b88096e2",
   "metadata": {},
   "outputs": [],
   "source": [
    "root_dir = 'Model'\n",
    "model_folder = os.path.join(root_dir, f'SwinTransformer_{task_name}')\n",
    "if not os.path.isdir(model_folder):\n",
    "    os.makedirs(model_folder)"
   ]
  },
  {
   "cell_type": "code",
   "execution_count": 6,
   "id": "2a65e1c5",
   "metadata": {},
   "outputs": [],
   "source": [
    "model = SwinUNETR(\n",
    "    img_size=(96, 96, 96),\n",
    "    in_channels=1,\n",
    "    out_channels=num_of_classes,\n",
    "    feature_size=48,\n",
    "#     drop_rate=0.25,\n",
    "    use_checkpoint=True,\n",
    ")"
   ]
  },
  {
   "cell_type": "code",
   "execution_count": 7,
   "id": "cd7abd6a",
   "metadata": {},
   "outputs": [],
   "source": [
    "loss_function = DiceCELoss(to_onehot_y=True, softmax=True, lambda_dice=1, lambda_ce=1)\n",
    "optimizer = torch.optim.AdamW(model.parameters(), lr=1e-4, weight_decay=1e-5)"
   ]
  },
  {
   "cell_type": "code",
   "execution_count": 8,
   "id": "39db20ba",
   "metadata": {},
   "outputs": [],
   "source": [
    "swin_trainer = Trainer(\n",
    "    model=model,\n",
    "    max_epoch=1000,\n",
    "    optimizer=optimizer,\n",
    "    num_samples=4,\n",
    "    loss_function=loss_function,\n",
    "    model_root_path=model_folder,\n",
    "    number_of_classes=num_of_classes,\n",
    "    )\n",
    "swin_trainer.load_weights()"
   ]
  },
  {
   "cell_type": "code",
   "execution_count": 11,
   "id": "04730486",
   "metadata": {},
   "outputs": [
    {
     "name": "stderr",
     "output_type": "stream",
     "text": [
      "Training (0 / 1000 Steps) (loss=1.19012): 100%|████████████████████████████████████| 1029/1029 [20:53<00:00,  1.22s/it]\n",
      "Validate:   0%|                                                                                 | 0/50 [00:00<?, ?it/s]None of the inputs have requires_grad=True. Gradients will be None\n",
      "Validate (loss=1.14899): 100%|█████████████████████████████████████████████████████████| 50/50 [02:50<00:00,  3.41s/it]\n"
     ]
    },
    {
     "name": "stdout",
     "output_type": "stream",
     "text": [
      "Mean Hausdorff disatnce: 0\n",
      "Model Was Saved ! Current Best Avg. Dice: 0.09714753180742264 Current Avg. Dice: 0.09714753180742264\n"
     ]
    },
    {
     "name": "stderr",
     "output_type": "stream",
     "text": [
      "Training (1 / 1000 Steps) (loss=0.99245): 100%|████████████████████████████████████| 1029/1029 [10:56<00:00,  1.57it/s]\n",
      "Validate (loss=0.95409): 100%|█████████████████████████████████████████████████████████| 50/50 [02:41<00:00,  3.23s/it]\n"
     ]
    },
    {
     "name": "stdout",
     "output_type": "stream",
     "text": [
      "Mean Hausdorff disatnce: 0\n",
      "Model Was Saved ! Current Best Avg. Dice: 0.30171725153923035 Current Avg. Dice: 0.30171725153923035\n"
     ]
    },
    {
     "name": "stderr",
     "output_type": "stream",
     "text": [
      "Training (2 / 1000 Steps) (loss=0.97215): 100%|████████████████████████████████████| 1029/1029 [10:59<00:00,  1.56it/s]\n",
      "Validate (loss=0.87043): 100%|█████████████████████████████████████████████████████████| 50/50 [02:40<00:00,  3.22s/it]\n"
     ]
    },
    {
     "name": "stdout",
     "output_type": "stream",
     "text": [
      "Mean Hausdorff disatnce: 0\n",
      "Model Was Saved ! Current Best Avg. Dice: 0.5167964696884155 Current Avg. Dice: 0.5167964696884155\n"
     ]
    },
    {
     "name": "stderr",
     "output_type": "stream",
     "text": [
      "Training (3 / 1000 Steps) (loss=0.93376): 100%|████████████████████████████████████| 1029/1029 [10:58<00:00,  1.56it/s]\n",
      "Validate (loss=0.81177): 100%|█████████████████████████████████████████████████████████| 50/50 [02:41<00:00,  3.22s/it]\n"
     ]
    },
    {
     "name": "stdout",
     "output_type": "stream",
     "text": [
      "Mean Hausdorff disatnce: 0\n",
      "Model Was Saved ! Current Best Avg. Dice: 0.6441749334335327 Current Avg. Dice: 0.6441749334335327\n"
     ]
    },
    {
     "name": "stderr",
     "output_type": "stream",
     "text": [
      "Training (4 / 1000 Steps) (loss=1.02446): 100%|████████████████████████████████████| 1029/1029 [10:58<00:00,  1.56it/s]\n",
      "Validate (loss=0.74676): 100%|█████████████████████████████████████████████████████████| 50/50 [02:40<00:00,  3.22s/it]\n"
     ]
    },
    {
     "name": "stdout",
     "output_type": "stream",
     "text": [
      "Mean Hausdorff disatnce: 0\n",
      "Model Was Saved ! Current Best Avg. Dice: 0.7150810360908508 Current Avg. Dice: 0.7150810360908508\n"
     ]
    },
    {
     "name": "stderr",
     "output_type": "stream",
     "text": [
      "Training (5 / 1000 Steps) (loss=0.87861): 100%|████████████████████████████████████| 1029/1029 [10:56<00:00,  1.57it/s]\n",
      "Validate (loss=0.69191): 100%|█████████████████████████████████████████████████████████| 50/50 [02:42<00:00,  3.25s/it]\n"
     ]
    },
    {
     "name": "stdout",
     "output_type": "stream",
     "text": [
      "Mean Hausdorff disatnce: 0\n",
      "Model Was Saved ! Current Best Avg. Dice: 0.7863183617591858 Current Avg. Dice: 0.7863183617591858\n"
     ]
    },
    {
     "name": "stderr",
     "output_type": "stream",
     "text": [
      "Training (6 / 1000 Steps) (loss=0.82428): 100%|████████████████████████████████████| 1029/1029 [10:58<00:00,  1.56it/s]\n",
      "Validate (loss=0.66923): 100%|█████████████████████████████████████████████████████████| 50/50 [02:41<00:00,  3.22s/it]\n"
     ]
    },
    {
     "name": "stdout",
     "output_type": "stream",
     "text": [
      "Mean Hausdorff disatnce: 0\n",
      "Model Was Saved ! Current Best Avg. Dice: 0.8021641373634338 Current Avg. Dice: 0.8021641373634338\n"
     ]
    },
    {
     "name": "stderr",
     "output_type": "stream",
     "text": [
      "Training (7 / 1000 Steps) (loss=0.97056): 100%|████████████████████████████████████| 1029/1029 [10:58<00:00,  1.56it/s]\n",
      "Validate (loss=0.64895): 100%|█████████████████████████████████████████████████████████| 50/50 [02:42<00:00,  3.25s/it]\n"
     ]
    },
    {
     "name": "stdout",
     "output_type": "stream",
     "text": [
      "Mean Hausdorff disatnce: 0\n",
      "Model Was Saved ! Current Best Avg. Dice: 0.8178707957267761 Current Avg. Dice: 0.8178707957267761\n"
     ]
    },
    {
     "name": "stderr",
     "output_type": "stream",
     "text": [
      "Training (8 / 1000 Steps) (loss=0.88552): 100%|████████████████████████████████████| 1029/1029 [10:58<00:00,  1.56it/s]\n",
      "Validate (loss=0.62126): 100%|█████████████████████████████████████████████████████████| 50/50 [02:41<00:00,  3.23s/it]\n"
     ]
    },
    {
     "name": "stdout",
     "output_type": "stream",
     "text": [
      "Mean Hausdorff disatnce: 0\n",
      "Model Was Saved ! Current Best Avg. Dice: 0.8315128087997437 Current Avg. Dice: 0.8315128087997437\n"
     ]
    },
    {
     "name": "stderr",
     "output_type": "stream",
     "text": [
      "Training (9 / 1000 Steps) (loss=0.81945): 100%|████████████████████████████████████| 1029/1029 [10:56<00:00,  1.57it/s]\n",
      "Validate (loss=0.63082): 100%|█████████████████████████████████████████████████████████| 50/50 [02:41<00:00,  3.23s/it]\n"
     ]
    },
    {
     "name": "stdout",
     "output_type": "stream",
     "text": [
      "Early Stopping patience: 1, best loss: 0.5166593566536903, current_loss: 0.5255587643384934\n",
      "Mean Hausdorff disatnce: 0\n",
      "Model Was Not Saved ! Current Best Avg. Dice: 0.8315128087997437 Current Avg. Dice: 0.8279902935028076\n"
     ]
    },
    {
     "name": "stderr",
     "output_type": "stream",
     "text": [
      "Training (10 / 1000 Steps) (loss=0.91761): 100%|███████████████████████████████████| 1029/1029 [10:59<00:00,  1.56it/s]\n",
      "Validate (loss=0.61109): 100%|█████████████████████████████████████████████████████████| 50/50 [02:44<00:00,  3.30s/it]\n"
     ]
    },
    {
     "name": "stdout",
     "output_type": "stream",
     "text": [
      "Mean Hausdorff disatnce: 0\n",
      "Model Was Saved ! Current Best Avg. Dice: 0.8476310968399048 Current Avg. Dice: 0.8476310968399048\n"
     ]
    },
    {
     "name": "stderr",
     "output_type": "stream",
     "text": [
      "Training (11 / 1000 Steps) (loss=0.94096): 100%|███████████████████████████████████| 1029/1029 [11:01<00:00,  1.55it/s]\n",
      "Validate (loss=0.60735): 100%|█████████████████████████████████████████████████████████| 50/50 [02:41<00:00,  3.23s/it]\n"
     ]
    },
    {
     "name": "stdout",
     "output_type": "stream",
     "text": [
      "Mean Hausdorff disatnce: 0\n",
      "Model Was Saved ! Current Best Avg. Dice: 0.8586455583572388 Current Avg. Dice: 0.8586455583572388\n"
     ]
    },
    {
     "name": "stderr",
     "output_type": "stream",
     "text": [
      "Training (12 / 1000 Steps) (loss=0.88941): 100%|███████████████████████████████████| 1029/1029 [10:59<00:00,  1.56it/s]\n",
      "Validate (loss=0.59784): 100%|█████████████████████████████████████████████████████████| 50/50 [02:41<00:00,  3.23s/it]\n"
     ]
    },
    {
     "name": "stdout",
     "output_type": "stream",
     "text": [
      "Early Stopping patience: 1, best loss: 0.4896298108994961, current_loss: 0.49643896877765653\n",
      "Mean Hausdorff disatnce: 0\n",
      "Model Was Not Saved ! Current Best Avg. Dice: 0.8586455583572388 Current Avg. Dice: 0.8487474322319031\n"
     ]
    },
    {
     "name": "stderr",
     "output_type": "stream",
     "text": [
      "Training (13 / 1000 Steps) (loss=0.81687): 100%|███████████████████████████████████| 1029/1029 [10:58<00:00,  1.56it/s]\n",
      "Validate (loss=0.59546): 100%|█████████████████████████████████████████████████████████| 50/50 [02:41<00:00,  3.23s/it]\n"
     ]
    },
    {
     "name": "stdout",
     "output_type": "stream",
     "text": [
      "Mean Hausdorff disatnce: 0\n",
      "Model Was Not Saved ! Current Best Avg. Dice: 0.8586455583572388 Current Avg. Dice: 0.8520205616950989\n"
     ]
    },
    {
     "name": "stderr",
     "output_type": "stream",
     "text": [
      "Training (14 / 1000 Steps) (loss=0.88011): 100%|███████████████████████████████████| 1029/1029 [10:59<00:00,  1.56it/s]\n",
      "Validate (loss=0.60261): 100%|█████████████████████████████████████████████████████████| 50/50 [02:41<00:00,  3.23s/it]\n"
     ]
    },
    {
     "name": "stdout",
     "output_type": "stream",
     "text": [
      "Early Stopping patience: 1, best loss: 0.48799468457698825, current_loss: 0.49129825115203857\n",
      "Mean Hausdorff disatnce: 0\n",
      "Model Was Not Saved ! Current Best Avg. Dice: 0.8586455583572388 Current Avg. Dice: 0.8545224070549011\n"
     ]
    },
    {
     "name": "stderr",
     "output_type": "stream",
     "text": [
      "Training (15 / 1000 Steps) (loss=0.84892): 100%|███████████████████████████████████| 1029/1029 [10:59<00:00,  1.56it/s]\n",
      "Validate (loss=0.57968): 100%|█████████████████████████████████████████████████████████| 50/50 [02:42<00:00,  3.25s/it]\n"
     ]
    },
    {
     "name": "stdout",
     "output_type": "stream",
     "text": [
      "Mean Hausdorff disatnce: 0\n",
      "Model Was Saved ! Current Best Avg. Dice: 0.8706836104393005 Current Avg. Dice: 0.8706836104393005\n"
     ]
    },
    {
     "name": "stderr",
     "output_type": "stream",
     "text": [
      "Training (16 / 1000 Steps) (loss=0.89322): 100%|███████████████████████████████████| 1029/1029 [10:59<00:00,  1.56it/s]\n",
      "Validate (loss=0.59978): 100%|█████████████████████████████████████████████████████████| 50/50 [02:41<00:00,  3.23s/it]\n"
     ]
    },
    {
     "name": "stdout",
     "output_type": "stream",
     "text": [
      "Early Stopping patience: 1, best loss: 0.47129529729485514, current_loss: 0.47966864943504334\n",
      "Mean Hausdorff disatnce: 0\n",
      "Model Was Not Saved ! Current Best Avg. Dice: 0.8706836104393005 Current Avg. Dice: 0.8681338429450989\n"
     ]
    },
    {
     "name": "stderr",
     "output_type": "stream",
     "text": [
      "Training (17 / 1000 Steps) (loss=0.76893): 100%|███████████████████████████████████| 1029/1029 [10:59<00:00,  1.56it/s]\n",
      "Validate (loss=0.59232): 100%|█████████████████████████████████████████████████████████| 50/50 [02:43<00:00,  3.27s/it]\n"
     ]
    },
    {
     "name": "stdout",
     "output_type": "stream",
     "text": [
      "Early Stopping patience: 2, best loss: 0.47129529729485514, current_loss: 0.47269603848457337\n",
      "Mean Hausdorff disatnce: 0\n",
      "Model Was Saved ! Current Best Avg. Dice: 0.8719258308410645 Current Avg. Dice: 0.8719258308410645\n"
     ]
    },
    {
     "name": "stderr",
     "output_type": "stream",
     "text": [
      "Training (18 / 1000 Steps) (loss=0.78166): 100%|███████████████████████████████████| 1029/1029 [10:59<00:00,  1.56it/s]\n",
      "Validate (loss=0.57199): 100%|█████████████████████████████████████████████████████████| 50/50 [02:41<00:00,  3.23s/it]\n"
     ]
    },
    {
     "name": "stdout",
     "output_type": "stream",
     "text": [
      "Mean Hausdorff disatnce: 0\n",
      "Model Was Saved ! Current Best Avg. Dice: 0.8857306838035583 Current Avg. Dice: 0.8857306838035583\n"
     ]
    },
    {
     "name": "stderr",
     "output_type": "stream",
     "text": [
      "Training (19 / 1000 Steps) (loss=0.80015): 100%|███████████████████████████████████| 1029/1029 [11:00<00:00,  1.56it/s]\n",
      "Validate (loss=0.56210): 100%|█████████████████████████████████████████████████████████| 50/50 [02:42<00:00,  3.24s/it]\n"
     ]
    },
    {
     "name": "stdout",
     "output_type": "stream",
     "text": [
      "Early Stopping patience: 1, best loss: 0.4602439287304878, current_loss: 0.46200299337506295\n",
      "Mean Hausdorff disatnce: 0\n",
      "Model Was Saved ! Current Best Avg. Dice: 0.8872852325439453 Current Avg. Dice: 0.8872852325439453\n"
     ]
    },
    {
     "name": "stderr",
     "output_type": "stream",
     "text": [
      "Training (20 / 1000 Steps) (loss=0.81629): 100%|███████████████████████████████████| 1029/1029 [10:59<00:00,  1.56it/s]\n",
      "Validate (loss=0.56828): 100%|█████████████████████████████████████████████████████████| 50/50 [02:43<00:00,  3.27s/it]\n"
     ]
    },
    {
     "name": "stdout",
     "output_type": "stream",
     "text": [
      "Mean Hausdorff disatnce: 0\n",
      "Model Was Not Saved ! Current Best Avg. Dice: 0.8872852325439453 Current Avg. Dice: 0.8801433444023132\n"
     ]
    },
    {
     "name": "stderr",
     "output_type": "stream",
     "text": [
      "Training (21 / 1000 Steps) (loss=0.91184): 100%|███████████████████████████████████| 1029/1029 [11:00<00:00,  1.56it/s]\n",
      "Validate (loss=0.56300): 100%|█████████████████████████████████████████████████████████| 50/50 [02:41<00:00,  3.23s/it]\n"
     ]
    },
    {
     "name": "stdout",
     "output_type": "stream",
     "text": [
      "Early Stopping patience: 1, best loss: 0.459165820479393, current_loss: 0.46109705567359927\n",
      "Mean Hausdorff disatnce: 0\n",
      "Model Was Saved ! Current Best Avg. Dice: 0.888379693031311 Current Avg. Dice: 0.888379693031311\n"
     ]
    },
    {
     "name": "stderr",
     "output_type": "stream",
     "text": [
      "Training (22 / 1000 Steps) (loss=0.78016): 100%|███████████████████████████████████| 1029/1029 [10:57<00:00,  1.56it/s]\n",
      "Validate (loss=0.55999): 100%|█████████████████████████████████████████████████████████| 50/50 [02:41<00:00,  3.23s/it]\n"
     ]
    },
    {
     "name": "stdout",
     "output_type": "stream",
     "text": [
      "Mean Hausdorff disatnce: 0\n",
      "Model Was Saved ! Current Best Avg. Dice: 0.8909835815429688 Current Avg. Dice: 0.8909835815429688\n"
     ]
    },
    {
     "name": "stderr",
     "output_type": "stream",
     "text": [
      "Training (23 / 1000 Steps) (loss=0.74436): 100%|███████████████████████████████████| 1029/1029 [10:58<00:00,  1.56it/s]\n",
      "Validate (loss=0.55535): 100%|█████████████████████████████████████████████████████████| 50/50 [02:41<00:00,  3.23s/it]\n"
     ]
    },
    {
     "name": "stdout",
     "output_type": "stream",
     "text": [
      "Mean Hausdorff disatnce: 0\n",
      "Model Was Not Saved ! Current Best Avg. Dice: 0.8909835815429688 Current Avg. Dice: 0.888610303401947\n"
     ]
    },
    {
     "name": "stderr",
     "output_type": "stream",
     "text": [
      "Training (24 / 1000 Steps) (loss=0.90549): 100%|███████████████████████████████████| 1029/1029 [10:56<00:00,  1.57it/s]\n",
      "Validate (loss=0.56370): 100%|█████████████████████████████████████████████████████████| 50/50 [02:41<00:00,  3.22s/it]\n"
     ]
    },
    {
     "name": "stdout",
     "output_type": "stream",
     "text": [
      "Mean Hausdorff disatnce: 0\n",
      "Model Was Not Saved ! Current Best Avg. Dice: 0.8909835815429688 Current Avg. Dice: 0.8862614631652832\n"
     ]
    },
    {
     "name": "stderr",
     "output_type": "stream",
     "text": [
      "Training (25 / 1000 Steps) (loss=0.77638): 100%|███████████████████████████████████| 1029/1029 [10:58<00:00,  1.56it/s]\n",
      "Validate (loss=0.55860): 100%|█████████████████████████████████████████████████████████| 50/50 [02:42<00:00,  3.25s/it]\n"
     ]
    },
    {
     "name": "stdout",
     "output_type": "stream",
     "text": [
      "Early Stopping patience: 1, best loss: 0.4509825228154659, current_loss: 0.4505674347281456\n",
      "Mean Hausdorff disatnce: 0\n",
      "Model Was Saved ! Current Best Avg. Dice: 0.8941763043403625 Current Avg. Dice: 0.8941763043403625\n"
     ]
    },
    {
     "name": "stderr",
     "output_type": "stream",
     "text": [
      "Training (26 / 1000 Steps) (loss=0.88575): 100%|███████████████████████████████████| 1029/1029 [10:58<00:00,  1.56it/s]\n",
      "Validate (loss=0.55971): 100%|█████████████████████████████████████████████████████████| 50/50 [02:41<00:00,  3.22s/it]\n"
     ]
    },
    {
     "name": "stdout",
     "output_type": "stream",
     "text": [
      "Mean Hausdorff disatnce: 0\n",
      "Model Was Not Saved ! Current Best Avg. Dice: 0.8941763043403625 Current Avg. Dice: 0.8917784094810486\n"
     ]
    },
    {
     "name": "stderr",
     "output_type": "stream",
     "text": [
      "Training (27 / 1000 Steps) (loss=0.73908): 100%|███████████████████████████████████| 1029/1029 [10:58<00:00,  1.56it/s]\n",
      "Validate (loss=0.55755): 100%|█████████████████████████████████████████████████████████| 50/50 [02:42<00:00,  3.24s/it]\n"
     ]
    },
    {
     "name": "stdout",
     "output_type": "stream",
     "text": [
      "Early Stopping patience: 1, best loss: 0.4480428037047386, current_loss: 0.45007006973028185\n",
      "Mean Hausdorff disatnce: 0\n",
      "Model Was Not Saved ! Current Best Avg. Dice: 0.8941763043403625 Current Avg. Dice: 0.886274516582489\n"
     ]
    },
    {
     "name": "stderr",
     "output_type": "stream",
     "text": [
      "Training (28 / 1000 Steps) (loss=0.73095): 100%|███████████████████████████████████| 1029/1029 [10:58<00:00,  1.56it/s]\n",
      "Validate (loss=0.55086): 100%|█████████████████████████████████████████████████████████| 50/50 [02:43<00:00,  3.26s/it]\n"
     ]
    },
    {
     "name": "stdout",
     "output_type": "stream",
     "text": [
      "Early Stopping patience: 2, best loss: 0.4480428037047386, current_loss: 0.45050801552832126\n",
      "Mean Hausdorff disatnce: 0\n",
      "Model Was Saved ! Current Best Avg. Dice: 0.8965501189231873 Current Avg. Dice: 0.8965501189231873\n"
     ]
    },
    {
     "name": "stderr",
     "output_type": "stream",
     "text": [
      "Training (29 / 1000 Steps) (loss=0.87278): 100%|███████████████████████████████████| 1029/1029 [10:59<00:00,  1.56it/s]\n",
      "Validate (loss=0.57205): 100%|█████████████████████████████████████████████████████████| 50/50 [02:41<00:00,  3.24s/it]\n"
     ]
    },
    {
     "name": "stdout",
     "output_type": "stream",
     "text": [
      "Early Stopping patience: 3, best loss: 0.4480428037047386, current_loss: 0.4574079279601574\n",
      "Mean Hausdorff disatnce: 0\n",
      "Model Was Not Saved ! Current Best Avg. Dice: 0.8965501189231873 Current Avg. Dice: 0.8777433037757874\n"
     ]
    },
    {
     "name": "stderr",
     "output_type": "stream",
     "text": [
      "Training (30 / 1000 Steps) (loss=0.86370): 100%|███████████████████████████████████| 1029/1029 [10:58<00:00,  1.56it/s]\n",
      "Validate (loss=0.54378): 100%|█████████████████████████████████████████████████████████| 50/50 [02:43<00:00,  3.27s/it]\n"
     ]
    },
    {
     "name": "stdout",
     "output_type": "stream",
     "text": [
      "Mean Hausdorff disatnce: 0\n",
      "Model Was Saved ! Current Best Avg. Dice: 0.8997511267662048 Current Avg. Dice: 0.8997511267662048\n"
     ]
    },
    {
     "name": "stderr",
     "output_type": "stream",
     "text": [
      "Training (31 / 1000 Steps) (loss=0.82364): 100%|███████████████████████████████████| 1029/1029 [10:59<00:00,  1.56it/s]\n",
      "Validate (loss=0.54831): 100%|█████████████████████████████████████████████████████████| 50/50 [02:42<00:00,  3.25s/it]\n"
     ]
    },
    {
     "name": "stdout",
     "output_type": "stream",
     "text": [
      "Early Stopping patience: 1, best loss: 0.44186190105974676, current_loss: 0.45144087113440035\n",
      "Mean Hausdorff disatnce: 0\n",
      "Model Was Not Saved ! Current Best Avg. Dice: 0.8997511267662048 Current Avg. Dice: 0.8907964825630188\n"
     ]
    },
    {
     "name": "stderr",
     "output_type": "stream",
     "text": [
      "Training (32 / 1000 Steps) (loss=0.82771): 100%|███████████████████████████████████| 1029/1029 [10:59<00:00,  1.56it/s]\n",
      "Validate (loss=0.54625): 100%|█████████████████████████████████████████████████████████| 50/50 [02:41<00:00,  3.24s/it]\n"
     ]
    },
    {
     "name": "stdout",
     "output_type": "stream",
     "text": [
      "Mean Hausdorff disatnce: 0\n",
      "Model Was Saved ! Current Best Avg. Dice: 0.9069758653640747 Current Avg. Dice: 0.9069758653640747\n"
     ]
    },
    {
     "name": "stderr",
     "output_type": "stream",
     "text": [
      "Training (33 / 1000 Steps) (loss=0.93440): 100%|███████████████████████████████████| 1029/1029 [10:59<00:00,  1.56it/s]\n",
      "Validate (loss=0.54453): 100%|█████████████████████████████████████████████████████████| 50/50 [02:41<00:00,  3.24s/it]\n"
     ]
    },
    {
     "name": "stdout",
     "output_type": "stream",
     "text": [
      "Early Stopping patience: 1, best loss: 0.44041737519204616, current_loss: 0.44010797671973706\n",
      "Mean Hausdorff disatnce: 0\n",
      "Model Was Not Saved ! Current Best Avg. Dice: 0.9069758653640747 Current Avg. Dice: 0.903048574924469\n"
     ]
    },
    {
     "name": "stderr",
     "output_type": "stream",
     "text": [
      "Training (34 / 1000 Steps) (loss=0.83625): 100%|███████████████████████████████████| 1029/1029 [10:59<00:00,  1.56it/s]\n",
      "Validate (loss=0.54664): 100%|█████████████████████████████████████████████████████████| 50/50 [02:41<00:00,  3.23s/it]\n"
     ]
    },
    {
     "name": "stdout",
     "output_type": "stream",
     "text": [
      "Early Stopping patience: 2, best loss: 0.44041737519204616, current_loss: 0.4528277134895325\n",
      "Mean Hausdorff disatnce: 0\n",
      "Model Was Not Saved ! Current Best Avg. Dice: 0.9069758653640747 Current Avg. Dice: 0.8947198987007141\n"
     ]
    },
    {
     "name": "stderr",
     "output_type": "stream",
     "text": [
      "Training (35 / 1000 Steps) (loss=0.76942): 100%|███████████████████████████████████| 1029/1029 [10:59<00:00,  1.56it/s]\n",
      "Validate (loss=0.54366): 100%|█████████████████████████████████████████████████████████| 50/50 [02:42<00:00,  3.25s/it]\n"
     ]
    },
    {
     "name": "stdout",
     "output_type": "stream",
     "text": [
      "Mean Hausdorff disatnce: 0\n",
      "Model Was Not Saved ! Current Best Avg. Dice: 0.9069758653640747 Current Avg. Dice: 0.9036993384361267\n"
     ]
    },
    {
     "name": "stderr",
     "output_type": "stream",
     "text": [
      "Training (36 / 1000 Steps) (loss=0.79870): 100%|███████████████████████████████████| 1029/1029 [10:58<00:00,  1.56it/s]\n",
      "Validate (loss=0.53973): 100%|█████████████████████████████████████████████████████████| 50/50 [02:41<00:00,  3.23s/it]\n"
     ]
    },
    {
     "name": "stdout",
     "output_type": "stream",
     "text": [
      "Mean Hausdorff disatnce: 0\n",
      "Model Was Saved ! Current Best Avg. Dice: 0.9122926592826843 Current Avg. Dice: 0.9122926592826843\n"
     ]
    },
    {
     "name": "stderr",
     "output_type": "stream",
     "text": [
      "Training (37 / 1000 Steps) (loss=0.81846): 100%|███████████████████████████████████| 1029/1029 [10:59<00:00,  1.56it/s]\n",
      "Validate (loss=0.54098): 100%|█████████████████████████████████████████████████████████| 50/50 [02:41<00:00,  3.23s/it]\n"
     ]
    },
    {
     "name": "stdout",
     "output_type": "stream",
     "text": [
      "Early Stopping patience: 1, best loss: 0.4334548520296812, current_loss: 0.4362006738781929\n",
      "Mean Hausdorff disatnce: 0\n",
      "Model Was Not Saved ! Current Best Avg. Dice: 0.9122926592826843 Current Avg. Dice: 0.9031996726989746\n"
     ]
    },
    {
     "name": "stderr",
     "output_type": "stream",
     "text": [
      "Training (38 / 1000 Steps) (loss=0.79619): 100%|███████████████████████████████████| 1029/1029 [10:58<00:00,  1.56it/s]\n",
      "Validate (loss=0.53831): 100%|█████████████████████████████████████████████████████████| 50/50 [02:43<00:00,  3.27s/it]\n"
     ]
    },
    {
     "name": "stdout",
     "output_type": "stream",
     "text": [
      "Early Stopping patience: 2, best loss: 0.4334548520296812, current_loss: 0.43747152186930177\n",
      "Mean Hausdorff disatnce: 0\n",
      "Model Was Not Saved ! Current Best Avg. Dice: 0.9122926592826843 Current Avg. Dice: 0.902640700340271\n"
     ]
    },
    {
     "name": "stderr",
     "output_type": "stream",
     "text": [
      "Training (39 / 1000 Steps) (loss=0.83128): 100%|███████████████████████████████████| 1029/1029 [10:59<00:00,  1.56it/s]\n",
      "Validate (loss=0.54989): 100%|█████████████████████████████████████████████████████████| 50/50 [02:41<00:00,  3.22s/it]\n"
     ]
    },
    {
     "name": "stdout",
     "output_type": "stream",
     "text": [
      "Early Stopping patience: 3, best loss: 0.4334548520296812, current_loss: 0.43640322037041185\n",
      "Mean Hausdorff disatnce: 0\n",
      "Model Was Not Saved ! Current Best Avg. Dice: 0.9122926592826843 Current Avg. Dice: 0.9089027643203735\n"
     ]
    },
    {
     "name": "stderr",
     "output_type": "stream",
     "text": [
      "Training (40 / 1000 Steps) (loss=0.82260): 100%|███████████████████████████████████| 1029/1029 [10:57<00:00,  1.56it/s]\n",
      "Validate (loss=0.54024): 100%|█████████████████████████████████████████████████████████| 50/50 [02:41<00:00,  3.24s/it]\n"
     ]
    },
    {
     "name": "stdout",
     "output_type": "stream",
     "text": [
      "Epoch 00041: reducing learning rate of group 0 to 2.5000e-05.\n",
      "Early Stopping patience: 4, best loss: 0.4334548520296812, current_loss: 0.4355221552401781\n",
      "Mean Hausdorff disatnce: 0\n",
      "Model Was Not Saved ! Current Best Avg. Dice: 0.9122926592826843 Current Avg. Dice: 0.9103712439537048\n"
     ]
    },
    {
     "name": "stderr",
     "output_type": "stream",
     "text": [
      "Training (41 / 1000 Steps) (loss=0.78439): 100%|███████████████████████████████████| 1029/1029 [10:57<00:00,  1.56it/s]\n",
      "Validate (loss=0.53528): 100%|█████████████████████████████████████████████████████████| 50/50 [02:41<00:00,  3.23s/it]\n"
     ]
    },
    {
     "name": "stdout",
     "output_type": "stream",
     "text": [
      "Mean Hausdorff disatnce: 0\n",
      "Model Was Saved ! Current Best Avg. Dice: 0.9194896221160889 Current Avg. Dice: 0.9194896221160889\n"
     ]
    },
    {
     "name": "stderr",
     "output_type": "stream",
     "text": [
      "Training (42 / 1000 Steps) (loss=0.72493): 100%|███████████████████████████████████| 1029/1029 [10:59<00:00,  1.56it/s]\n",
      "Validate (loss=0.53288): 100%|█████████████████████████████████████████████████████████| 50/50 [02:42<00:00,  3.24s/it]\n"
     ]
    },
    {
     "name": "stdout",
     "output_type": "stream",
     "text": [
      "Mean Hausdorff disatnce: 0\n",
      "Model Was Saved ! Current Best Avg. Dice: 0.9198123216629028 Current Avg. Dice: 0.9198123216629028\n"
     ]
    },
    {
     "name": "stderr",
     "output_type": "stream",
     "text": [
      "Training (43 / 1000 Steps) (loss=0.81720): 100%|███████████████████████████████████| 1029/1029 [11:02<00:00,  1.55it/s]\n",
      "Validate (loss=0.53335): 100%|█████████████████████████████████████████████████████████| 50/50 [02:41<00:00,  3.23s/it]\n"
     ]
    },
    {
     "name": "stdout",
     "output_type": "stream",
     "text": [
      "Early Stopping patience: 1, best loss: 0.4254387536644936, current_loss: 0.4251178942620754\n",
      "Mean Hausdorff disatnce: 0\n",
      "Model Was Not Saved ! Current Best Avg. Dice: 0.9198123216629028 Current Avg. Dice: 0.9181300401687622\n"
     ]
    },
    {
     "name": "stderr",
     "output_type": "stream",
     "text": [
      "Training (44 / 1000 Steps) (loss=0.80682): 100%|███████████████████████████████████| 1029/1029 [10:57<00:00,  1.56it/s]\n",
      "Validate (loss=0.53459): 100%|█████████████████████████████████████████████████████████| 50/50 [02:41<00:00,  3.23s/it]\n"
     ]
    },
    {
     "name": "stdout",
     "output_type": "stream",
     "text": [
      "Mean Hausdorff disatnce: 0\n",
      "Model Was Not Saved ! Current Best Avg. Dice: 0.9198123216629028 Current Avg. Dice: 0.9187248349189758\n"
     ]
    },
    {
     "name": "stderr",
     "output_type": "stream",
     "text": [
      "Training (45 / 1000 Steps) (loss=0.86642): 100%|███████████████████████████████████| 1029/1029 [10:57<00:00,  1.57it/s]\n",
      "Validate (loss=0.53107): 100%|█████████████████████████████████████████████████████████| 50/50 [02:42<00:00,  3.25s/it]\n"
     ]
    },
    {
     "name": "stdout",
     "output_type": "stream",
     "text": [
      "Early Stopping patience: 1, best loss: 0.42411425612866877, current_loss: 0.42377580039203167\n",
      "Mean Hausdorff disatnce: 0\n",
      "Model Was Saved ! Current Best Avg. Dice: 0.9204964637756348 Current Avg. Dice: 0.9204964637756348\n"
     ]
    },
    {
     "name": "stderr",
     "output_type": "stream",
     "text": [
      "Training (46 / 1000 Steps) (loss=0.71426): 100%|███████████████████████████████████| 1029/1029 [10:57<00:00,  1.57it/s]\n",
      "Validate (loss=0.53204): 100%|█████████████████████████████████████████████████████████| 50/50 [02:41<00:00,  3.22s/it]\n"
     ]
    },
    {
     "name": "stdout",
     "output_type": "stream",
     "text": [
      "Mean Hausdorff disatnce: 0\n",
      "Model Was Saved ! Current Best Avg. Dice: 0.9231131076812744 Current Avg. Dice: 0.9231131076812744\n"
     ]
    },
    {
     "name": "stderr",
     "output_type": "stream",
     "text": [
      "Training (47 / 1000 Steps) (loss=0.84342): 100%|███████████████████████████████████| 1029/1029 [10:58<00:00,  1.56it/s]\n",
      "Validate (loss=0.53132): 100%|█████████████████████████████████████████████████████████| 50/50 [02:41<00:00,  3.22s/it]\n"
     ]
    },
    {
     "name": "stdout",
     "output_type": "stream",
     "text": [
      "Early Stopping patience: 1, best loss: 0.422986426204443, current_loss: 0.4228514049947262\n",
      "Mean Hausdorff disatnce: 0\n",
      "Model Was Not Saved ! Current Best Avg. Dice: 0.9231131076812744 Current Avg. Dice: 0.919085681438446\n"
     ]
    },
    {
     "name": "stderr",
     "output_type": "stream",
     "text": [
      "Training (48 / 1000 Steps) (loss=0.79859): 100%|███████████████████████████████████| 1029/1029 [10:58<00:00,  1.56it/s]\n",
      "Validate (loss=0.53280): 100%|█████████████████████████████████████████████████████████| 50/50 [02:43<00:00,  3.26s/it]\n"
     ]
    },
    {
     "name": "stdout",
     "output_type": "stream",
     "text": [
      "Early Stopping patience: 2, best loss: 0.422986426204443, current_loss: 0.42270643018186094\n",
      "Mean Hausdorff disatnce: 0\n",
      "Model Was Not Saved ! Current Best Avg. Dice: 0.9231131076812744 Current Avg. Dice: 0.9187152981758118\n"
     ]
    },
    {
     "name": "stderr",
     "output_type": "stream",
     "text": [
      "Training (49 / 1000 Steps) (loss=0.65796): 100%|███████████████████████████████████| 1029/1029 [10:59<00:00,  1.56it/s]\n",
      "Validate (loss=0.53180): 100%|█████████████████████████████████████████████████████████| 50/50 [02:41<00:00,  3.23s/it]\n"
     ]
    },
    {
     "name": "stdout",
     "output_type": "stream",
     "text": [
      "Early Stopping patience: 3, best loss: 0.422986426204443, current_loss: 0.4231237816810608\n",
      "Mean Hausdorff disatnce: 0\n",
      "Model Was Not Saved ! Current Best Avg. Dice: 0.9231131076812744 Current Avg. Dice: 0.9178793430328369\n"
     ]
    },
    {
     "name": "stderr",
     "output_type": "stream",
     "text": [
      "Training (50 / 1000 Steps) (loss=0.77119): 100%|███████████████████████████████████| 1029/1029 [10:59<00:00,  1.56it/s]\n",
      "Validate (loss=0.53070): 100%|█████████████████████████████████████████████████████████| 50/50 [02:42<00:00,  3.25s/it]\n"
     ]
    },
    {
     "name": "stdout",
     "output_type": "stream",
     "text": [
      "Mean Hausdorff disatnce: 0\n",
      "Model Was Not Saved ! Current Best Avg. Dice: 0.9231131076812744 Current Avg. Dice: 0.9228465557098389\n"
     ]
    },
    {
     "name": "stderr",
     "output_type": "stream",
     "text": [
      "Training (51 / 1000 Steps) (loss=0.73882): 100%|███████████████████████████████████| 1029/1029 [10:59<00:00,  1.56it/s]\n",
      "Validate (loss=0.53298): 100%|█████████████████████████████████████████████████████████| 50/50 [02:41<00:00,  3.24s/it]\n"
     ]
    },
    {
     "name": "stdout",
     "output_type": "stream",
     "text": [
      "Early Stopping patience: 1, best loss: 0.42168589025735853, current_loss: 0.42370984800159933\n",
      "Mean Hausdorff disatnce: 0\n",
      "Model Was Not Saved ! Current Best Avg. Dice: 0.9231131076812744 Current Avg. Dice: 0.9168151617050171\n"
     ]
    },
    {
     "name": "stderr",
     "output_type": "stream",
     "text": [
      "Training (52 / 1000 Steps) (loss=0.79083): 100%|███████████████████████████████████| 1029/1029 [10:57<00:00,  1.56it/s]\n",
      "Validate (loss=0.53100): 100%|█████████████████████████████████████████████████████████| 50/50 [02:41<00:00,  3.23s/it]\n"
     ]
    },
    {
     "name": "stdout",
     "output_type": "stream",
     "text": [
      "Early Stopping patience: 2, best loss: 0.42168589025735853, current_loss: 0.42264095060527324\n",
      "Mean Hausdorff disatnce: 0\n",
      "Model Was Not Saved ! Current Best Avg. Dice: 0.9231131076812744 Current Avg. Dice: 0.9183632135391235\n"
     ]
    },
    {
     "name": "stderr",
     "output_type": "stream",
     "text": [
      "Training (53 / 1000 Steps) (loss=0.76584): 100%|███████████████████████████████████| 1029/1029 [10:56<00:00,  1.57it/s]\n",
      "Validate (loss=0.52984): 100%|█████████████████████████████████████████████████████████| 50/50 [02:43<00:00,  3.26s/it]\n"
     ]
    },
    {
     "name": "stdout",
     "output_type": "stream",
     "text": [
      "Early Stopping patience: 3, best loss: 0.42168589025735853, current_loss: 0.4211895895749331\n",
      "Mean Hausdorff disatnce: 0\n",
      "Model Was Saved ! Current Best Avg. Dice: 0.9238883256912231 Current Avg. Dice: 0.9238883256912231\n"
     ]
    },
    {
     "name": "stderr",
     "output_type": "stream",
     "text": [
      "Training (54 / 1000 Steps) (loss=0.73209): 100%|███████████████████████████████████| 1029/1029 [10:57<00:00,  1.56it/s]\n",
      "Validate (loss=0.53048): 100%|█████████████████████████████████████████████████████████| 50/50 [02:43<00:00,  3.27s/it]\n"
     ]
    },
    {
     "name": "stdout",
     "output_type": "stream",
     "text": [
      "Early Stopping patience: 4, best loss: 0.42168589025735853, current_loss: 0.4210436098277569\n",
      "Mean Hausdorff disatnce: 0\n",
      "Model Was Not Saved ! Current Best Avg. Dice: 0.9238883256912231 Current Avg. Dice: 0.9205367565155029\n"
     ]
    },
    {
     "name": "stderr",
     "output_type": "stream",
     "text": [
      "Training (55 / 1000 Steps) (loss=0.78306): 100%|███████████████████████████████████| 1029/1029 [10:59<00:00,  1.56it/s]\n",
      "Validate (loss=0.53056): 100%|█████████████████████████████████████████████████████████| 50/50 [02:42<00:00,  3.26s/it]\n"
     ]
    },
    {
     "name": "stdout",
     "output_type": "stream",
     "text": [
      "Early Stopping patience: 5, best loss: 0.42168589025735853, current_loss: 0.42121920481324193\n",
      "Mean Hausdorff disatnce: 0\n",
      "Model Was Not Saved ! Current Best Avg. Dice: 0.9238883256912231 Current Avg. Dice: 0.9211235046386719\n"
     ]
    },
    {
     "name": "stderr",
     "output_type": "stream",
     "text": [
      "Training (56 / 1000 Steps) (loss=0.66582): 100%|███████████████████████████████████| 1029/1029 [10:58<00:00,  1.56it/s]\n",
      "Validate (loss=0.53105): 100%|█████████████████████████████████████████████████████████| 50/50 [02:41<00:00,  3.23s/it]\n"
     ]
    },
    {
     "name": "stdout",
     "output_type": "stream",
     "text": [
      "Early Stopping patience: 6, best loss: 0.42168589025735853, current_loss: 0.42104178048670293\n",
      "Mean Hausdorff disatnce: 0\n",
      "Model Was Not Saved ! Current Best Avg. Dice: 0.9238883256912231 Current Avg. Dice: 0.9177916049957275\n"
     ]
    },
    {
     "name": "stderr",
     "output_type": "stream",
     "text": [
      "Training (57 / 1000 Steps) (loss=0.87907): 100%|███████████████████████████████████| 1029/1029 [10:59<00:00,  1.56it/s]\n",
      "Validate (loss=0.53004): 100%|█████████████████████████████████████████████████████████| 50/50 [02:41<00:00,  3.24s/it]\n"
     ]
    },
    {
     "name": "stdout",
     "output_type": "stream",
     "text": [
      "Mean Hausdorff disatnce: 0\n",
      "Model Was Not Saved ! Current Best Avg. Dice: 0.9238883256912231 Current Avg. Dice: 0.92108553647995\n"
     ]
    },
    {
     "name": "stderr",
     "output_type": "stream",
     "text": [
      "Training (58 / 1000 Steps) (loss=0.76392): 100%|███████████████████████████████████| 1029/1029 [10:58<00:00,  1.56it/s]\n",
      "Validate (loss=0.53302): 100%|█████████████████████████████████████████████████████████| 50/50 [02:41<00:00,  3.23s/it]\n"
     ]
    },
    {
     "name": "stdout",
     "output_type": "stream",
     "text": [
      "Early Stopping patience: 1, best loss: 0.42039848029613497, current_loss: 0.4223322057723999\n",
      "Mean Hausdorff disatnce: 0\n",
      "Model Was Not Saved ! Current Best Avg. Dice: 0.9238883256912231 Current Avg. Dice: 0.916269838809967\n"
     ]
    },
    {
     "name": "stderr",
     "output_type": "stream",
     "text": [
      "Training (59 / 1000 Steps) (loss=0.86866): 100%|███████████████████████████████████| 1029/1029 [11:00<00:00,  1.56it/s]\n",
      "Validate (loss=0.53112): 100%|█████████████████████████████████████████████████████████| 50/50 [02:41<00:00,  3.24s/it]\n"
     ]
    },
    {
     "name": "stdout",
     "output_type": "stream",
     "text": [
      "Early Stopping patience: 2, best loss: 0.42039848029613497, current_loss: 0.42089120447635653\n",
      "Mean Hausdorff disatnce: 0\n",
      "Model Was Not Saved ! Current Best Avg. Dice: 0.9238883256912231 Current Avg. Dice: 0.9228436350822449\n"
     ]
    },
    {
     "name": "stderr",
     "output_type": "stream",
     "text": [
      "Training (60 / 1000 Steps) (loss=0.89721): 100%|███████████████████████████████████| 1029/1029 [10:58<00:00,  1.56it/s]\n",
      "Validate (loss=0.52943): 100%|█████████████████████████████████████████████████████████| 50/50 [02:41<00:00,  3.24s/it]\n"
     ]
    },
    {
     "name": "stdout",
     "output_type": "stream",
     "text": [
      "Early Stopping patience: 3, best loss: 0.42039848029613497, current_loss: 0.41943728081882\n",
      "Mean Hausdorff disatnce: 0\n",
      "Model Was Not Saved ! Current Best Avg. Dice: 0.9238883256912231 Current Avg. Dice: 0.9222506880760193\n"
     ]
    },
    {
     "name": "stderr",
     "output_type": "stream",
     "text": [
      "Training (61 / 1000 Steps) (loss=0.75673): 100%|███████████████████████████████████| 1029/1029 [10:58<00:00,  1.56it/s]\n",
      "Validate (loss=0.53010): 100%|█████████████████████████████████████████████████████████| 50/50 [02:43<00:00,  3.27s/it]\n"
     ]
    },
    {
     "name": "stdout",
     "output_type": "stream",
     "text": [
      "Early Stopping patience: 4, best loss: 0.42039848029613497, current_loss: 0.4217836432158947\n",
      "Mean Hausdorff disatnce: 0\n",
      "Model Was Not Saved ! Current Best Avg. Dice: 0.9238883256912231 Current Avg. Dice: 0.9213699102401733\n"
     ]
    },
    {
     "name": "stderr",
     "output_type": "stream",
     "text": [
      "Training (62 / 1000 Steps) (loss=0.83860): 100%|███████████████████████████████████| 1029/1029 [10:57<00:00,  1.56it/s]\n",
      "Validate (loss=0.52931): 100%|█████████████████████████████████████████████████████████| 50/50 [02:41<00:00,  3.23s/it]\n"
     ]
    },
    {
     "name": "stdout",
     "output_type": "stream",
     "text": [
      "Early Stopping patience: 5, best loss: 0.42039848029613497, current_loss: 0.4198582915216684\n",
      "Mean Hausdorff disatnce: 0\n",
      "Model Was Not Saved ! Current Best Avg. Dice: 0.9238883256912231 Current Avg. Dice: 0.9226315021514893\n"
     ]
    },
    {
     "name": "stderr",
     "output_type": "stream",
     "text": [
      "Training (63 / 1000 Steps) (loss=0.78291): 100%|███████████████████████████████████| 1029/1029 [10:58<00:00,  1.56it/s]\n",
      "Validate (loss=0.52877): 100%|█████████████████████████████████████████████████████████| 50/50 [02:42<00:00,  3.24s/it]\n"
     ]
    },
    {
     "name": "stdout",
     "output_type": "stream",
     "text": [
      "Mean Hausdorff disatnce: 0\n",
      "Model Was Saved ! Current Best Avg. Dice: 0.9265490770339966 Current Avg. Dice: 0.9265490770339966\n"
     ]
    },
    {
     "name": "stderr",
     "output_type": "stream",
     "text": [
      "Training (64 / 1000 Steps) (loss=0.73743): 100%|███████████████████████████████████| 1029/1029 [10:58<00:00,  1.56it/s]\n",
      "Validate (loss=0.52889): 100%|█████████████████████████████████████████████████████████| 50/50 [02:42<00:00,  3.26s/it]\n"
     ]
    },
    {
     "name": "stdout",
     "output_type": "stream",
     "text": [
      "Early Stopping patience: 1, best loss: 0.41804070085287093, current_loss: 0.41775745525956154\n",
      "Mean Hausdorff disatnce: 0\n",
      "Model Was Saved ! Current Best Avg. Dice: 0.928510844707489 Current Avg. Dice: 0.928510844707489\n"
     ]
    },
    {
     "name": "stderr",
     "output_type": "stream",
     "text": [
      "Training (65 / 1000 Steps) (loss=0.89364): 100%|███████████████████████████████████| 1029/1029 [10:58<00:00,  1.56it/s]\n",
      "Validate (loss=0.52971): 100%|█████████████████████████████████████████████████████████| 50/50 [02:42<00:00,  3.26s/it]\n"
     ]
    },
    {
     "name": "stdout",
     "output_type": "stream",
     "text": [
      "Early Stopping patience: 2, best loss: 0.41804070085287093, current_loss: 0.4195054421573877\n",
      "Mean Hausdorff disatnce: 0\n",
      "Model Was Not Saved ! Current Best Avg. Dice: 0.928510844707489 Current Avg. Dice: 0.9230915307998657\n"
     ]
    },
    {
     "name": "stderr",
     "output_type": "stream",
     "text": [
      "Training (66 / 1000 Steps) (loss=0.81173): 100%|███████████████████████████████████| 1029/1029 [10:59<00:00,  1.56it/s]\n",
      "Validate (loss=0.52974): 100%|█████████████████████████████████████████████████████████| 50/50 [02:41<00:00,  3.24s/it]\n"
     ]
    },
    {
     "name": "stdout",
     "output_type": "stream",
     "text": [
      "Early Stopping patience: 3, best loss: 0.41804070085287093, current_loss: 0.4187193502485752\n",
      "Mean Hausdorff disatnce: 0\n",
      "Model Was Not Saved ! Current Best Avg. Dice: 0.928510844707489 Current Avg. Dice: 0.926774263381958\n"
     ]
    },
    {
     "name": "stderr",
     "output_type": "stream",
     "text": [
      "Training (67 / 1000 Steps) (loss=0.71427): 100%|███████████████████████████████████| 1029/1029 [10:58<00:00,  1.56it/s]\n",
      "Validate (loss=0.52804): 100%|█████████████████████████████████████████████████████████| 50/50 [02:41<00:00,  3.24s/it]\n"
     ]
    },
    {
     "name": "stdout",
     "output_type": "stream",
     "text": [
      "Early Stopping patience: 4, best loss: 0.41804070085287093, current_loss: 0.4178958769142628\n",
      "Mean Hausdorff disatnce: 0\n",
      "Model Was Not Saved ! Current Best Avg. Dice: 0.928510844707489 Current Avg. Dice: 0.9267098903656006\n"
     ]
    },
    {
     "name": "stderr",
     "output_type": "stream",
     "text": [
      "Training (68 / 1000 Steps) (loss=0.79864): 100%|███████████████████████████████████| 1029/1029 [10:57<00:00,  1.57it/s]\n",
      "Validate (loss=0.52769): 100%|█████████████████████████████████████████████████████████| 50/50 [02:41<00:00,  3.23s/it]\n"
     ]
    },
    {
     "name": "stdout",
     "output_type": "stream",
     "text": [
      "Early Stopping patience: 5, best loss: 0.41804070085287093, current_loss: 0.417449401691556\n",
      "Mean Hausdorff disatnce: 0\n",
      "Model Was Not Saved ! Current Best Avg. Dice: 0.928510844707489 Current Avg. Dice: 0.9263697862625122\n"
     ]
    },
    {
     "name": "stderr",
     "output_type": "stream",
     "text": [
      "Training (69 / 1000 Steps) (loss=0.79994): 100%|███████████████████████████████████| 1029/1029 [10:57<00:00,  1.57it/s]\n",
      "Validate (loss=0.52865): 100%|█████████████████████████████████████████████████████████| 50/50 [02:41<00:00,  3.23s/it]\n"
     ]
    },
    {
     "name": "stdout",
     "output_type": "stream",
     "text": [
      "Early Stopping patience: 6, best loss: 0.41804070085287093, current_loss: 0.4181742599606514\n",
      "Mean Hausdorff disatnce: 0\n",
      "Model Was Not Saved ! Current Best Avg. Dice: 0.928510844707489 Current Avg. Dice: 0.9253952503204346\n"
     ]
    },
    {
     "name": "stderr",
     "output_type": "stream",
     "text": [
      "Training (70 / 1000 Steps) (loss=0.73012): 100%|███████████████████████████████████| 1029/1029 [10:57<00:00,  1.56it/s]\n",
      "Validate (loss=0.52936): 100%|█████████████████████████████████████████████████████████| 50/50 [02:42<00:00,  3.24s/it]\n"
     ]
    },
    {
     "name": "stdout",
     "output_type": "stream",
     "text": [
      "Early Stopping patience: 7, best loss: 0.41804070085287093, current_loss: 0.4194840294867754\n",
      "Mean Hausdorff disatnce: 0\n",
      "Model Was Not Saved ! Current Best Avg. Dice: 0.928510844707489 Current Avg. Dice: 0.9245223999023438\n"
     ]
    },
    {
     "name": "stderr",
     "output_type": "stream",
     "text": [
      "Training (71 / 1000 Steps) (loss=0.76514): 100%|███████████████████████████████████| 1029/1029 [10:57<00:00,  1.56it/s]\n",
      "Validate (loss=0.53105): 100%|█████████████████████████████████████████████████████████| 50/50 [02:41<00:00,  3.23s/it]\n"
     ]
    },
    {
     "name": "stdout",
     "output_type": "stream",
     "text": [
      "Early Stopping patience: 8, best loss: 0.41804070085287093, current_loss: 0.41978326737880706\n",
      "Mean Hausdorff disatnce: 0\n",
      "Model Was Not Saved ! Current Best Avg. Dice: 0.928510844707489 Current Avg. Dice: 0.9249545335769653\n"
     ]
    },
    {
     "name": "stderr",
     "output_type": "stream",
     "text": [
      "Training (72 / 1000 Steps) (loss=0.83831): 100%|███████████████████████████████████| 1029/1029 [10:57<00:00,  1.57it/s]\n",
      "Validate (loss=0.52908): 100%|█████████████████████████████████████████████████████████| 50/50 [02:41<00:00,  3.23s/it]\n"
     ]
    },
    {
     "name": "stdout",
     "output_type": "stream",
     "text": [
      "Epoch 00073: reducing learning rate of group 0 to 6.2500e-06.\n",
      "Early Stopping patience: 9, best loss: 0.41804070085287093, current_loss: 0.418322731629014\n",
      "Mean Hausdorff disatnce: 0\n",
      "Model Was Not Saved ! Current Best Avg. Dice: 0.928510844707489 Current Avg. Dice: 0.9225622415542603\n"
     ]
    },
    {
     "name": "stderr",
     "output_type": "stream",
     "text": [
      "Training (73 / 1000 Steps) (loss=0.78129): 100%|███████████████████████████████████| 1029/1029 [10:58<00:00,  1.56it/s]\n",
      "Validate (loss=0.52702): 100%|█████████████████████████████████████████████████████████| 50/50 [02:41<00:00,  3.24s/it]\n"
     ]
    },
    {
     "name": "stdout",
     "output_type": "stream",
     "text": [
      "Mean Hausdorff disatnce: 0\n",
      "Model Was Not Saved ! Current Best Avg. Dice: 0.928510844707489 Current Avg. Dice: 0.9261771440505981\n"
     ]
    },
    {
     "name": "stderr",
     "output_type": "stream",
     "text": [
      "Training (74 / 1000 Steps) (loss=0.70982): 100%|███████████████████████████████████| 1029/1029 [10:59<00:00,  1.56it/s]\n",
      "Validate (loss=0.52687): 100%|█████████████████████████████████████████████████████████| 50/50 [02:41<00:00,  3.23s/it]\n"
     ]
    },
    {
     "name": "stdout",
     "output_type": "stream",
     "text": [
      "Early Stopping patience: 1, best loss: 0.4168455392867327, current_loss: 0.41672961696982386\n",
      "Mean Hausdorff disatnce: 0\n",
      "Model Was Not Saved ! Current Best Avg. Dice: 0.928510844707489 Current Avg. Dice: 0.9263591170310974\n"
     ]
    },
    {
     "name": "stderr",
     "output_type": "stream",
     "text": [
      "Training (75 / 1000 Steps) (loss=0.91564): 100%|███████████████████████████████████| 1029/1029 [11:00<00:00,  1.56it/s]\n",
      "Validate (loss=0.52700): 100%|█████████████████████████████████████████████████████████| 50/50 [02:41<00:00,  3.24s/it]\n"
     ]
    },
    {
     "name": "stdout",
     "output_type": "stream",
     "text": [
      "Mean Hausdorff disatnce: 0\n",
      "Model Was Saved ! Current Best Avg. Dice: 0.9288891553878784 Current Avg. Dice: 0.9288891553878784\n"
     ]
    },
    {
     "name": "stderr",
     "output_type": "stream",
     "text": [
      "Training (76 / 1000 Steps) (loss=0.72568): 100%|███████████████████████████████████| 1029/1029 [11:05<00:00,  1.55it/s]\n",
      "Validate (loss=0.52690): 100%|█████████████████████████████████████████████████████████| 50/50 [02:43<00:00,  3.27s/it]\n"
     ]
    },
    {
     "name": "stdout",
     "output_type": "stream",
     "text": [
      "Early Stopping patience: 1, best loss: 0.4158307248353958, current_loss: 0.4161487165093422\n",
      "Mean Hausdorff disatnce: 0\n",
      "Model Was Not Saved ! Current Best Avg. Dice: 0.9288891553878784 Current Avg. Dice: 0.9288462996482849\n"
     ]
    },
    {
     "name": "stderr",
     "output_type": "stream",
     "text": [
      "Training (77 / 1000 Steps) (loss=0.83178): 100%|███████████████████████████████████| 1029/1029 [11:28<00:00,  1.49it/s]\n",
      "Validate (loss=0.52650): 100%|█████████████████████████████████████████████████████████| 50/50 [02:42<00:00,  3.26s/it]\n"
     ]
    },
    {
     "name": "stdout",
     "output_type": "stream",
     "text": [
      "Early Stopping patience: 2, best loss: 0.4158307248353958, current_loss: 0.41569420248270034\n",
      "Mean Hausdorff disatnce: 0\n",
      "Model Was Not Saved ! Current Best Avg. Dice: 0.9288891553878784 Current Avg. Dice: 0.9279739856719971\n"
     ]
    },
    {
     "name": "stderr",
     "output_type": "stream",
     "text": [
      "Training (78 / 1000 Steps) (loss=0.72404): 100%|███████████████████████████████████| 1029/1029 [10:58<00:00,  1.56it/s]\n",
      "Validate (loss=0.52761): 100%|█████████████████████████████████████████████████████████| 50/50 [02:40<00:00,  3.22s/it]\n"
     ]
    },
    {
     "name": "stdout",
     "output_type": "stream",
     "text": [
      "Early Stopping patience: 3, best loss: 0.4158307248353958, current_loss: 0.4169538664072752\n",
      "Mean Hausdorff disatnce: 0\n",
      "Model Was Not Saved ! Current Best Avg. Dice: 0.9288891553878784 Current Avg. Dice: 0.9244279265403748\n"
     ]
    },
    {
     "name": "stderr",
     "output_type": "stream",
     "text": [
      "Training (79 / 1000 Steps) (loss=0.72169): 100%|███████████████████████████████████| 1029/1029 [10:57<00:00,  1.56it/s]\n",
      "Validate (loss=0.52747): 100%|█████████████████████████████████████████████████████████| 50/50 [02:41<00:00,  3.23s/it]\n"
     ]
    },
    {
     "name": "stdout",
     "output_type": "stream",
     "text": [
      "Early Stopping patience: 4, best loss: 0.4158307248353958, current_loss: 0.4163897228240967\n",
      "Mean Hausdorff disatnce: 0\n",
      "Model Was Not Saved ! Current Best Avg. Dice: 0.9288891553878784 Current Avg. Dice: 0.9251040816307068\n"
     ]
    },
    {
     "name": "stderr",
     "output_type": "stream",
     "text": [
      "Training (80 / 1000 Steps) (loss=0.90267): 100%|███████████████████████████████████| 1029/1029 [10:57<00:00,  1.56it/s]\n",
      "Validate (loss=0.52689): 100%|█████████████████████████████████████████████████████████| 50/50 [02:42<00:00,  3.25s/it]\n"
     ]
    },
    {
     "name": "stdout",
     "output_type": "stream",
     "text": [
      "Early Stopping patience: 5, best loss: 0.4158307248353958, current_loss: 0.41605156503617763\n",
      "Mean Hausdorff disatnce: 0\n",
      "Model Was Not Saved ! Current Best Avg. Dice: 0.9288891553878784 Current Avg. Dice: 0.927227795124054\n"
     ]
    },
    {
     "name": "stderr",
     "output_type": "stream",
     "text": [
      "Training (81 / 1000 Steps) (loss=0.86460): 100%|███████████████████████████████████| 1029/1029 [10:58<00:00,  1.56it/s]\n",
      "Validate (loss=0.52671): 100%|█████████████████████████████████████████████████████████| 50/50 [02:43<00:00,  3.27s/it]\n"
     ]
    },
    {
     "name": "stdout",
     "output_type": "stream",
     "text": [
      "Epoch 00082: reducing learning rate of group 0 to 1.5625e-06.\n",
      "Early Stopping patience: 6, best loss: 0.4158307248353958, current_loss: 0.41570407316088676\n",
      "Mean Hausdorff disatnce: 0\n",
      "Model Was Not Saved ! Current Best Avg. Dice: 0.9288891553878784 Current Avg. Dice: 0.9281065464019775\n"
     ]
    },
    {
     "name": "stderr",
     "output_type": "stream",
     "text": [
      "Training (82 / 1000 Steps) (loss=0.75273): 100%|███████████████████████████████████| 1029/1029 [10:59<00:00,  1.56it/s]\n",
      "Validate (loss=0.52712): 100%|█████████████████████████████████████████████████████████| 50/50 [02:41<00:00,  3.23s/it]\n"
     ]
    },
    {
     "name": "stdout",
     "output_type": "stream",
     "text": [
      "Early Stopping patience: 7, best loss: 0.4158307248353958, current_loss: 0.41600507237017154\n",
      "Mean Hausdorff disatnce: 0\n",
      "Model Was Not Saved ! Current Best Avg. Dice: 0.9288891553878784 Current Avg. Dice: 0.9253808856010437\n"
     ]
    },
    {
     "name": "stderr",
     "output_type": "stream",
     "text": [
      "Training (83 / 1000 Steps) (loss=0.70224): 100%|███████████████████████████████████| 1029/1029 [10:58<00:00,  1.56it/s]\n",
      "Validate (loss=0.52671): 100%|█████████████████████████████████████████████████████████| 50/50 [02:41<00:00,  3.23s/it]\n"
     ]
    },
    {
     "name": "stdout",
     "output_type": "stream",
     "text": [
      "Early Stopping patience: 8, best loss: 0.4158307248353958, current_loss: 0.415686376914382\n",
      "Mean Hausdorff disatnce: 0\n",
      "Model Was Not Saved ! Current Best Avg. Dice: 0.9288891553878784 Current Avg. Dice: 0.9266483783721924\n"
     ]
    },
    {
     "name": "stderr",
     "output_type": "stream",
     "text": [
      "Training (84 / 1000 Steps) (loss=0.78733): 100%|███████████████████████████████████| 1029/1029 [10:58<00:00,  1.56it/s]\n",
      "Validate (loss=0.52673): 100%|█████████████████████████████████████████████████████████| 50/50 [02:41<00:00,  3.23s/it]\n"
     ]
    },
    {
     "name": "stdout",
     "output_type": "stream",
     "text": [
      "Early Stopping patience: 9, best loss: 0.4158307248353958, current_loss: 0.41559553243219854\n",
      "Mean Hausdorff disatnce: 0\n",
      "Model Was Not Saved ! Current Best Avg. Dice: 0.9288891553878784 Current Avg. Dice: 0.9264434576034546\n"
     ]
    },
    {
     "name": "stderr",
     "output_type": "stream",
     "text": [
      "Training (85 / 1000 Steps) (loss=0.79876): 100%|███████████████████████████████████| 1029/1029 [10:57<00:00,  1.56it/s]\n",
      "Validate (loss=0.52663): 100%|█████████████████████████████████████████████████████████| 50/50 [02:42<00:00,  3.26s/it]"
     ]
    },
    {
     "name": "stdout",
     "output_type": "stream",
     "text": [
      "Early Stopping patience: 10, best loss: 0.4158307248353958, current_loss: 0.4153877253830433\n",
      "Mean Hausdorff disatnce: 0\n",
      "Model Was Not Saved ! Current Best Avg. Dice: 0.9288891553878784 Current Avg. Dice: 0.9268079996109009\n"
     ]
    },
    {
     "name": "stderr",
     "output_type": "stream",
     "text": [
      "\n"
     ]
    }
   ],
   "source": [
    "torch.backends.cudnn.benchmark = True\n",
    "swin_trainer.train(train_loader, val_loader)"
   ]
  },
  {
   "cell_type": "code",
   "execution_count": 12,
   "id": "b7eb7fc4",
   "metadata": {},
   "outputs": [
    {
     "data": {
      "image/png": "[encoded data removed]",
      "text/plain": [
       "<Figure size 1200x600 with 2 Axes>"
      ]
     },
     "metadata": {},
     "output_type": "display_data"
    }
   ],
   "source": [
    "swin_trainer.plot_train_info()"
   ]
  },
  {
   "cell_type": "code",
   "execution_count": 9,
   "id": "48463085",
   "metadata": {},
   "outputs": [],
   "source": [
    "file_list_test = generate_file_path(root_path=f'{root_dataset}/test', label_name=label_name)\n",
    "test_ds = PersistentDataset(\n",
    "    data=file_list_test,\n",
    "    transform=val_transforms,\n",
    "    cache_dir=f'test_{task_name}'\n",
    "#     cache_dir='C:/Training/val'\n",
    ")\n",
    "\n",
    "test_loader = DataLoader(test_ds, num_workers=0, batch_size=1, \n",
    "                              collate_fn=lambda x: pad_list_data_collate(x, pad_to_shape=(96, 96, 96)))"
   ]
  },
  {
   "cell_type": "code",
   "execution_count": 10,
   "id": "a4ce1171",
   "metadata": {},
   "outputs": [],
   "source": [
    "torch.cuda.empty_cache()"
   ]
  },
  {
   "cell_type": "code",
   "execution_count": 11,
   "id": "04f24257",
   "metadata": {},
   "outputs": [
    {
     "name": "stderr",
     "output_type": "stream",
     "text": [
      "Test:   0%|                                                                                     | 0/65 [00:00<?, ?it/s]None of the inputs have requires_grad=True. Gradients will be None\n",
      "invalid value encountered in double_scalars\n",
      "torch.cuda.reset_max_memory_allocated now calls torch.cuda.reset_peak_memory_stats, which resets /all/ peak memory stats.\n",
      "Test (loss=0.29084): 100%|█████████████████████████████████████████████████████████████| 65/65 [14:11<00:00, 13.10s/it]\n"
     ]
    },
    {
     "data": {
      "text/plain": [
       "([0.7892915089163011,\n",
       "  0.7155436440143409,\n",
       "  0.801708127700061,\n",
       "  0.8178006652919346,\n",
       "  0.8541907461971645,\n",
       "  0.8690073566620362,\n",
       "  0.8947272261814334,\n",
       "  0.9171287301720974,\n",
       "  0.9597867075571912,\n",
       "  0.960381136668014,\n",
       "  0.9313340697330506,\n",
       "  0.9678918204167608,\n",
       "  0.968088302696588,\n",
       "  0.9612693448296317,\n",
       "  0.9623796915508464,\n",
       "  0.9347848659634597,\n",
       "  0.9210235343793775,\n",
       "  0.9633308268585071,\n",
       "  0.9559121305693205,\n",
       "  0.8645828944349028,\n",
       "  0.9263425864996758],\n",
       " [36.247193804242954,\n",
       "  34.82570689137403,\n",
       "  35.5880052931754,\n",
       "  33.4537296007778,\n",
       "  31.032287246208963,\n",
       "  28.229830567442033,\n",
       "  23.467688439182695,\n",
       "  21.394159016116923,\n",
       "  14.497348150861203,\n",
       "  14.503610775237332,\n",
       "  19.936558891423818,\n",
       "  2.0612076403060606,\n",
       "  2.462945872621904,\n",
       "  1.7354776501021556,\n",
       "  1.4784949965346283,\n",
       "  2.490849676193703,\n",
       "  14.342396519276402,\n",
       "  2.575942576120985,\n",
       "  6.9620293100707915,\n",
       "  26.121102789152317,\n",
       "  14.69262528846748],\n",
       " [0.8055631805866157,\n",
       "  0.8424794276296789,\n",
       "  0.8250032191714339,\n",
       "  0.8496241492081366,\n",
       "  0.8762259590095149,\n",
       "  0.8962386791514244,\n",
       "  0.8974144410773436,\n",
       "  0.9230586191387922,\n",
       "  0.9721594253556464,\n",
       "  0.9728473570214291,\n",
       "  0.9527016369831386,\n",
       "  0.985876313194419,\n",
       "  0.9814972120006417,\n",
       "  0.991807054148915,\n",
       "  0.9903453842999421,\n",
       "  0.9916358524264711,\n",
       "  0.9690721098006836,\n",
       "  0.9944960049960431,\n",
       "  0.9855985777417507,\n",
       "  0.9142265989866682,\n",
       "  0.9757150399323706],\n",
       " [37.26806484366438,\n",
       "  30.27595988363401,\n",
       "  36.611899170152526,\n",
       "  34.721724406346496,\n",
       "  31.834830022774536,\n",
       "  29.109230429914085,\n",
       "  24.271751774404184,\n",
       "  21.889170734424024,\n",
       "  14.722762789723317,\n",
       "  14.699001176527418,\n",
       "  20.32448186276618,\n",
       "  2.7997297785983135,\n",
       "  4.669060802491462,\n",
       "  1.2166902060079694,\n",
       "  1.562623492396157,\n",
       "  1.6432572035112194,\n",
       "  15.016814626327369,\n",
       "  1.532665746707338,\n",
       "  6.0932547686551635,\n",
       "  26.156924520917734,\n",
       "  13.829411167456481],\n",
       " 0.3467037909306013)"
      ]
     },
     "execution_count": 11,
     "metadata": {},
     "output_type": "execute_result"
    }
   ],
   "source": [
    "torch.cuda.empty_cache()\n",
    "swin_trainer.test_new(test_loader)"
   ]
  },
  {
   "cell_type": "code",
   "execution_count": null,
   "id": "85ba1ec3",
   "metadata": {},
   "outputs": [],
   "source": [
    "for t in train_loader:\n",
    "    if t['label'].max() == 0:\n",
    "        print(t['label'].min(), t['label'].max() == 0)\n",
    "    break"
   ]
  }
 ],
 "metadata": {
  "kernelspec": {
   "display_name": "Python (DeepLearningFinalProject)",
   "language": "python",
   "name": "myenv"
  },
  "language_info": {
   "codemirror_mode": {
    "name": "ipython",
    "version": 3
   },
   "file_extension": ".py",
   "mimetype": "text/x-python",
   "name": "python",
   "nbconvert_exporter": "python",
   "pygments_lexer": "ipython3",
   "version": "3.9.7"
  }
 },
 "nbformat": 4,
 "nbformat_minor": 5
}
