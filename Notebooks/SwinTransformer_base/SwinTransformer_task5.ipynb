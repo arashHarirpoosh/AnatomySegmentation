{
 "cells": [
  {
   "cell_type": "code",
   "execution_count": 1,
   "id": "c5a3913e",
   "metadata": {},
   "outputs": [
    {
     "name": "stdout",
     "output_type": "stream",
     "text": [
      "MONAI version: 1.2.dev2313\n",
      "Numpy version: 1.23.5\n",
      "Pytorch version: 2.0.0+cu118\n",
      "MONAI flags: HAS_EXT = False, USE_COMPILED = False, USE_META_DICT = False\n",
      "MONAI rev id: 331437dfce075b4fa5785016ad4e7f8c7c77ad21\n",
      "MONAI __file__: D:\\Arash\\Semester2\\DeepLearning\\FinalProject\\venv\\lib\\site-packages\\monai\\__init__.py\n",
      "\n",
      "Optional dependencies:\n",
      "Pytorch Ignite version: 0.4.11\n",
      "ITK version: 5.3.0\n",
      "Nibabel version: 5.0.1\n",
      "scikit-image version: 0.20.0\n",
      "Pillow version: 9.4.0\n",
      "Tensorboard version: 2.12.0\n",
      "gdown version: 4.7.1\n",
      "TorchVision version: 0.15.1+cu118\n",
      "tqdm version: 4.65.0\n",
      "lmdb version: 1.4.0\n",
      "psutil version: 5.9.4\n",
      "pandas version: 1.5.3\n",
      "einops version: 0.6.0\n",
      "transformers version: 4.27.3\n",
      "mlflow version: 2.2.2\n",
      "pynrrd version: 1.0.0\n",
      "\n",
      "For details about installing the optional dependencies, please visit:\n",
      "    https://docs.monai.io/en/latest/installation.html#installing-the-recommended-dependencies\n",
      "\n"
     ]
    }
   ],
   "source": [
    "import os\n",
    "import torch\n",
    "from trainer import Trainer\n",
    "\n",
    "from Preprocessing import (\n",
    "    filter_collate_fn,\n",
    "    generate_file_path,\n",
    "    get_train_transform,\n",
    "    get_validation_transform\n",
    ")\n",
    "\n",
    "from monai.data import (\n",
    "    DataLoader,\n",
    "    ThreadDataLoader,\n",
    "    SmartCacheDataset,\n",
    "    PersistentDataset,\n",
    "    load_decathlon_datalist,\n",
    "    decollate_batch,\n",
    "    set_track_meta,\n",
    ")\n",
    "\n",
    "from monai.losses import DiceCELoss\n",
    "\n",
    "from monai.networks.nets import SwinUNETR\n",
    "from map_to_binary import class_map_5_parts\n",
    "from monai.data.utils import pad_list_data_collate\n"
   ]
  },
  {
   "cell_type": "code",
   "execution_count": 2,
   "id": "1dc77eac",
   "metadata": {},
   "outputs": [],
   "source": [
    "task_name = 'vertebrae'\n",
    "val_transforms = get_validation_transform()\n",
    "train_transforms = get_train_transform(num_samples=4)"
   ]
  },
  {
   "cell_type": "markdown",
   "id": "0413decb",
   "metadata": {},
   "source": [
    "# Load Dataset"
   ]
  },
  {
   "cell_type": "code",
   "execution_count": 3,
   "id": "ff9d9330",
   "metadata": {},
   "outputs": [],
   "source": [
    "root_dataset = 'DatasetCombined'\n",
    "label_name = f'labels_task_{task_name}'"
   ]
  },
  {
   "cell_type": "code",
   "execution_count": null,
   "id": "440d43fc",
   "metadata": {},
   "outputs": [],
   "source": [
    "file_list_val = generate_file_path(root_path=f'{root_dataset}/val', label_name=label_name)\n",
    "file_list_train = generate_file_path(root_path=f'{root_dataset}/train', label_name=label_name)"
   ]
  },
  {
   "cell_type": "code",
   "execution_count": 5,
   "id": "95cfe5f7",
   "metadata": {},
   "outputs": [],
   "source": [
    "train_ds = PersistentDataset(\n",
    "    data=file_list_train,\n",
    "    transform=train_transforms,\n",
    "    cache_dir=f'C:/Training/train_{task_name}'\n",
    ")\n",
    "\n",
    "train_loader = ThreadDataLoader(train_ds, batch_size=1, shuffle=True,\n",
    "                                collate_fn=lambda x: pad_list_data_collate(x, pad_to_shape=(96, 96, 96))\n",
    "                               )"
   ]
  },
  {
   "cell_type": "code",
   "execution_count": 6,
   "id": "848ee03c",
   "metadata": {},
   "outputs": [],
   "source": [
    "val_ds = PersistentDataset(\n",
    "    data=file_list_val,\n",
    "    transform=val_transforms,\n",
    "    cache_dir=f'val_{task_name}'\n",
    "#     cache_dir='C:/Training/val'\n",
    ")\n",
    "\n",
    "val_loader = DataLoader(val_ds, batch_size=1, num_workers=0,\n",
    "                              collate_fn=lambda x: pad_list_data_collate(x, pad_to_shape=(96, 96, 96)))"
   ]
  },
  {
   "cell_type": "code",
   "execution_count": 4,
   "id": "fc0492cb",
   "metadata": {},
   "outputs": [
    {
     "data": {
      "text/plain": [
       "25"
      ]
     },
     "execution_count": 4,
     "metadata": {},
     "output_type": "execute_result"
    }
   ],
   "source": [
    "num_of_classes = len(class_map_5_parts[f'class_map_part_{task_name}']) + 1\n",
    "num_of_classes"
   ]
  },
  {
   "cell_type": "markdown",
   "id": "48a8360d",
   "metadata": {},
   "source": [
    "# Model"
   ]
  },
  {
   "cell_type": "code",
   "execution_count": 5,
   "id": "b88096e2",
   "metadata": {},
   "outputs": [],
   "source": [
    "root_dir = 'Model'\n",
    "model_folder = os.path.join(root_dir, f'SwinTransformer_{task_name}')\n",
    "if not os.path.isdir(model_folder):\n",
    "    os.makedirs(model_folder)"
   ]
  },
  {
   "cell_type": "code",
   "execution_count": 6,
   "id": "2a65e1c5",
   "metadata": {},
   "outputs": [],
   "source": [
    "model = SwinUNETR(\n",
    "    img_size=(96, 96, 96),\n",
    "    in_channels=1,\n",
    "    out_channels=num_of_classes,\n",
    "    feature_size=48,\n",
    "#     drop_rate=0.25,\n",
    "    use_checkpoint=True,\n",
    ")"
   ]
  },
  {
   "cell_type": "code",
   "execution_count": 7,
   "id": "cd7abd6a",
   "metadata": {},
   "outputs": [],
   "source": [
    "loss_function = DiceCELoss(to_onehot_y=True, softmax=True, lambda_dice=1, lambda_ce=1)\n",
    "optimizer = torch.optim.AdamW(model.parameters(), lr=1e-4, weight_decay=1e-5)"
   ]
  },
  {
   "cell_type": "code",
   "execution_count": 8,
   "id": "39db20ba",
   "metadata": {},
   "outputs": [],
   "source": [
    "swin_trainer = Trainer(\n",
    "    model=model,\n",
    "    max_epoch=1000,\n",
    "    optimizer=optimizer,\n",
    "    num_samples=4,\n",
    "    loss_function=loss_function,\n",
    "    model_root_path=model_folder,\n",
    "    number_of_classes=num_of_classes,\n",
    "    )\n",
    "swin_trainer.load_weights()"
   ]
  },
  {
   "cell_type": "code",
   "execution_count": 12,
   "id": "04730486",
   "metadata": {},
   "outputs": [
    {
     "name": "stderr",
     "output_type": "stream",
     "text": [
      "Training (0 / 1000 Steps) (loss=1.19132): 100%|████████████████████████████████████| 1044/1044 [11:56<00:00,  1.46it/s]\n",
      "Validate:   0%|                                                                                 | 0/55 [00:00<?, ?it/s]None of the inputs have requires_grad=True. Gradients will be None\n",
      "Validate (loss=1.04182): 100%|█████████████████████████████████████████████████████████| 55/55 [02:54<00:00,  3.18s/it]\n"
     ]
    },
    {
     "name": "stdout",
     "output_type": "stream",
     "text": [
      "Mean Hausdorff disatnce: 0\n",
      "Model Was Saved ! Current Best Avg. Dice: 0.03166110813617706 Current Avg. Dice: 0.03166110813617706\n"
     ]
    },
    {
     "name": "stderr",
     "output_type": "stream",
     "text": [
      "Training (1 / 1000 Steps) (loss=1.06239): 100%|████████████████████████████████████| 1044/1044 [11:08<00:00,  1.56it/s]\n",
      "Validate (loss=0.94803): 100%|█████████████████████████████████████████████████████████| 55/55 [02:49<00:00,  3.08s/it]\n"
     ]
    },
    {
     "name": "stdout",
     "output_type": "stream",
     "text": [
      "Mean Hausdorff disatnce: 0\n",
      "Model Was Saved ! Current Best Avg. Dice: 0.167502298951149 Current Avg. Dice: 0.167502298951149\n"
     ]
    },
    {
     "name": "stderr",
     "output_type": "stream",
     "text": [
      "Training (2 / 1000 Steps) (loss=0.99722): 100%|████████████████████████████████████| 1044/1044 [11:10<00:00,  1.56it/s]\n",
      "Validate (loss=0.91206): 100%|█████████████████████████████████████████████████████████| 55/55 [02:51<00:00,  3.11s/it]\n"
     ]
    },
    {
     "name": "stdout",
     "output_type": "stream",
     "text": [
      "Mean Hausdorff disatnce: 0\n",
      "Model Was Saved ! Current Best Avg. Dice: 0.2578611671924591 Current Avg. Dice: 0.2578611671924591\n"
     ]
    },
    {
     "name": "stderr",
     "output_type": "stream",
     "text": [
      "Training (3 / 1000 Steps) (loss=0.97006): 100%|████████████████████████████████████| 1044/1044 [11:10<00:00,  1.56it/s]\n",
      "Validate (loss=0.80049): 100%|█████████████████████████████████████████████████████████| 55/55 [02:47<00:00,  3.05s/it]\n"
     ]
    },
    {
     "name": "stdout",
     "output_type": "stream",
     "text": [
      "Mean Hausdorff disatnce: 0\n",
      "Model Was Saved ! Current Best Avg. Dice: 0.42884930968284607 Current Avg. Dice: 0.42884930968284607\n"
     ]
    },
    {
     "name": "stderr",
     "output_type": "stream",
     "text": [
      "Training (4 / 1000 Steps) (loss=0.93133): 100%|████████████████████████████████████| 1044/1044 [11:09<00:00,  1.56it/s]\n",
      "Validate (loss=0.71754): 100%|█████████████████████████████████████████████████████████| 55/55 [02:47<00:00,  3.04s/it]\n"
     ]
    },
    {
     "name": "stdout",
     "output_type": "stream",
     "text": [
      "Mean Hausdorff disatnce: 0\n",
      "Model Was Saved ! Current Best Avg. Dice: 0.46943724155426025 Current Avg. Dice: 0.46943724155426025\n"
     ]
    },
    {
     "name": "stderr",
     "output_type": "stream",
     "text": [
      "Training (5 / 1000 Steps) (loss=0.93075): 100%|████████████████████████████████████| 1044/1044 [11:07<00:00,  1.56it/s]\n",
      "Validate (loss=0.71770): 100%|█████████████████████████████████████████████████████████| 55/55 [02:49<00:00,  3.09s/it]\n"
     ]
    },
    {
     "name": "stdout",
     "output_type": "stream",
     "text": [
      "Mean Hausdorff disatnce: 0\n",
      "Model Was Saved ! Current Best Avg. Dice: 0.5597102046012878 Current Avg. Dice: 0.5597102046012878\n"
     ]
    },
    {
     "name": "stderr",
     "output_type": "stream",
     "text": [
      "Training (6 / 1000 Steps) (loss=0.95898): 100%|████████████████████████████████████| 1044/1044 [11:08<00:00,  1.56it/s]\n",
      "Validate (loss=0.65689): 100%|█████████████████████████████████████████████████████████| 55/55 [02:47<00:00,  3.05s/it]\n"
     ]
    },
    {
     "name": "stdout",
     "output_type": "stream",
     "text": [
      "Mean Hausdorff disatnce: 0\n",
      "Model Was Saved ! Current Best Avg. Dice: 0.6168116927146912 Current Avg. Dice: 0.6168116927146912\n"
     ]
    },
    {
     "name": "stderr",
     "output_type": "stream",
     "text": [
      "Training (7 / 1000 Steps) (loss=0.94590): 100%|████████████████████████████████████| 1044/1044 [11:08<00:00,  1.56it/s]\n",
      "Validate (loss=0.58831): 100%|█████████████████████████████████████████████████████████| 55/55 [02:47<00:00,  3.04s/it]\n"
     ]
    },
    {
     "name": "stdout",
     "output_type": "stream",
     "text": [
      "Mean Hausdorff disatnce: 0\n",
      "Model Was Not Saved ! Current Best Avg. Dice: 0.6168116927146912 Current Avg. Dice: 0.6160589456558228\n"
     ]
    },
    {
     "name": "stderr",
     "output_type": "stream",
     "text": [
      "Training (8 / 1000 Steps) (loss=0.88699): 100%|████████████████████████████████████| 1044/1044 [11:08<00:00,  1.56it/s]\n",
      "Validate (loss=0.60977): 100%|█████████████████████████████████████████████████████████| 55/55 [02:48<00:00,  3.06s/it]\n"
     ]
    },
    {
     "name": "stdout",
     "output_type": "stream",
     "text": [
      "Mean Hausdorff disatnce: 0\n",
      "Model Was Saved ! Current Best Avg. Dice: 0.6447648406028748 Current Avg. Dice: 0.6447648406028748\n"
     ]
    },
    {
     "name": "stderr",
     "output_type": "stream",
     "text": [
      "Training (9 / 1000 Steps) (loss=0.91395): 100%|████████████████████████████████████| 1044/1044 [11:07<00:00,  1.56it/s]\n",
      "Validate (loss=0.55205): 100%|█████████████████████████████████████████████████████████| 55/55 [02:46<00:00,  3.03s/it]\n"
     ]
    },
    {
     "name": "stdout",
     "output_type": "stream",
     "text": [
      "Mean Hausdorff disatnce: 0\n",
      "Model Was Saved ! Current Best Avg. Dice: 0.6655867099761963 Current Avg. Dice: 0.6655867099761963\n"
     ]
    },
    {
     "name": "stderr",
     "output_type": "stream",
     "text": [
      "Training (10 / 1000 Steps) (loss=0.88029): 100%|███████████████████████████████████| 1044/1044 [11:09<00:00,  1.56it/s]\n",
      "Validate (loss=0.61649): 100%|█████████████████████████████████████████████████████████| 55/55 [02:50<00:00,  3.10s/it]\n"
     ]
    },
    {
     "name": "stdout",
     "output_type": "stream",
     "text": [
      "Early Stopping patience: 1, best loss: 0.6696494498036124, current_loss: 0.6817383511499925\n",
      "Mean Hausdorff disatnce: 0\n",
      "Model Was Not Saved ! Current Best Avg. Dice: 0.6655867099761963 Current Avg. Dice: 0.6121068596839905\n"
     ]
    },
    {
     "name": "stderr",
     "output_type": "stream",
     "text": [
      "Training (11 / 1000 Steps) (loss=0.70214): 100%|███████████████████████████████████| 1044/1044 [11:08<00:00,  1.56it/s]\n",
      "Validate (loss=0.51215): 100%|█████████████████████████████████████████████████████████| 55/55 [02:48<00:00,  3.05s/it]\n"
     ]
    },
    {
     "name": "stdout",
     "output_type": "stream",
     "text": [
      "Mean Hausdorff disatnce: 0\n",
      "Model Was Saved ! Current Best Avg. Dice: 0.7250441312789917 Current Avg. Dice: 0.7250441312789917\n"
     ]
    },
    {
     "name": "stderr",
     "output_type": "stream",
     "text": [
      "Training (12 / 1000 Steps) (loss=0.88894): 100%|███████████████████████████████████| 1044/1044 [11:08<00:00,  1.56it/s]\n",
      "Validate (loss=0.60784): 100%|█████████████████████████████████████████████████████████| 55/55 [02:47<00:00,  3.04s/it]\n"
     ]
    },
    {
     "name": "stdout",
     "output_type": "stream",
     "text": [
      "Early Stopping patience: 1, best loss: 0.6259749818931927, current_loss: 0.643668503111059\n",
      "Mean Hausdorff disatnce: 0\n",
      "Model Was Not Saved ! Current Best Avg. Dice: 0.7250441312789917 Current Avg. Dice: 0.682146430015564\n"
     ]
    },
    {
     "name": "stderr",
     "output_type": "stream",
     "text": [
      "Training (13 / 1000 Steps) (loss=0.97445): 100%|███████████████████████████████████| 1044/1044 [11:10<00:00,  1.56it/s]\n",
      "Validate (loss=0.54891): 100%|█████████████████████████████████████████████████████████| 55/55 [02:47<00:00,  3.04s/it]\n"
     ]
    },
    {
     "name": "stdout",
     "output_type": "stream",
     "text": [
      "Early Stopping patience: 2, best loss: 0.6259749818931927, current_loss: 0.6270314986055547\n",
      "Mean Hausdorff disatnce: 0\n",
      "Model Was Not Saved ! Current Best Avg. Dice: 0.7250441312789917 Current Avg. Dice: 0.7118619084358215\n"
     ]
    },
    {
     "name": "stderr",
     "output_type": "stream",
     "text": [
      "Training (14 / 1000 Steps) (loss=0.87466): 100%|███████████████████████████████████| 1044/1044 [11:09<00:00,  1.56it/s]\n",
      "Validate (loss=0.48967): 100%|█████████████████████████████████████████████████████████| 55/55 [02:47<00:00,  3.04s/it]\n"
     ]
    },
    {
     "name": "stdout",
     "output_type": "stream",
     "text": [
      "Mean Hausdorff disatnce: 0\n",
      "Model Was Saved ! Current Best Avg. Dice: 0.7353171110153198 Current Avg. Dice: 0.7353171110153198\n"
     ]
    },
    {
     "name": "stderr",
     "output_type": "stream",
     "text": [
      "Training (15 / 1000 Steps) (loss=0.80429): 100%|███████████████████████████████████| 1044/1044 [11:09<00:00,  1.56it/s]\n",
      "Validate (loss=0.43996): 100%|█████████████████████████████████████████████████████████| 55/55 [02:49<00:00,  3.07s/it]\n"
     ]
    },
    {
     "name": "stdout",
     "output_type": "stream",
     "text": [
      "Mean Hausdorff disatnce: 0\n",
      "Model Was Saved ! Current Best Avg. Dice: 0.7545052766799927 Current Avg. Dice: 0.7545052766799927\n"
     ]
    },
    {
     "name": "stderr",
     "output_type": "stream",
     "text": [
      "Training (16 / 1000 Steps) (loss=0.79444): 100%|███████████████████████████████████| 1044/1044 [11:08<00:00,  1.56it/s]\n",
      "Validate (loss=0.46797): 100%|█████████████████████████████████████████████████████████| 55/55 [02:47<00:00,  3.04s/it]\n"
     ]
    },
    {
     "name": "stdout",
     "output_type": "stream",
     "text": [
      "Early Stopping patience: 1, best loss: 0.5997018413110213, current_loss: 0.6225576660849831\n",
      "Mean Hausdorff disatnce: 0\n",
      "Model Was Not Saved ! Current Best Avg. Dice: 0.7545052766799927 Current Avg. Dice: 0.7114744782447815\n"
     ]
    },
    {
     "name": "stderr",
     "output_type": "stream",
     "text": [
      "Training (17 / 1000 Steps) (loss=0.93907): 100%|███████████████████████████████████| 1044/1044 [11:08<00:00,  1.56it/s]\n",
      "Validate (loss=0.43575): 100%|█████████████████████████████████████████████████████████| 55/55 [02:49<00:00,  3.08s/it]\n"
     ]
    },
    {
     "name": "stdout",
     "output_type": "stream",
     "text": [
      "Mean Hausdorff disatnce: 0\n",
      "Model Was Saved ! Current Best Avg. Dice: 0.7604602575302124 Current Avg. Dice: 0.7604602575302124\n"
     ]
    },
    {
     "name": "stderr",
     "output_type": "stream",
     "text": [
      "Training (18 / 1000 Steps) (loss=0.86894): 100%|███████████████████████████████████| 1044/1044 [11:09<00:00,  1.56it/s]\n",
      "Validate (loss=0.44201): 100%|█████████████████████████████████████████████████████████| 55/55 [02:48<00:00,  3.06s/it]\n"
     ]
    },
    {
     "name": "stdout",
     "output_type": "stream",
     "text": [
      "Mean Hausdorff disatnce: 0\n",
      "Model Was Saved ! Current Best Avg. Dice: 0.7660107612609863 Current Avg. Dice: 0.7660107612609863\n"
     ]
    },
    {
     "name": "stderr",
     "output_type": "stream",
     "text": [
      "Training (19 / 1000 Steps) (loss=0.89078): 100%|███████████████████████████████████| 1044/1044 [11:07<00:00,  1.56it/s]\n",
      "Validate (loss=0.44359): 100%|█████████████████████████████████████████████████████████| 55/55 [02:47<00:00,  3.05s/it]\n"
     ]
    },
    {
     "name": "stdout",
     "output_type": "stream",
     "text": [
      "Early Stopping patience: 1, best loss: 0.5848384277387099, current_loss: 0.6111163767901334\n",
      "Mean Hausdorff disatnce: 0\n",
      "Model Was Not Saved ! Current Best Avg. Dice: 0.7660107612609863 Current Avg. Dice: 0.7177063822746277\n"
     ]
    },
    {
     "name": "stderr",
     "output_type": "stream",
     "text": [
      "Training (20 / 1000 Steps) (loss=0.85252): 100%|███████████████████████████████████| 1044/1044 [11:08<00:00,  1.56it/s]\n",
      "Validate (loss=0.43630): 100%|█████████████████████████████████████████████████████████| 55/55 [02:48<00:00,  3.07s/it]\n"
     ]
    },
    {
     "name": "stdout",
     "output_type": "stream",
     "text": [
      "Early Stopping patience: 2, best loss: 0.5848384277387099, current_loss: 0.5873408805240284\n",
      "Mean Hausdorff disatnce: 0\n",
      "Model Was Not Saved ! Current Best Avg. Dice: 0.7660107612609863 Current Avg. Dice: 0.7604016661643982\n"
     ]
    },
    {
     "name": "stderr",
     "output_type": "stream",
     "text": [
      "Training (21 / 1000 Steps) (loss=0.90956): 100%|███████████████████████████████████| 1044/1044 [11:08<00:00,  1.56it/s]\n",
      "Validate (loss=0.41703): 100%|█████████████████████████████████████████████████████████| 55/55 [02:49<00:00,  3.09s/it]\n"
     ]
    },
    {
     "name": "stdout",
     "output_type": "stream",
     "text": [
      "Mean Hausdorff disatnce: 0\n",
      "Model Was Saved ! Current Best Avg. Dice: 0.7735209465026855 Current Avg. Dice: 0.7735209465026855\n"
     ]
    },
    {
     "name": "stderr",
     "output_type": "stream",
     "text": [
      "Training (22 / 1000 Steps) (loss=0.88530): 100%|███████████████████████████████████| 1044/1044 [11:06<00:00,  1.57it/s]\n",
      "Validate (loss=0.44574): 100%|█████████████████████████████████████████████████████████| 55/55 [02:48<00:00,  3.06s/it]\n"
     ]
    },
    {
     "name": "stdout",
     "output_type": "stream",
     "text": [
      "Early Stopping patience: 1, best loss: 0.5750849902629852, current_loss: 0.5892601723020727\n",
      "Mean Hausdorff disatnce: 0\n",
      "Model Was Not Saved ! Current Best Avg. Dice: 0.7735209465026855 Current Avg. Dice: 0.7520115375518799\n"
     ]
    },
    {
     "name": "stderr",
     "output_type": "stream",
     "text": [
      "Training (23 / 1000 Steps) (loss=0.82770): 100%|███████████████████████████████████| 1044/1044 [11:07<00:00,  1.56it/s]\n",
      "Validate (loss=0.39752): 100%|█████████████████████████████████████████████████████████| 55/55 [02:49<00:00,  3.08s/it]\n"
     ]
    },
    {
     "name": "stdout",
     "output_type": "stream",
     "text": [
      "Mean Hausdorff disatnce: 0\n",
      "Model Was Saved ! Current Best Avg. Dice: 0.7813552021980286 Current Avg. Dice: 0.7813552021980286\n"
     ]
    },
    {
     "name": "stderr",
     "output_type": "stream",
     "text": [
      "Training (24 / 1000 Steps) (loss=0.70467): 100%|███████████████████████████████████| 1044/1044 [11:08<00:00,  1.56it/s]\n",
      "Validate (loss=0.41481): 100%|█████████████████████████████████████████████████████████| 55/55 [02:48<00:00,  3.06s/it]\n"
     ]
    },
    {
     "name": "stdout",
     "output_type": "stream",
     "text": [
      "Early Stopping patience: 1, best loss: 0.5656046135859056, current_loss: 0.5689128967848691\n",
      "Mean Hausdorff disatnce: 0\n",
      "Model Was Saved ! Current Best Avg. Dice: 0.7815419435501099 Current Avg. Dice: 0.7815419435501099\n"
     ]
    },
    {
     "name": "stderr",
     "output_type": "stream",
     "text": [
      "Training (25 / 1000 Steps) (loss=0.91549): 100%|███████████████████████████████████| 1044/1044 [11:08<00:00,  1.56it/s]\n",
      "Validate (loss=0.43553): 100%|█████████████████████████████████████████████████████████| 55/55 [02:48<00:00,  3.07s/it]\n"
     ]
    },
    {
     "name": "stdout",
     "output_type": "stream",
     "text": [
      "Early Stopping patience: 2, best loss: 0.5656046135859056, current_loss: 0.5687814289873296\n",
      "Mean Hausdorff disatnce: 0\n",
      "Model Was Not Saved ! Current Best Avg. Dice: 0.7815419435501099 Current Avg. Dice: 0.7753771543502808\n"
     ]
    },
    {
     "name": "stderr",
     "output_type": "stream",
     "text": [
      "Training (26 / 1000 Steps) (loss=0.69358): 100%|███████████████████████████████████| 1044/1044 [11:10<00:00,  1.56it/s]\n",
      "Validate (loss=0.40650): 100%|█████████████████████████████████████████████████████████| 55/55 [02:47<00:00,  3.05s/it]\n"
     ]
    },
    {
     "name": "stdout",
     "output_type": "stream",
     "text": [
      "Mean Hausdorff disatnce: 0\n",
      "Model Was Saved ! Current Best Avg. Dice: 0.8000150918960571 Current Avg. Dice: 0.8000150918960571\n"
     ]
    },
    {
     "name": "stderr",
     "output_type": "stream",
     "text": [
      "Training (27 / 1000 Steps) (loss=0.89348): 100%|███████████████████████████████████| 1044/1044 [11:09<00:00,  1.56it/s]\n",
      "Validate (loss=0.40823): 100%|█████████████████████████████████████████████████████████| 55/55 [02:48<00:00,  3.06s/it]\n"
     ]
    },
    {
     "name": "stdout",
     "output_type": "stream",
     "text": [
      "Early Stopping patience: 1, best loss: 0.5552085036581212, current_loss: 0.5625436931848526\n",
      "Mean Hausdorff disatnce: 0\n",
      "Model Was Not Saved ! Current Best Avg. Dice: 0.8000150918960571 Current Avg. Dice: 0.7942613363265991\n"
     ]
    },
    {
     "name": "stderr",
     "output_type": "stream",
     "text": [
      "Training (28 / 1000 Steps) (loss=0.70921): 100%|███████████████████████████████████| 1044/1044 [11:08<00:00,  1.56it/s]\n",
      "Validate (loss=0.39509): 100%|█████████████████████████████████████████████████████████| 55/55 [02:48<00:00,  3.06s/it]\n"
     ]
    },
    {
     "name": "stdout",
     "output_type": "stream",
     "text": [
      "Early Stopping patience: 2, best loss: 0.5552085036581212, current_loss: 0.5978309747847643\n",
      "Mean Hausdorff disatnce: 0\n",
      "Model Was Not Saved ! Current Best Avg. Dice: 0.8000150918960571 Current Avg. Dice: 0.7252845764160156\n"
     ]
    },
    {
     "name": "stderr",
     "output_type": "stream",
     "text": [
      "Training (29 / 1000 Steps) (loss=0.84045): 100%|███████████████████████████████████| 1044/1044 [11:07<00:00,  1.56it/s]\n",
      "Validate (loss=0.40215): 100%|█████████████████████████████████████████████████████████| 55/55 [02:49<00:00,  3.08s/it]\n"
     ]
    },
    {
     "name": "stdout",
     "output_type": "stream",
     "text": [
      "Early Stopping patience: 3, best loss: 0.5552085036581212, current_loss: 0.5682345831936056\n",
      "Mean Hausdorff disatnce: 0\n",
      "Model Was Not Saved ! Current Best Avg. Dice: 0.8000150918960571 Current Avg. Dice: 0.7683638334274292\n"
     ]
    },
    {
     "name": "stderr",
     "output_type": "stream",
     "text": [
      "Training (30 / 1000 Steps) (loss=0.62915): 100%|███████████████████████████████████| 1044/1044 [11:08<00:00,  1.56it/s]\n",
      "Validate (loss=0.39844): 100%|█████████████████████████████████████████████████████████| 55/55 [02:49<00:00,  3.08s/it]\n"
     ]
    },
    {
     "name": "stdout",
     "output_type": "stream",
     "text": [
      "Mean Hausdorff disatnce: 0\n",
      "Model Was Saved ! Current Best Avg. Dice: 0.8042580485343933 Current Avg. Dice: 0.8042580485343933\n"
     ]
    },
    {
     "name": "stderr",
     "output_type": "stream",
     "text": [
      "Training (31 / 1000 Steps) (loss=0.86871): 100%|███████████████████████████████████| 1044/1044 [11:07<00:00,  1.56it/s]\n",
      "Validate (loss=0.38646): 100%|█████████████████████████████████████████████████████████| 55/55 [02:49<00:00,  3.08s/it]\n"
     ]
    },
    {
     "name": "stdout",
     "output_type": "stream",
     "text": [
      "Mean Hausdorff disatnce: 0\n",
      "Model Was Saved ! Current Best Avg. Dice: 0.8077713251113892 Current Avg. Dice: 0.8077713251113892\n"
     ]
    },
    {
     "name": "stderr",
     "output_type": "stream",
     "text": [
      "Training (32 / 1000 Steps) (loss=0.82655): 100%|███████████████████████████████████| 1044/1044 [11:06<00:00,  1.57it/s]\n",
      "Validate (loss=0.39069): 100%|█████████████████████████████████████████████████████████| 55/55 [02:48<00:00,  3.06s/it]\n"
     ]
    },
    {
     "name": "stdout",
     "output_type": "stream",
     "text": [
      "Early Stopping patience: 1, best loss: 0.5502313524484634, current_loss: 0.5495303145863794\n",
      "Mean Hausdorff disatnce: 0\n",
      "Model Was Saved ! Current Best Avg. Dice: 0.807919442653656 Current Avg. Dice: 0.807919442653656\n"
     ]
    },
    {
     "name": "stderr",
     "output_type": "stream",
     "text": [
      "Training (33 / 1000 Steps) (loss=0.91835): 100%|███████████████████████████████████| 1044/1044 [11:07<00:00,  1.56it/s]\n",
      "Validate (loss=0.39295): 100%|█████████████████████████████████████████████████████████| 55/55 [02:47<00:00,  3.05s/it]\n"
     ]
    },
    {
     "name": "stdout",
     "output_type": "stream",
     "text": [
      "Early Stopping patience: 2, best loss: 0.5502313524484634, current_loss: 0.5570732826536352\n",
      "Mean Hausdorff disatnce: 0\n",
      "Model Was Not Saved ! Current Best Avg. Dice: 0.807919442653656 Current Avg. Dice: 0.797482430934906\n"
     ]
    },
    {
     "name": "stderr",
     "output_type": "stream",
     "text": [
      "Training (34 / 1000 Steps) (loss=0.83199): 100%|███████████████████████████████████| 1044/1044 [11:11<00:00,  1.56it/s]\n",
      "Validate (loss=0.39897): 100%|█████████████████████████████████████████████████████████| 55/55 [02:47<00:00,  3.05s/it]\n"
     ]
    },
    {
     "name": "stdout",
     "output_type": "stream",
     "text": [
      "Early Stopping patience: 3, best loss: 0.5502313524484634, current_loss: 0.5597981409593062\n",
      "Mean Hausdorff disatnce: 0\n",
      "Model Was Not Saved ! Current Best Avg. Dice: 0.807919442653656 Current Avg. Dice: 0.782487154006958\n"
     ]
    },
    {
     "name": "stderr",
     "output_type": "stream",
     "text": [
      "Training (35 / 1000 Steps) (loss=0.77466): 100%|███████████████████████████████████| 1044/1044 [11:07<00:00,  1.56it/s]\n",
      "Validate (loss=0.43765): 100%|█████████████████████████████████████████████████████████| 55/55 [02:50<00:00,  3.10s/it]\n"
     ]
    },
    {
     "name": "stdout",
     "output_type": "stream",
     "text": [
      "Early Stopping patience: 4, best loss: 0.5502313524484634, current_loss: 0.579203060540286\n",
      "Mean Hausdorff disatnce: 0\n",
      "Model Was Not Saved ! Current Best Avg. Dice: 0.807919442653656 Current Avg. Dice: 0.7553590536117554\n"
     ]
    },
    {
     "name": "stderr",
     "output_type": "stream",
     "text": [
      "Training (36 / 1000 Steps) (loss=0.85559): 100%|███████████████████████████████████| 1044/1044 [11:08<00:00,  1.56it/s]\n",
      "Validate (loss=0.37841): 100%|█████████████████████████████████████████████████████████| 55/55 [02:47<00:00,  3.05s/it]\n"
     ]
    },
    {
     "name": "stdout",
     "output_type": "stream",
     "text": [
      "Mean Hausdorff disatnce: 0\n",
      "Model Was Saved ! Current Best Avg. Dice: 0.8232340216636658 Current Avg. Dice: 0.8232340216636658\n"
     ]
    },
    {
     "name": "stderr",
     "output_type": "stream",
     "text": [
      "Training (37 / 1000 Steps) (loss=0.78328): 100%|███████████████████████████████████| 1044/1044 [11:08<00:00,  1.56it/s]\n",
      "Validate (loss=0.38648): 100%|█████████████████████████████████████████████████████████| 55/55 [02:47<00:00,  3.05s/it]\n"
     ]
    },
    {
     "name": "stdout",
     "output_type": "stream",
     "text": [
      "Early Stopping patience: 1, best loss: 0.5402789798649874, current_loss: 0.5467173625122417\n",
      "Mean Hausdorff disatnce: 0\n",
      "Model Was Not Saved ! Current Best Avg. Dice: 0.8232340216636658 Current Avg. Dice: 0.8057832717895508\n"
     ]
    },
    {
     "name": "stderr",
     "output_type": "stream",
     "text": [
      "Training (38 / 1000 Steps) (loss=0.87862): 100%|███████████████████████████████████| 1044/1044 [11:05<00:00,  1.57it/s]\n",
      "Validate (loss=0.37373): 100%|█████████████████████████████████████████████████████████| 55/55 [02:47<00:00,  3.05s/it]\n"
     ]
    },
    {
     "name": "stdout",
     "output_type": "stream",
     "text": [
      "Early Stopping patience: 2, best loss: 0.5402789798649874, current_loss: 0.547142522985285\n",
      "Mean Hausdorff disatnce: 0\n",
      "Model Was Not Saved ! Current Best Avg. Dice: 0.8232340216636658 Current Avg. Dice: 0.8043937087059021\n"
     ]
    },
    {
     "name": "stderr",
     "output_type": "stream",
     "text": [
      "Training (39 / 1000 Steps) (loss=0.81903): 100%|███████████████████████████████████| 1044/1044 [11:07<00:00,  1.56it/s]\n",
      "Validate (loss=0.39858): 100%|█████████████████████████████████████████████████████████| 55/55 [02:47<00:00,  3.05s/it]\n"
     ]
    },
    {
     "name": "stdout",
     "output_type": "stream",
     "text": [
      "Early Stopping patience: 3, best loss: 0.5402789798649874, current_loss: 0.5565334851091558\n",
      "Mean Hausdorff disatnce: 0\n",
      "Model Was Not Saved ! Current Best Avg. Dice: 0.8232340216636658 Current Avg. Dice: 0.7902685403823853\n"
     ]
    },
    {
     "name": "stderr",
     "output_type": "stream",
     "text": [
      "Training (40 / 1000 Steps) (loss=0.87920): 100%|███████████████████████████████████| 1044/1044 [11:09<00:00,  1.56it/s]\n",
      "Validate (loss=0.36110): 100%|█████████████████████████████████████████████████████████| 55/55 [02:48<00:00,  3.07s/it]\n"
     ]
    },
    {
     "name": "stdout",
     "output_type": "stream",
     "text": [
      "Mean Hausdorff disatnce: 0\n",
      "Model Was Not Saved ! Current Best Avg. Dice: 0.8232340216636658 Current Avg. Dice: 0.8184933662414551\n"
     ]
    },
    {
     "name": "stderr",
     "output_type": "stream",
     "text": [
      "Training (41 / 1000 Steps) (loss=0.95815): 100%|███████████████████████████████████| 1044/1044 [11:07<00:00,  1.56it/s]\n",
      "Validate (loss=0.36366): 100%|█████████████████████████████████████████████████████████| 55/55 [02:47<00:00,  3.05s/it]\n"
     ]
    },
    {
     "name": "stdout",
     "output_type": "stream",
     "text": [
      "Early Stopping patience: 1, best loss: 0.5372641547159716, current_loss: 0.5376056749712337\n",
      "Mean Hausdorff disatnce: 0\n",
      "Model Was Saved ! Current Best Avg. Dice: 0.8290935158729553 Current Avg. Dice: 0.8290935158729553\n"
     ]
    },
    {
     "name": "stderr",
     "output_type": "stream",
     "text": [
      "Training (42 / 1000 Steps) (loss=0.61776): 100%|███████████████████████████████████| 1044/1044 [11:09<00:00,  1.56it/s]\n",
      "Validate (loss=0.37046): 100%|█████████████████████████████████████████████████████████| 55/55 [02:47<00:00,  3.04s/it]\n"
     ]
    },
    {
     "name": "stdout",
     "output_type": "stream",
     "text": [
      "Mean Hausdorff disatnce: 0\n",
      "Model Was Saved ! Current Best Avg. Dice: 0.833643913269043 Current Avg. Dice: 0.833643913269043\n"
     ]
    },
    {
     "name": "stderr",
     "output_type": "stream",
     "text": [
      "Training (43 / 1000 Steps) (loss=0.79612): 100%|███████████████████████████████████| 1044/1044 [11:08<00:00,  1.56it/s]\n",
      "Validate (loss=0.36437): 100%|█████████████████████████████████████████████████████████| 55/55 [02:48<00:00,  3.06s/it]\n"
     ]
    },
    {
     "name": "stdout",
     "output_type": "stream",
     "text": [
      "Early Stopping patience: 1, best loss: 0.5311372602527792, current_loss: 0.5308900708501989\n",
      "Mean Hausdorff disatnce: 0\n",
      "Model Was Saved ! Current Best Avg. Dice: 0.8347760438919067 Current Avg. Dice: 0.8347760438919067\n"
     ]
    },
    {
     "name": "stderr",
     "output_type": "stream",
     "text": [
      "Training (44 / 1000 Steps) (loss=0.67660): 100%|███████████████████████████████████| 1044/1044 [11:08<00:00,  1.56it/s]\n",
      "Validate (loss=0.37978): 100%|█████████████████████████████████████████████████████████| 55/55 [02:48<00:00,  3.06s/it]\n"
     ]
    },
    {
     "name": "stdout",
     "output_type": "stream",
     "text": [
      "Early Stopping patience: 2, best loss: 0.5311372602527792, current_loss: 0.544393743168224\n",
      "Mean Hausdorff disatnce: 0\n",
      "Model Was Not Saved ! Current Best Avg. Dice: 0.8347760438919067 Current Avg. Dice: 0.8119340538978577\n"
     ]
    },
    {
     "name": "stderr",
     "output_type": "stream",
     "text": [
      "Training (45 / 1000 Steps) (loss=0.64683): 100%|███████████████████████████████████| 1044/1044 [11:08<00:00,  1.56it/s]\n",
      "Validate (loss=0.38212): 100%|█████████████████████████████████████████████████████████| 55/55 [02:48<00:00,  3.06s/it]\n"
     ]
    },
    {
     "name": "stdout",
     "output_type": "stream",
     "text": [
      "Early Stopping patience: 3, best loss: 0.5311372602527792, current_loss: 0.5419254140420393\n",
      "Mean Hausdorff disatnce: 0\n",
      "Model Was Not Saved ! Current Best Avg. Dice: 0.8347760438919067 Current Avg. Dice: 0.8131582140922546\n"
     ]
    },
    {
     "name": "stderr",
     "output_type": "stream",
     "text": [
      "Training (46 / 1000 Steps) (loss=0.78873): 100%|███████████████████████████████████| 1044/1044 [11:08<00:00,  1.56it/s]\n",
      "Validate (loss=0.36037): 100%|█████████████████████████████████████████████████████████| 55/55 [02:48<00:00,  3.07s/it]\n"
     ]
    },
    {
     "name": "stdout",
     "output_type": "stream",
     "text": [
      "Mean Hausdorff disatnce: 0\n",
      "Model Was Saved ! Current Best Avg. Dice: 0.8388802409172058 Current Avg. Dice: 0.8388802409172058\n"
     ]
    },
    {
     "name": "stderr",
     "output_type": "stream",
     "text": [
      "Training (47 / 1000 Steps) (loss=0.75853): 100%|███████████████████████████████████| 1044/1044 [11:06<00:00,  1.57it/s]\n",
      "Validate (loss=0.38171): 100%|█████████████████████████████████████████████████████████| 55/55 [02:49<00:00,  3.08s/it]\n"
     ]
    },
    {
     "name": "stdout",
     "output_type": "stream",
     "text": [
      "Early Stopping patience: 1, best loss: 0.5300776462663304, current_loss: 0.5359070588241924\n",
      "Mean Hausdorff disatnce: 0\n",
      "Model Was Not Saved ! Current Best Avg. Dice: 0.8388802409172058 Current Avg. Dice: 0.8179526329040527\n"
     ]
    },
    {
     "name": "stderr",
     "output_type": "stream",
     "text": [
      "Training (48 / 1000 Steps) (loss=0.82500): 100%|███████████████████████████████████| 1044/1044 [11:08<00:00,  1.56it/s]\n",
      "Validate (loss=0.36666): 100%|█████████████████████████████████████████████████████████| 55/55 [02:47<00:00,  3.04s/it]\n"
     ]
    },
    {
     "name": "stdout",
     "output_type": "stream",
     "text": [
      "Early Stopping patience: 2, best loss: 0.5300776462663304, current_loss: 0.531109331683679\n",
      "Mean Hausdorff disatnce: 0\n",
      "Model Was Not Saved ! Current Best Avg. Dice: 0.8388802409172058 Current Avg. Dice: 0.8320779204368591\n"
     ]
    },
    {
     "name": "stderr",
     "output_type": "stream",
     "text": [
      "Training (49 / 1000 Steps) (loss=0.87608): 100%|███████████████████████████████████| 1044/1044 [11:08<00:00,  1.56it/s]\n",
      "Validate (loss=0.36188): 100%|█████████████████████████████████████████████████████████| 55/55 [02:49<00:00,  3.08s/it]\n"
     ]
    },
    {
     "name": "stdout",
     "output_type": "stream",
     "text": [
      "Mean Hausdorff disatnce: 0\n",
      "Model Was Saved ! Current Best Avg. Dice: 0.8410128355026245 Current Avg. Dice: 0.8410128355026245\n"
     ]
    },
    {
     "name": "stderr",
     "output_type": "stream",
     "text": [
      "Training (50 / 1000 Steps) (loss=0.88744): 100%|███████████████████████████████████| 1044/1044 [11:08<00:00,  1.56it/s]\n",
      "Validate (loss=0.36226): 100%|█████████████████████████████████████████████████████████| 55/55 [02:48<00:00,  3.07s/it]\n"
     ]
    },
    {
     "name": "stdout",
     "output_type": "stream",
     "text": [
      "Early Stopping patience: 1, best loss: 0.5265608538280834, current_loss: 0.5337281468239697\n",
      "Mean Hausdorff disatnce: 0\n",
      "Model Was Not Saved ! Current Best Avg. Dice: 0.8410128355026245 Current Avg. Dice: 0.8275554776191711\n"
     ]
    },
    {
     "name": "stderr",
     "output_type": "stream",
     "text": [
      "Training (51 / 1000 Steps) (loss=0.93945): 100%|███████████████████████████████████| 1044/1044 [11:08<00:00,  1.56it/s]\n",
      "Validate (loss=0.37755): 100%|█████████████████████████████████████████████████████████| 55/55 [02:48<00:00,  3.06s/it]\n"
     ]
    },
    {
     "name": "stdout",
     "output_type": "stream",
     "text": [
      "Early Stopping patience: 2, best loss: 0.5265608538280834, current_loss: 0.5332804980603132\n",
      "Mean Hausdorff disatnce: 0\n",
      "Model Was Not Saved ! Current Best Avg. Dice: 0.8410128355026245 Current Avg. Dice: 0.8374891877174377\n"
     ]
    },
    {
     "name": "stderr",
     "output_type": "stream",
     "text": [
      "Training (52 / 1000 Steps) (loss=0.70989): 100%|███████████████████████████████████| 1044/1044 [11:08<00:00,  1.56it/s]\n",
      "Validate (loss=0.35870): 100%|█████████████████████████████████████████████████████████| 55/55 [02:49<00:00,  3.08s/it]\n"
     ]
    },
    {
     "name": "stdout",
     "output_type": "stream",
     "text": [
      "Early Stopping patience: 3, best loss: 0.5265608538280834, current_loss: 0.5324482037262483\n",
      "Mean Hausdorff disatnce: 0\n",
      "Model Was Not Saved ! Current Best Avg. Dice: 0.8410128355026245 Current Avg. Dice: 0.827890157699585\n"
     ]
    },
    {
     "name": "stderr",
     "output_type": "stream",
     "text": [
      "Training (53 / 1000 Steps) (loss=0.61549): 100%|███████████████████████████████████| 1044/1044 [11:07<00:00,  1.56it/s]\n",
      "Validate (loss=0.39164): 100%|█████████████████████████████████████████████████████████| 55/55 [02:48<00:00,  3.06s/it]\n"
     ]
    },
    {
     "name": "stdout",
     "output_type": "stream",
     "text": [
      "Epoch 00054: reducing learning rate of group 0 to 2.5000e-05.\n",
      "Early Stopping patience: 4, best loss: 0.5265608538280834, current_loss: 0.5323334788734263\n",
      "Mean Hausdorff disatnce: 0\n",
      "Model Was Not Saved ! Current Best Avg. Dice: 0.8410128355026245 Current Avg. Dice: 0.8234320282936096\n"
     ]
    },
    {
     "name": "stderr",
     "output_type": "stream",
     "text": [
      "Training (54 / 1000 Steps) (loss=0.72042): 100%|███████████████████████████████████| 1044/1044 [11:08<00:00,  1.56it/s]\n",
      "Validate (loss=0.35788): 100%|█████████████████████████████████████████████████████████| 55/55 [02:47<00:00,  3.05s/it]\n"
     ]
    },
    {
     "name": "stdout",
     "output_type": "stream",
     "text": [
      "Mean Hausdorff disatnce: 0\n",
      "Model Was Saved ! Current Best Avg. Dice: 0.8535689115524292 Current Avg. Dice: 0.8535689115524292\n"
     ]
    },
    {
     "name": "stderr",
     "output_type": "stream",
     "text": [
      "Training (55 / 1000 Steps) (loss=0.83550): 100%|███████████████████████████████████| 1044/1044 [11:05<00:00,  1.57it/s]\n",
      "Validate (loss=0.35329): 100%|█████████████████████████████████████████████████████████| 55/55 [02:49<00:00,  3.07s/it]\n"
     ]
    },
    {
     "name": "stdout",
     "output_type": "stream",
     "text": [
      "Early Stopping patience: 1, best loss: 0.514646809480407, current_loss: 0.5177600465037606\n",
      "Mean Hausdorff disatnce: 0\n",
      "Model Was Not Saved ! Current Best Avg. Dice: 0.8535689115524292 Current Avg. Dice: 0.8502793908119202\n"
     ]
    },
    {
     "name": "stderr",
     "output_type": "stream",
     "text": [
      "Training (56 / 1000 Steps) (loss=0.71856): 100%|███████████████████████████████████| 1044/1044 [11:09<00:00,  1.56it/s]\n",
      "Validate (loss=0.35723): 100%|█████████████████████████████████████████████████████████| 55/55 [02:49<00:00,  3.08s/it]\n"
     ]
    },
    {
     "name": "stdout",
     "output_type": "stream",
     "text": [
      "Early Stopping patience: 2, best loss: 0.514646809480407, current_loss: 0.5144740129059011\n",
      "Mean Hausdorff disatnce: 0\n",
      "Model Was Saved ! Current Best Avg. Dice: 0.8535751104354858 Current Avg. Dice: 0.8535751104354858\n"
     ]
    },
    {
     "name": "stderr",
     "output_type": "stream",
     "text": [
      "Training (57 / 1000 Steps) (loss=0.78633): 100%|███████████████████████████████████| 1044/1044 [11:08<00:00,  1.56it/s]\n",
      "Validate (loss=0.35662): 100%|█████████████████████████████████████████████████████████| 55/55 [02:47<00:00,  3.04s/it]\n"
     ]
    },
    {
     "name": "stdout",
     "output_type": "stream",
     "text": [
      "Mean Hausdorff disatnce: 0\n",
      "Model Was Saved ! Current Best Avg. Dice: 0.8592594265937805 Current Avg. Dice: 0.8592594265937805\n"
     ]
    },
    {
     "name": "stderr",
     "output_type": "stream",
     "text": [
      "Training (58 / 1000 Steps) (loss=0.88447): 100%|███████████████████████████████████| 1044/1044 [11:09<00:00,  1.56it/s]\n",
      "Validate (loss=0.35215): 100%|█████████████████████████████████████████████████████████| 55/55 [02:47<00:00,  3.05s/it]\n"
     ]
    },
    {
     "name": "stdout",
     "output_type": "stream",
     "text": [
      "Early Stopping patience: 1, best loss: 0.5118912642652338, current_loss: 0.5145951000126925\n",
      "Mean Hausdorff disatnce: 0\n",
      "Model Was Not Saved ! Current Best Avg. Dice: 0.8592594265937805 Current Avg. Dice: 0.8512603640556335\n"
     ]
    },
    {
     "name": "stderr",
     "output_type": "stream",
     "text": [
      "Training (59 / 1000 Steps) (loss=0.31896): 100%|███████████████████████████████████| 1044/1044 [11:06<00:00,  1.57it/s]\n",
      "Validate (loss=0.35040): 100%|█████████████████████████████████████████████████████████| 55/55 [02:49<00:00,  3.08s/it]\n"
     ]
    },
    {
     "name": "stdout",
     "output_type": "stream",
     "text": [
      "Mean Hausdorff disatnce: 0\n",
      "Model Was Not Saved ! Current Best Avg. Dice: 0.8592594265937805 Current Avg. Dice: 0.7641960978507996\n"
     ]
    },
    {
     "name": "stderr",
     "output_type": "stream",
     "text": [
      "Training (60 / 1000 Steps) (loss=0.13422): 100%|███████████████████████████████████| 1044/1044 [11:06<00:00,  1.57it/s]\n",
      "Validate (loss=0.27654): 100%|█████████████████████████████████████████████████████████| 55/55 [02:49<00:00,  3.08s/it]\n"
     ]
    },
    {
     "name": "stdout",
     "output_type": "stream",
     "text": [
      "Mean Hausdorff disatnce: 0\n",
      "Model Was Not Saved ! Current Best Avg. Dice: 0.8592594265937805 Current Avg. Dice: 0.7496150732040405\n"
     ]
    },
    {
     "name": "stderr",
     "output_type": "stream",
     "text": [
      "Training (61 / 1000 Steps) (loss=0.54183): 100%|███████████████████████████████████| 1044/1044 [11:07<00:00,  1.56it/s]\n",
      "Validate (loss=0.25195): 100%|█████████████████████████████████████████████████████████| 55/55 [02:49<00:00,  3.08s/it]\n"
     ]
    },
    {
     "name": "stdout",
     "output_type": "stream",
     "text": [
      "Mean Hausdorff disatnce: 0\n",
      "Model Was Not Saved ! Current Best Avg. Dice: 0.8592594265937805 Current Avg. Dice: 0.7569559216499329\n"
     ]
    },
    {
     "name": "stderr",
     "output_type": "stream",
     "text": [
      "Training (62 / 1000 Steps) (loss=0.57300): 100%|███████████████████████████████████| 1044/1044 [11:07<00:00,  1.56it/s]\n",
      "Validate (loss=0.22648): 100%|█████████████████████████████████████████████████████████| 55/55 [02:47<00:00,  3.05s/it]\n"
     ]
    },
    {
     "name": "stdout",
     "output_type": "stream",
     "text": [
      "Mean Hausdorff disatnce: 0\n",
      "Model Was Not Saved ! Current Best Avg. Dice: 0.8592594265937805 Current Avg. Dice: 0.7483606338500977\n"
     ]
    },
    {
     "name": "stderr",
     "output_type": "stream",
     "text": [
      "Training (63 / 1000 Steps) (loss=0.32828): 100%|███████████████████████████████████| 1044/1044 [11:04<00:00,  1.57it/s]\n",
      "Validate (loss=0.22201): 100%|█████████████████████████████████████████████████████████| 55/55 [02:47<00:00,  3.04s/it]\n"
     ]
    },
    {
     "name": "stdout",
     "output_type": "stream",
     "text": [
      "Mean Hausdorff disatnce: 0\n",
      "Model Was Not Saved ! Current Best Avg. Dice: 0.8592594265937805 Current Avg. Dice: 0.7627918124198914\n"
     ]
    },
    {
     "name": "stderr",
     "output_type": "stream",
     "text": [
      "Training (64 / 1000 Steps) (loss=0.21515): 100%|███████████████████████████████████| 1044/1044 [11:08<00:00,  1.56it/s]\n",
      "Validate (loss=0.20412): 100%|█████████████████████████████████████████████████████████| 55/55 [02:49<00:00,  3.09s/it]\n"
     ]
    },
    {
     "name": "stdout",
     "output_type": "stream",
     "text": [
      "Mean Hausdorff disatnce: 0\n",
      "Model Was Not Saved ! Current Best Avg. Dice: 0.8592594265937805 Current Avg. Dice: 0.7915496826171875\n"
     ]
    },
    {
     "name": "stderr",
     "output_type": "stream",
     "text": [
      "Training (65 / 1000 Steps) (loss=0.09323): 100%|███████████████████████████████████| 1044/1044 [11:09<00:00,  1.56it/s]\n",
      "Validate (loss=0.19524): 100%|█████████████████████████████████████████████████████████| 55/55 [02:49<00:00,  3.08s/it]\n"
     ]
    },
    {
     "name": "stdout",
     "output_type": "stream",
     "text": [
      "Mean Hausdorff disatnce: 0\n",
      "Model Was Not Saved ! Current Best Avg. Dice: 0.8592594265937805 Current Avg. Dice: 0.7857996225357056\n"
     ]
    },
    {
     "name": "stderr",
     "output_type": "stream",
     "text": [
      "Training (66 / 1000 Steps) (loss=0.07493): 100%|███████████████████████████████████| 1044/1044 [11:10<00:00,  1.56it/s]\n",
      "Validate (loss=0.17967): 100%|█████████████████████████████████████████████████████████| 55/55 [02:48<00:00,  3.06s/it]\n"
     ]
    },
    {
     "name": "stdout",
     "output_type": "stream",
     "text": [
      "Mean Hausdorff disatnce: 0\n",
      "Model Was Not Saved ! Current Best Avg. Dice: 0.8592594265937805 Current Avg. Dice: 0.8064724206924438\n"
     ]
    },
    {
     "name": "stderr",
     "output_type": "stream",
     "text": [
      "Training (67 / 1000 Steps) (loss=0.07288): 100%|███████████████████████████████████| 1044/1044 [11:09<00:00,  1.56it/s]\n",
      "Validate (loss=0.15648): 100%|█████████████████████████████████████████████████████████| 55/55 [02:47<00:00,  3.05s/it]\n"
     ]
    },
    {
     "name": "stdout",
     "output_type": "stream",
     "text": [
      "Mean Hausdorff disatnce: 0\n",
      "Model Was Not Saved ! Current Best Avg. Dice: 0.8592594265937805 Current Avg. Dice: 0.8067231774330139\n"
     ]
    },
    {
     "name": "stderr",
     "output_type": "stream",
     "text": [
      "Training (68 / 1000 Steps) (loss=0.03548): 100%|███████████████████████████████████| 1044/1044 [11:09<00:00,  1.56it/s]\n",
      "Validate (loss=0.12100): 100%|█████████████████████████████████████████████████████████| 55/55 [02:49<00:00,  3.07s/it]\n"
     ]
    },
    {
     "name": "stdout",
     "output_type": "stream",
     "text": [
      "Mean Hausdorff disatnce: 0\n",
      "Model Was Not Saved ! Current Best Avg. Dice: 0.8592594265937805 Current Avg. Dice: 0.8103796243667603\n"
     ]
    },
    {
     "name": "stderr",
     "output_type": "stream",
     "text": [
      "Training (69 / 1000 Steps) (loss=0.06016): 100%|███████████████████████████████████| 1044/1044 [11:07<00:00,  1.56it/s]\n",
      "Validate (loss=0.09764): 100%|█████████████████████████████████████████████████████████| 55/55 [02:48<00:00,  3.06s/it]\n"
     ]
    },
    {
     "name": "stdout",
     "output_type": "stream",
     "text": [
      "Mean Hausdorff disatnce: 0\n",
      "Model Was Not Saved ! Current Best Avg. Dice: 0.8592594265937805 Current Avg. Dice: 0.8172086477279663\n"
     ]
    },
    {
     "name": "stderr",
     "output_type": "stream",
     "text": [
      "Training (70 / 1000 Steps) (loss=0.02474): 100%|███████████████████████████████████| 1044/1044 [11:08<00:00,  1.56it/s]\n",
      "Validate (loss=0.09025): 100%|█████████████████████████████████████████████████████████| 55/55 [02:49<00:00,  3.08s/it]\n"
     ]
    },
    {
     "name": "stdout",
     "output_type": "stream",
     "text": [
      "Mean Hausdorff disatnce: 0\n",
      "Model Was Not Saved ! Current Best Avg. Dice: 0.8592594265937805 Current Avg. Dice: 0.8231269717216492\n"
     ]
    },
    {
     "name": "stderr",
     "output_type": "stream",
     "text": [
      "Training (71 / 1000 Steps) (loss=0.06443): 100%|███████████████████████████████████| 1044/1044 [11:08<00:00,  1.56it/s]\n",
      "Validate (loss=0.10042): 100%|█████████████████████████████████████████████████████████| 55/55 [02:47<00:00,  3.05s/it]\n"
     ]
    },
    {
     "name": "stdout",
     "output_type": "stream",
     "text": [
      "Early Stopping patience: 1, best loss: 0.14198089160702446, current_loss: 0.1470928591760722\n",
      "Mean Hausdorff disatnce: 0\n",
      "Model Was Not Saved ! Current Best Avg. Dice: 0.8592594265937805 Current Avg. Dice: 0.8105677962303162\n"
     ]
    },
    {
     "name": "stderr",
     "output_type": "stream",
     "text": [
      "Training (72 / 1000 Steps) (loss=0.12100): 100%|███████████████████████████████████| 1044/1044 [11:06<00:00,  1.57it/s]\n",
      "Validate (loss=0.09763): 100%|█████████████████████████████████████████████████████████| 55/55 [02:48<00:00,  3.06s/it]\n"
     ]
    },
    {
     "name": "stdout",
     "output_type": "stream",
     "text": [
      "Mean Hausdorff disatnce: 0\n",
      "Model Was Not Saved ! Current Best Avg. Dice: 0.8592594265937805 Current Avg. Dice: 0.8232899308204651\n"
     ]
    },
    {
     "name": "stderr",
     "output_type": "stream",
     "text": [
      "Training (73 / 1000 Steps) (loss=0.03189): 100%|███████████████████████████████████| 1044/1044 [11:08<00:00,  1.56it/s]\n",
      "Validate (loss=0.09759): 100%|█████████████████████████████████████████████████████████| 55/55 [02:49<00:00,  3.07s/it]\n"
     ]
    },
    {
     "name": "stdout",
     "output_type": "stream",
     "text": [
      "Mean Hausdorff disatnce: 0\n",
      "Model Was Not Saved ! Current Best Avg. Dice: 0.8592594265937805 Current Avg. Dice: 0.8229753375053406\n"
     ]
    },
    {
     "name": "stderr",
     "output_type": "stream",
     "text": [
      "Training (74 / 1000 Steps) (loss=0.07659): 100%|███████████████████████████████████| 1044/1044 [11:07<00:00,  1.56it/s]\n",
      "Validate (loss=0.09074): 100%|█████████████████████████████████████████████████████████| 55/55 [02:47<00:00,  3.05s/it]\n"
     ]
    },
    {
     "name": "stdout",
     "output_type": "stream",
     "text": [
      "Early Stopping patience: 1, best loss: 0.135347899726846, current_loss: 0.13516372137449004\n",
      "Mean Hausdorff disatnce: 0\n",
      "Model Was Not Saved ! Current Best Avg. Dice: 0.8592594265937805 Current Avg. Dice: 0.8178638219833374\n"
     ]
    },
    {
     "name": "stderr",
     "output_type": "stream",
     "text": [
      "Training (75 / 1000 Steps) (loss=0.21477): 100%|███████████████████████████████████| 1044/1044 [11:08<00:00,  1.56it/s]\n",
      "Validate (loss=0.08271): 100%|█████████████████████████████████████████████████████████| 55/55 [02:49<00:00,  3.09s/it]\n"
     ]
    },
    {
     "name": "stdout",
     "output_type": "stream",
     "text": [
      "Mean Hausdorff disatnce: 0\n",
      "Model Was Not Saved ! Current Best Avg. Dice: 0.8592594265937805 Current Avg. Dice: 0.828734815120697\n"
     ]
    },
    {
     "name": "stderr",
     "output_type": "stream",
     "text": [
      "Training (76 / 1000 Steps) (loss=0.04172): 100%|███████████████████████████████████| 1044/1044 [11:08<00:00,  1.56it/s]\n",
      "Validate (loss=0.07575): 100%|█████████████████████████████████████████████████████████| 55/55 [02:48<00:00,  3.05s/it]\n"
     ]
    },
    {
     "name": "stdout",
     "output_type": "stream",
     "text": [
      "Early Stopping patience: 1, best loss: 0.1269590969451449, current_loss: 0.12652843225408683\n",
      "Mean Hausdorff disatnce: 0\n",
      "Model Was Not Saved ! Current Best Avg. Dice: 0.8592594265937805 Current Avg. Dice: 0.8255552649497986\n"
     ]
    },
    {
     "name": "stderr",
     "output_type": "stream",
     "text": [
      "Training (77 / 1000 Steps) (loss=0.07593): 100%|███████████████████████████████████| 1044/1044 [11:38<00:00,  1.49it/s]\n",
      "Validate (loss=0.06727): 100%|█████████████████████████████████████████████████████████| 55/55 [03:10<00:00,  3.47s/it]\n"
     ]
    },
    {
     "name": "stdout",
     "output_type": "stream",
     "text": [
      "Mean Hausdorff disatnce: 0\n",
      "Model Was Not Saved ! Current Best Avg. Dice: 0.8592594265937805 Current Avg. Dice: 0.8314730525016785\n"
     ]
    },
    {
     "name": "stderr",
     "output_type": "stream",
     "text": [
      "Training (78 / 1000 Steps) (loss=0.18009): 100%|███████████████████████████████████| 1044/1044 [11:32<00:00,  1.51it/s]\n",
      "Validate (loss=0.06766): 100%|█████████████████████████████████████████████████████████| 55/55 [03:07<00:00,  3.41s/it]\n"
     ]
    },
    {
     "name": "stdout",
     "output_type": "stream",
     "text": [
      "Mean Hausdorff disatnce: 0\n",
      "Model Was Not Saved ! Current Best Avg. Dice: 0.8592594265937805 Current Avg. Dice: 0.8349608182907104\n"
     ]
    },
    {
     "name": "stderr",
     "output_type": "stream",
     "text": [
      "Training (79 / 1000 Steps) (loss=0.02539): 100%|███████████████████████████████████| 1044/1044 [11:33<00:00,  1.50it/s]\n",
      "Validate (loss=0.06691): 100%|█████████████████████████████████████████████████████████| 55/55 [03:07<00:00,  3.41s/it]\n"
     ]
    },
    {
     "name": "stdout",
     "output_type": "stream",
     "text": [
      "Early Stopping patience: 1, best loss: 0.11960587405006994, current_loss: 0.1269437121904709\n",
      "Mean Hausdorff disatnce: 0\n",
      "Model Was Not Saved ! Current Best Avg. Dice: 0.8592594265937805 Current Avg. Dice: 0.822494387626648\n"
     ]
    },
    {
     "name": "stderr",
     "output_type": "stream",
     "text": [
      "Training (80 / 1000 Steps) (loss=0.03197): 100%|███████████████████████████████████| 1044/1044 [12:51<00:00,  1.35it/s]\n",
      "Validate (loss=0.06437): 100%|█████████████████████████████████████████████████████████| 55/55 [03:49<00:00,  4.18s/it]\n"
     ]
    },
    {
     "name": "stdout",
     "output_type": "stream",
     "text": [
      "Early Stopping patience: 2, best loss: 0.11960587405006994, current_loss: 0.12521013170480727\n",
      "Mean Hausdorff disatnce: 0\n",
      "Model Was Not Saved ! Current Best Avg. Dice: 0.8592594265937805 Current Avg. Dice: 0.8274049162864685\n"
     ]
    },
    {
     "name": "stderr",
     "output_type": "stream",
     "text": [
      "Training (81 / 1000 Steps) (loss=0.31071): 100%|███████████████████████████████████| 1044/1044 [11:35<00:00,  1.50it/s]\n",
      "Validate (loss=0.06659): 100%|█████████████████████████████████████████████████████████| 55/55 [03:06<00:00,  3.38s/it]\n"
     ]
    },
    {
     "name": "stdout",
     "output_type": "stream",
     "text": [
      "Early Stopping patience: 3, best loss: 0.11960587405006994, current_loss: 0.12329776317558505\n",
      "Mean Hausdorff disatnce: 0\n",
      "Model Was Not Saved ! Current Best Avg. Dice: 0.8592594265937805 Current Avg. Dice: 0.8282223343849182\n"
     ]
    },
    {
     "name": "stderr",
     "output_type": "stream",
     "text": [
      "Training (82 / 1000 Steps) (loss=0.04958): 100%|███████████████████████████████████| 1044/1044 [11:34<00:00,  1.50it/s]\n",
      "Validate (loss=0.04297): 100%|█████████████████████████████████████████████████████████| 55/55 [02:57<00:00,  3.22s/it]\n"
     ]
    },
    {
     "name": "stdout",
     "output_type": "stream",
     "text": [
      "Epoch 00083: reducing learning rate of group 0 to 6.2500e-06.\n",
      "Early Stopping patience: 4, best loss: 0.11960587405006994, current_loss: 0.12003453058952634\n",
      "Mean Hausdorff disatnce: 0\n",
      "Model Was Not Saved ! Current Best Avg. Dice: 0.8592594265937805 Current Avg. Dice: 0.829456627368927\n"
     ]
    },
    {
     "name": "stderr",
     "output_type": "stream",
     "text": [
      "Training (83 / 1000 Steps) (loss=0.10758): 100%|███████████████████████████████████| 1044/1044 [11:12<00:00,  1.55it/s]\n",
      "Validate (loss=0.04218): 100%|█████████████████████████████████████████████████████████| 55/55 [02:52<00:00,  3.14s/it]\n"
     ]
    },
    {
     "name": "stdout",
     "output_type": "stream",
     "text": [
      "Mean Hausdorff disatnce: 0\n",
      "Model Was Not Saved ! Current Best Avg. Dice: 0.8592594265937805 Current Avg. Dice: 0.8407043218612671\n"
     ]
    },
    {
     "name": "stderr",
     "output_type": "stream",
     "text": [
      "Training (84 / 1000 Steps) (loss=0.02626): 100%|███████████████████████████████████| 1044/1044 [11:09<00:00,  1.56it/s]\n",
      "Validate (loss=0.03946): 100%|█████████████████████████████████████████████████████████| 55/55 [02:52<00:00,  3.13s/it]\n"
     ]
    },
    {
     "name": "stdout",
     "output_type": "stream",
     "text": [
      "Early Stopping patience: 1, best loss: 0.11230030799792572, current_loss: 0.1132878061553294\n",
      "Mean Hausdorff disatnce: 0\n",
      "Model Was Not Saved ! Current Best Avg. Dice: 0.8592594265937805 Current Avg. Dice: 0.8384602069854736\n"
     ]
    },
    {
     "name": "stderr",
     "output_type": "stream",
     "text": [
      "Training (85 / 1000 Steps) (loss=0.04755): 100%|███████████████████████████████████| 1044/1044 [11:07<00:00,  1.56it/s]\n",
      "Validate (loss=0.03697): 100%|█████████████████████████████████████████████████████████| 55/55 [02:48<00:00,  3.07s/it]\n"
     ]
    },
    {
     "name": "stdout",
     "output_type": "stream",
     "text": [
      "Early Stopping patience: 2, best loss: 0.11230030799792572, current_loss: 0.11332648106935349\n",
      "Mean Hausdorff disatnce: 0\n",
      "Model Was Not Saved ! Current Best Avg. Dice: 0.8592594265937805 Current Avg. Dice: 0.8373581171035767\n"
     ]
    },
    {
     "name": "stderr",
     "output_type": "stream",
     "text": [
      "Training (86 / 1000 Steps) (loss=0.09026): 100%|███████████████████████████████████| 1044/1044 [11:05<00:00,  1.57it/s]\n",
      "Validate (loss=0.03659): 100%|█████████████████████████████████████████████████████████| 55/55 [02:47<00:00,  3.05s/it]\n"
     ]
    },
    {
     "name": "stdout",
     "output_type": "stream",
     "text": [
      "Early Stopping patience: 3, best loss: 0.11230030799792572, current_loss: 0.11432909648865461\n",
      "Mean Hausdorff disatnce: 0\n",
      "Model Was Not Saved ! Current Best Avg. Dice: 0.8592594265937805 Current Avg. Dice: 0.8379414081573486\n"
     ]
    },
    {
     "name": "stderr",
     "output_type": "stream",
     "text": [
      "Training (87 / 1000 Steps) (loss=0.04216): 100%|███████████████████████████████████| 1044/1044 [11:07<00:00,  1.56it/s]\n",
      "Validate (loss=0.03704): 100%|█████████████████████████████████████████████████████████| 55/55 [02:50<00:00,  3.09s/it]\n"
     ]
    },
    {
     "name": "stdout",
     "output_type": "stream",
     "text": [
      "Epoch 00088: reducing learning rate of group 0 to 1.5625e-06.\n",
      "Early Stopping patience: 4, best loss: 0.11230030799792572, current_loss: 0.11294956278394569\n",
      "Mean Hausdorff disatnce: 0\n",
      "Model Was Not Saved ! Current Best Avg. Dice: 0.8592594265937805 Current Avg. Dice: 0.8400755524635315\n"
     ]
    },
    {
     "name": "stderr",
     "output_type": "stream",
     "text": [
      "Training (88 / 1000 Steps) (loss=0.02198): 100%|███████████████████████████████████| 1044/1044 [11:08<00:00,  1.56it/s]\n",
      "Validate (loss=0.03632): 100%|█████████████████████████████████████████████████████████| 55/55 [02:47<00:00,  3.05s/it]\n"
     ]
    },
    {
     "name": "stdout",
     "output_type": "stream",
     "text": [
      "Early Stopping patience: 5, best loss: 0.11230030799792572, current_loss: 0.11159908406605774\n",
      "Mean Hausdorff disatnce: 0\n",
      "Model Was Not Saved ! Current Best Avg. Dice: 0.8592594265937805 Current Avg. Dice: 0.8423954248428345\n"
     ]
    },
    {
     "name": "stderr",
     "output_type": "stream",
     "text": [
      "Training (89 / 1000 Steps) (loss=0.01057): 100%|███████████████████████████████████| 1044/1044 [11:06<00:00,  1.57it/s]\n",
      "Validate (loss=0.03703): 100%|█████████████████████████████████████████████████████████| 55/55 [02:49<00:00,  3.08s/it]\n"
     ]
    },
    {
     "name": "stdout",
     "output_type": "stream",
     "text": [
      "Mean Hausdorff disatnce: 0\n",
      "Model Was Not Saved ! Current Best Avg. Dice: 0.8592594265937805 Current Avg. Dice: 0.8432763814926147\n"
     ]
    },
    {
     "name": "stderr",
     "output_type": "stream",
     "text": [
      "Training (90 / 1000 Steps) (loss=0.08773): 100%|███████████████████████████████████| 1044/1044 [11:07<00:00,  1.56it/s]\n",
      "Validate (loss=0.03645): 100%|█████████████████████████████████████████████████████████| 55/55 [02:50<00:00,  3.10s/it]\n"
     ]
    },
    {
     "name": "stdout",
     "output_type": "stream",
     "text": [
      "Early Stopping patience: 1, best loss: 0.11087162534452298, current_loss: 0.11133064722472971\n",
      "Mean Hausdorff disatnce: 0\n",
      "Model Was Not Saved ! Current Best Avg. Dice: 0.8592594265937805 Current Avg. Dice: 0.841876208782196\n"
     ]
    },
    {
     "name": "stderr",
     "output_type": "stream",
     "text": [
      "Training (91 / 1000 Steps) (loss=0.04405): 100%|███████████████████████████████████| 1044/1044 [11:32<00:00,  1.51it/s]\n",
      "Validate (loss=0.03736): 100%|█████████████████████████████████████████████████████████| 55/55 [02:57<00:00,  3.24s/it]\n"
     ]
    },
    {
     "name": "stdout",
     "output_type": "stream",
     "text": [
      "Early Stopping patience: 2, best loss: 0.11087162534452298, current_loss: 0.11001200156963685\n",
      "Mean Hausdorff disatnce: 0\n",
      "Model Was Not Saved ! Current Best Avg. Dice: 0.8592594265937805 Current Avg. Dice: 0.8433333039283752\n"
     ]
    },
    {
     "name": "stderr",
     "output_type": "stream",
     "text": [
      "Training (92 / 1000 Steps) (loss=0.04613): 100%|███████████████████████████████████| 1044/1044 [11:30<00:00,  1.51it/s]\n",
      "Validate (loss=0.03760): 100%|█████████████████████████████████████████████████████████| 55/55 [02:59<00:00,  3.27s/it]\n"
     ]
    },
    {
     "name": "stdout",
     "output_type": "stream",
     "text": [
      "Early Stopping patience: 3, best loss: 0.11087162534452298, current_loss: 0.11021417122842236\n",
      "Mean Hausdorff disatnce: 0\n",
      "Model Was Not Saved ! Current Best Avg. Dice: 0.8592594265937805 Current Avg. Dice: 0.8420443534851074\n"
     ]
    },
    {
     "name": "stderr",
     "output_type": "stream",
     "text": [
      "Training (93 / 1000 Steps) (loss=0.06417): 100%|███████████████████████████████████| 1044/1044 [11:29<00:00,  1.51it/s]\n",
      "Validate (loss=0.03776): 100%|█████████████████████████████████████████████████████████| 55/55 [02:53<00:00,  3.15s/it]\n"
     ]
    },
    {
     "name": "stdout",
     "output_type": "stream",
     "text": [
      "Early Stopping patience: 4, best loss: 0.11087162534452298, current_loss: 0.11050977014343846\n",
      "Mean Hausdorff disatnce: 0\n",
      "Model Was Not Saved ! Current Best Avg. Dice: 0.8592594265937805 Current Avg. Dice: 0.8414759039878845\n"
     ]
    },
    {
     "name": "stderr",
     "output_type": "stream",
     "text": [
      "Training (94 / 1000 Steps) (loss=0.01838): 100%|███████████████████████████████████| 1044/1044 [11:27<00:00,  1.52it/s]\n",
      "Validate (loss=0.03711): 100%|█████████████████████████████████████████████████████████| 55/55 [02:55<00:00,  3.19s/it]\n"
     ]
    },
    {
     "name": "stdout",
     "output_type": "stream",
     "text": [
      "Early Stopping patience: 5, best loss: 0.11087162534452298, current_loss: 0.11038470906628804\n",
      "Mean Hausdorff disatnce: 0\n",
      "Model Was Not Saved ! Current Best Avg. Dice: 0.8592594265937805 Current Avg. Dice: 0.841641902923584\n"
     ]
    },
    {
     "name": "stderr",
     "output_type": "stream",
     "text": [
      "Training (95 / 1000 Steps) (loss=0.01877): 100%|███████████████████████████████████| 1044/1044 [11:33<00:00,  1.50it/s]\n",
      "Validate (loss=0.03666): 100%|█████████████████████████████████████████████████████████| 55/55 [03:05<00:00,  3.37s/it]\n"
     ]
    },
    {
     "name": "stdout",
     "output_type": "stream",
     "text": [
      "Epoch 00096: reducing learning rate of group 0 to 3.9063e-07.\n",
      "Early Stopping patience: 6, best loss: 0.11087162534452298, current_loss: 0.11073108607564461\n",
      "Mean Hausdorff disatnce: 0\n",
      "Model Was Not Saved ! Current Best Avg. Dice: 0.8592594265937805 Current Avg. Dice: 0.8409982919692993\n"
     ]
    },
    {
     "name": "stderr",
     "output_type": "stream",
     "text": [
      "Training (96 / 1000 Steps) (loss=0.06057): 100%|███████████████████████████████████| 1044/1044 [11:28<00:00,  1.52it/s]\n",
      "Validate (loss=0.03639): 100%|█████████████████████████████████████████████████████████| 55/55 [02:57<00:00,  3.23s/it]\n"
     ]
    },
    {
     "name": "stdout",
     "output_type": "stream",
     "text": [
      "Early Stopping patience: 7, best loss: 0.11087162534452298, current_loss: 0.11073781937699426\n",
      "Mean Hausdorff disatnce: 0\n",
      "Model Was Not Saved ! Current Best Avg. Dice: 0.8592594265937805 Current Avg. Dice: 0.8410686254501343\n"
     ]
    },
    {
     "name": "stderr",
     "output_type": "stream",
     "text": [
      "Training (97 / 1000 Steps) (loss=0.02707): 100%|███████████████████████████████████| 1044/1044 [11:20<00:00,  1.54it/s]\n",
      "Validate (loss=0.03695): 100%|█████████████████████████████████████████████████████████| 55/55 [02:52<00:00,  3.13s/it]\n"
     ]
    },
    {
     "name": "stdout",
     "output_type": "stream",
     "text": [
      "Early Stopping patience: 8, best loss: 0.11087162534452298, current_loss: 0.11033334029330448\n",
      "Mean Hausdorff disatnce: 0\n",
      "Model Was Not Saved ! Current Best Avg. Dice: 0.8592594265937805 Current Avg. Dice: 0.8414854407310486\n"
     ]
    },
    {
     "name": "stderr",
     "output_type": "stream",
     "text": [
      "Training (98 / 1000 Steps) (loss=0.02750): 100%|███████████████████████████████████| 1044/1044 [11:14<00:00,  1.55it/s]\n",
      "Validate (loss=0.03640): 100%|█████████████████████████████████████████████████████████| 55/55 [02:53<00:00,  3.15s/it]\n"
     ]
    },
    {
     "name": "stdout",
     "output_type": "stream",
     "text": [
      "Early Stopping patience: 9, best loss: 0.11087162534452298, current_loss: 0.11062085652215914\n",
      "Mean Hausdorff disatnce: 0\n",
      "Model Was Not Saved ! Current Best Avg. Dice: 0.8592594265937805 Current Avg. Dice: 0.8415051698684692\n"
     ]
    },
    {
     "name": "stderr",
     "output_type": "stream",
     "text": [
      "Training (99 / 1000 Steps) (loss=0.07430): 100%|███████████████████████████████████| 1044/1044 [11:27<00:00,  1.52it/s]\n",
      "Validate (loss=0.03650): 100%|█████████████████████████████████████████████████████████| 55/55 [02:56<00:00,  3.20s/it]"
     ]
    },
    {
     "name": "stdout",
     "output_type": "stream",
     "text": [
      "Epoch 00100: reducing learning rate of group 0 to 9.7656e-08.\n",
      "Early Stopping patience: 10, best loss: 0.11087162534452298, current_loss: 0.11031304468316111\n",
      "Mean Hausdorff disatnce: 0\n",
      "Model Was Not Saved ! Current Best Avg. Dice: 0.8592594265937805 Current Avg. Dice: 0.8419227004051208\n"
     ]
    },
    {
     "name": "stderr",
     "output_type": "stream",
     "text": [
      "\n"
     ]
    }
   ],
   "source": [
    "torch.backends.cudnn.benchmark = True\n",
    "swin_trainer.train(train_loader, val_loader)"
   ]
  },
  {
   "cell_type": "code",
   "execution_count": 16,
   "id": "70b222ec",
   "metadata": {},
   "outputs": [],
   "source": [
    "torch.save(swin_trainer.model.state_dict(), f'{model_folder}/last_metric_model.pth')"
   ]
  },
  {
   "cell_type": "code",
   "execution_count": 13,
   "id": "b7eb7fc4",
   "metadata": {},
   "outputs": [
    {
     "data": {
      "image/png": "[encoded data removed]",
      "text/plain": [
       "<Figure size 1200x600 with 2 Axes>"
      ]
     },
     "metadata": {},
     "output_type": "display_data"
    }
   ],
   "source": [
    "swin_trainer.plot_train_info()"
   ]
  },
  {
   "cell_type": "code",
   "execution_count": 9,
   "id": "48463085",
   "metadata": {},
   "outputs": [],
   "source": [
    "file_list_test = generate_file_path(root_path=f'{root_dataset}/test', label_name=label_name)\n",
    "test_ds = PersistentDataset(\n",
    "    data=file_list_test,\n",
    "    transform=val_transforms,\n",
    "    cache_dir=f'test_{task_name}'\n",
    "#     cache_dir='C:/Training/val'\n",
    ")\n",
    "\n",
    "test_loader = DataLoader(test_ds, num_workers=0, batch_size=1, \n",
    "                              collate_fn=lambda x: pad_list_data_collate(x, pad_to_shape=(96, 96, 96)))"
   ]
  },
  {
   "cell_type": "code",
   "execution_count": 10,
   "id": "a4ce1171",
   "metadata": {},
   "outputs": [],
   "source": [
    "torch.cuda.empty_cache()"
   ]
  },
  {
   "cell_type": "code",
   "execution_count": 11,
   "id": "49e2adc2",
   "metadata": {},
   "outputs": [
    {
     "name": "stderr",
     "output_type": "stream",
     "text": [
      "Test:   0%|                                                                                     | 0/64 [00:00<?, ?it/s]None of the inputs have requires_grad=True. Gradients will be None\n",
      "invalid value encountered in double_scalars\n",
      "torch.cuda.reset_max_memory_allocated now calls torch.cuda.reset_peak_memory_stats, which resets /all/ peak memory stats.\n",
      "Test (loss=0.57653): 100%|█████████████████████████████████████████████████████████████| 64/64 [17:27<00:00, 16.36s/it]\n"
     ]
    },
    {
     "data": {
      "text/plain": [
       "([0.956514022303152,\n",
       "  0.9611743890114326,\n",
       "  0.9394159321252584,\n",
       "  0.9241657111460356,\n",
       "  0.9160224367797001,\n",
       "  0.9217332768488612,\n",
       "  0.9305778443295892,\n",
       "  0.9025034208615613,\n",
       "  0.880664055313452,\n",
       "  0.8360969952771289,\n",
       "  0.7662438514227742,\n",
       "  0.782824890629511,\n",
       "  0.8516953999830628,\n",
       "  0.8654537854486324,\n",
       "  0.917010885374695,\n",
       "  0.9434189597787058,\n",
       "  0.9469814700283887,\n",
       "  0.9227148278368708,\n",
       "  0.7699907779303209,\n",
       "  0.8152961044228398,\n",
       "  0.8970373029428657,\n",
       "  0.8827964198988667,\n",
       "  0.9475868113441093,\n",
       "  0.9078537241506629],\n",
       " [3.0628794459533952,\n",
       "  3.1193494418718264,\n",
       "  10.493412035417586,\n",
       "  16.015626151852956,\n",
       "  19.603716441590016,\n",
       "  19.27816780285183,\n",
       "  12.401678917958982,\n",
       "  15.969989930379299,\n",
       "  19.00663194292533,\n",
       "  19.79996449820242,\n",
       "  28.446802732060274,\n",
       "  24.97523962760514,\n",
       "  13.536338638007662,\n",
       "  18.8179682382138,\n",
       "  13.101472076398753,\n",
       "  6.965044198047613,\n",
       "  3.1884613622912172,\n",
       "  6.085817865402814,\n",
       "  24.24482400697021,\n",
       "  18.301440833246254,\n",
       "  7.636596748960815,\n",
       "  16.83280630620262,\n",
       "  1.599907364113681,\n",
       "  3.8333822469742476],\n",
       " [0.980811599246688,\n",
       "  0.984355625834603,\n",
       "  0.9599267210161675,\n",
       "  0.9548494010161686,\n",
       "  0.9550573525934796,\n",
       "  0.9523467657682302,\n",
       "  0.9558360454019201,\n",
       "  0.9381731646766316,\n",
       "  0.9373528583090435,\n",
       "  0.8932550441833664,\n",
       "  0.8217802042995563,\n",
       "  0.857319535480449,\n",
       "  0.9090835701361423,\n",
       "  0.9179505997017381,\n",
       "  0.9504460293290935,\n",
       "  0.9752227538349673,\n",
       "  0.9851101256588539,\n",
       "  0.9722072683122691,\n",
       "  0.9475751131933852,\n",
       "  0.9649927592879035,\n",
       "  0.98376835220392,\n",
       "  0.9628357009746827,\n",
       "  0.9911837608959306,\n",
       "  0.9788274825114299],\n",
       " [4.1349302693221475,\n",
       "  2.7306037843791953,\n",
       "  8.844889541746468,\n",
       "  13.670941772947497,\n",
       "  14.748276158370954,\n",
       "  16.571344639235498,\n",
       "  10.656297907792329,\n",
       "  12.708677573523625,\n",
       "  12.881725850005358,\n",
       "  15.615246867680044,\n",
       "  23.9830960626373,\n",
       "  17.952898140021485,\n",
       "  10.607185143998972,\n",
       "  15.486228525991349,\n",
       "  10.73052312594419,\n",
       "  5.558915760596415,\n",
       "  2.6855977756961575,\n",
       "  7.1850561542215585,\n",
       "  11.36836611429602,\n",
       "  5.98664419820661,\n",
       "  3.0882714417895927,\n",
       "  9.744708305381101,\n",
       "  1.3055832764757949,\n",
       "  2.5870447618306933],\n",
       " 0.4871103470795788)"
      ]
     },
     "execution_count": 11,
     "metadata": {},
     "output_type": "execute_result"
    }
   ],
   "source": [
    "swin_trainer.test_new(test_loader)"
   ]
  },
  {
   "cell_type": "code",
   "execution_count": 11,
   "id": "04f24257",
   "metadata": {},
   "outputs": [
    {
     "name": "stderr",
     "output_type": "stream",
     "text": [
      "Test:   0%|                                                                                     | 0/64 [00:00<?, ?it/s]None of the inputs have requires_grad=True. Gradients will be None\n",
      "invalid value encountered in double_scalars\n",
      "torch.cuda.reset_max_memory_allocated now calls torch.cuda.reset_peak_memory_stats, which resets /all/ peak memory stats.\n",
      "Test (loss=0.02071): 100%|█████████████████████████████████████████████████████████████| 64/64 [13:45<00:00, 12.89s/it]\n"
     ]
    },
    {
     "data": {
      "text/plain": [
       "([0.9550237772916683,\n",
       "  0.9406493770830557,\n",
       "  0.9348909634718879,\n",
       "  0.9295861076743512,\n",
       "  0.9540627829851608,\n",
       "  0.9286871027601844,\n",
       "  0.9330530328009146,\n",
       "  0.9030768028300202,\n",
       "  0.8677299290359319,\n",
       "  0.8089367083418029,\n",
       "  0.7962077974705921,\n",
       "  0.7785867903454619,\n",
       "  0.8512046415782425,\n",
       "  0.8840324124932429,\n",
       "  0.9149609604269017,\n",
       "  0.9388387089291317,\n",
       "  0.9410125030347284,\n",
       "  0.9165504764721343,\n",
       "  0.8209620679594722,\n",
       "  0.8000572992497029,\n",
       "  0.8381535669622356,\n",
       "  0.9168570127708511,\n",
       "  0.9404273078351598,\n",
       "  0.8985169321575585],\n",
       " [2.986358297816274,\n",
       "  13.58529545936771,\n",
       "  12.506134687331564,\n",
       "  15.359609242896152,\n",
       "  9.026362630573706,\n",
       "  16.829908825011465,\n",
       "  11.721386881350398,\n",
       "  15.766372752011604,\n",
       "  20.646356223143886,\n",
       "  24.99850067762424,\n",
       "  24.56358755981359,\n",
       "  25.575093827613927,\n",
       "  15.215779135456897,\n",
       "  15.77135175379608,\n",
       "  13.17400106790927,\n",
       "  6.764105894599649,\n",
       "  2.7576639515978303,\n",
       "  5.017237665344848,\n",
       "  20.555457616537954,\n",
       "  25.548419626931278,\n",
       "  23.454668353135368,\n",
       "  3.3423577352149425,\n",
       "  1.6036909226167924,\n",
       "  5.359511154051198],\n",
       " [0.9867093374624876,\n",
       "  0.9731414094166894,\n",
       "  0.9772106488938803,\n",
       "  0.9638336956108922,\n",
       "  0.9836505018998707,\n",
       "  0.9572898497740476,\n",
       "  0.9610186992878855,\n",
       "  0.9384832976929264,\n",
       "  0.9275219283209764,\n",
       "  0.8872705132847982,\n",
       "  0.849554314084862,\n",
       "  0.8597263427017081,\n",
       "  0.9180112554486616,\n",
       "  0.9401822367476989,\n",
       "  0.9576684799745185,\n",
       "  0.97916949814372,\n",
       "  0.9887900337806161,\n",
       "  0.9758725949235768,\n",
       "  0.9532301985610356,\n",
       "  0.9225490082846588,\n",
       "  0.9244298371543428,\n",
       "  0.9871951195024746,\n",
       "  0.9928638024447589,\n",
       "  0.979963509318652],\n",
       " [2.569430023404843,\n",
       "  9.17257941437844,\n",
       "  4.817457756979609,\n",
       "  12.617671685964982,\n",
       "  6.628658340617342,\n",
       "  15.511958000289647,\n",
       "  10.145304663218083,\n",
       "  13.019641934648313,\n",
       "  14.172946516416912,\n",
       "  17.49201957124745,\n",
       "  22.28913834376884,\n",
       "  20.193223439185346,\n",
       "  11.068982770030786,\n",
       "  12.231217566454946,\n",
       "  11.198288702371501,\n",
       "  5.2863451089945785,\n",
       "  1.902890995528523,\n",
       "  5.441526026292653,\n",
       "  11.721219804219704,\n",
       "  17.504464030879472,\n",
       "  23.27529191555223,\n",
       "  1.8510148109902063,\n",
       "  0.8870777168808723,\n",
       "  3.726255221191811],\n",
       " 0.0920745977491606)"
      ]
     },
     "execution_count": 11,
     "metadata": {},
     "output_type": "execute_result"
    }
   ],
   "source": [
    "torch.cuda.empty_cache()\n",
    "swin_trainer.test_new(test_loader)"
   ]
  },
  {
   "cell_type": "code",
   "execution_count": null,
   "id": "85ba1ec3",
   "metadata": {},
   "outputs": [],
   "source": [
    "for t in train_loader:\n",
    "    if t['label'].max() == 0:\n",
    "        print(t['label'].min(), t['label'].max() == 0)\n",
    "    break"
   ]
  }
 ],
 "metadata": {
  "kernelspec": {
   "display_name": "Python (DeepLearningFinalProject)",
   "language": "python",
   "name": "myenv"
  },
  "language_info": {
   "codemirror_mode": {
    "name": "ipython",
    "version": 3
   },
   "file_extension": ".py",
   "mimetype": "text/x-python",
   "name": "python",
   "nbconvert_exporter": "python",
   "pygments_lexer": "ipython3",
   "version": "3.9.7"
  }
 },
 "nbformat": 4,
 "nbformat_minor": 5
}
