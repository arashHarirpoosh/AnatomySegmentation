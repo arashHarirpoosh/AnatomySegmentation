{
 "cells": [
  {
   "cell_type": "code",
   "execution_count": 1,
   "id": "c5a3913e",
   "metadata": {},
   "outputs": [
    {
     "name": "stdout",
     "output_type": "stream",
     "text": [
      "MONAI version: 1.2.dev2313\n",
      "Numpy version: 1.23.5\n",
      "Pytorch version: 2.0.0+cu118\n",
      "MONAI flags: HAS_EXT = False, USE_COMPILED = False, USE_META_DICT = False\n",
      "MONAI rev id: 331437dfce075b4fa5785016ad4e7f8c7c77ad21\n",
      "MONAI __file__: D:\\Arash\\Semester2\\DeepLearning\\FinalProject\\venv\\lib\\site-packages\\monai\\__init__.py\n",
      "\n",
      "Optional dependencies:\n",
      "Pytorch Ignite version: 0.4.11\n",
      "ITK version: 5.3.0\n",
      "Nibabel version: 5.0.1\n",
      "scikit-image version: 0.20.0\n",
      "Pillow version: 9.4.0\n",
      "Tensorboard version: 2.12.0\n",
      "gdown version: 4.7.1\n",
      "TorchVision version: 0.15.1+cu118\n",
      "tqdm version: 4.65.0\n",
      "lmdb version: 1.4.0\n",
      "psutil version: 5.9.4\n",
      "pandas version: 1.5.3\n",
      "einops version: 0.6.0\n",
      "transformers version: 4.27.3\n",
      "mlflow version: 2.2.2\n",
      "pynrrd version: 1.0.0\n",
      "\n",
      "For details about installing the optional dependencies, please visit:\n",
      "    https://docs.monai.io/en/latest/installation.html#installing-the-recommended-dependencies\n",
      "\n"
     ]
    }
   ],
   "source": [
    "import os\n",
    "import torch\n",
    "from trainer import Trainer\n",
    "\n",
    "from Preprocessing import (\n",
    "    filter_collate_fn,\n",
    "    generate_file_path,\n",
    "    get_train_transform,\n",
    "    get_validation_transform\n",
    ")\n",
    "\n",
    "from monai.data import (\n",
    "    DataLoader,\n",
    "    ThreadDataLoader,\n",
    "    SmartCacheDataset,\n",
    "    PersistentDataset,\n",
    "    load_decathlon_datalist,\n",
    "    decollate_batch,\n",
    "    set_track_meta,\n",
    ")\n",
    "\n",
    "from monai.losses import DiceCELoss\n",
    "\n",
    "from monai.networks.nets import SwinUNETR\n",
    "from map_to_binary import class_map_5_parts\n",
    "from monai.data.utils import pad_list_data_collate\n"
   ]
  },
  {
   "cell_type": "code",
   "execution_count": 2,
   "id": "1dc77eac",
   "metadata": {},
   "outputs": [],
   "source": [
    "task_name = 'cardiac'\n",
    "val_transforms = get_validation_transform()\n",
    "train_transforms = get_train_transform(num_samples=4)"
   ]
  },
  {
   "cell_type": "markdown",
   "id": "0413decb",
   "metadata": {},
   "source": [
    "# Load Dataset"
   ]
  },
  {
   "cell_type": "code",
   "execution_count": 3,
   "id": "ff9d9330",
   "metadata": {},
   "outputs": [],
   "source": [
    "root_dataset = 'DatasetCombined'\n",
    "label_name = f'labels_task_{task_name}'"
   ]
  },
  {
   "cell_type": "code",
   "execution_count": 4,
   "id": "cdfff62d",
   "metadata": {},
   "outputs": [
    {
     "ename": "KeyboardInterrupt",
     "evalue": "",
     "output_type": "error",
     "traceback": [
      "\u001b[1;31m---------------------------------------------------------------------------\u001b[0m",
      "\u001b[1;31mKeyboardInterrupt\u001b[0m                         Traceback (most recent call last)",
      "Cell \u001b[1;32mIn[4], line 2\u001b[0m\n\u001b[0;32m      1\u001b[0m file_list_val \u001b[38;5;241m=\u001b[39m generate_file_path(root_path\u001b[38;5;241m=\u001b[39m\u001b[38;5;124mf\u001b[39m\u001b[38;5;124m'\u001b[39m\u001b[38;5;132;01m{\u001b[39;00mroot_dataset\u001b[38;5;132;01m}\u001b[39;00m\u001b[38;5;124m/val\u001b[39m\u001b[38;5;124m'\u001b[39m, label_name\u001b[38;5;241m=\u001b[39mlabel_name)\n\u001b[1;32m----> 2\u001b[0m file_list_train \u001b[38;5;241m=\u001b[39m \u001b[43mgenerate_file_path\u001b[49m\u001b[43m(\u001b[49m\u001b[43mroot_path\u001b[49m\u001b[38;5;241;43m=\u001b[39;49m\u001b[38;5;124;43mf\u001b[39;49m\u001b[38;5;124;43m'\u001b[39;49m\u001b[38;5;132;43;01m{\u001b[39;49;00m\u001b[43mroot_dataset\u001b[49m\u001b[38;5;132;43;01m}\u001b[39;49;00m\u001b[38;5;124;43m/train\u001b[39;49m\u001b[38;5;124;43m'\u001b[39;49m\u001b[43m,\u001b[49m\u001b[43m \u001b[49m\u001b[43mlabel_name\u001b[49m\u001b[38;5;241;43m=\u001b[39;49m\u001b[43mlabel_name\u001b[49m\u001b[43m)\u001b[49m\n",
      "File \u001b[1;32mD:\\Arash\\AnatomySegmentation\\Preprocessing.py:201\u001b[0m, in \u001b[0;36mgenerate_file_path\u001b[1;34m(root_path, label_name)\u001b[0m\n\u001b[0;32m    199\u001b[0m \u001b[38;5;28;01mdef\u001b[39;00m \u001b[38;5;21mgenerate_file_path\u001b[39m(root_path, label_name):\n\u001b[0;32m    200\u001b[0m     all_files \u001b[38;5;241m=\u001b[39m os\u001b[38;5;241m.\u001b[39mlistdir(root_path)\n\u001b[1;32m--> 201\u001b[0m     \u001b[38;5;28;01mreturn\u001b[39;00m [{\u001b[38;5;124m'\u001b[39m\u001b[38;5;124mimage\u001b[39m\u001b[38;5;124m'\u001b[39m: \u001b[38;5;124mf\u001b[39m\u001b[38;5;124m'\u001b[39m\u001b[38;5;132;01m{\u001b[39;00mroot_path\u001b[38;5;132;01m}\u001b[39;00m\u001b[38;5;124m/\u001b[39m\u001b[38;5;132;01m{\u001b[39;00mi\u001b[38;5;132;01m}\u001b[39;00m\u001b[38;5;124m/ct.nii.gz\u001b[39m\u001b[38;5;124m'\u001b[39m,\n\u001b[0;32m    202\u001b[0m              \u001b[38;5;124m'\u001b[39m\u001b[38;5;124mlabel\u001b[39m\u001b[38;5;124m'\u001b[39m: \u001b[38;5;124mf\u001b[39m\u001b[38;5;124m'\u001b[39m\u001b[38;5;132;01m{\u001b[39;00mroot_path\u001b[38;5;132;01m}\u001b[39;00m\u001b[38;5;124m/\u001b[39m\u001b[38;5;132;01m{\u001b[39;00mi\u001b[38;5;132;01m}\u001b[39;00m\u001b[38;5;124m/segments/\u001b[39m\u001b[38;5;132;01m{\u001b[39;00mlabel_name\u001b[38;5;132;01m}\u001b[39;00m\u001b[38;5;124m.nii.gz\u001b[39m\u001b[38;5;124m'\u001b[39m\n\u001b[0;32m    203\u001b[0m              }\n\u001b[0;32m    204\u001b[0m             \u001b[38;5;28;01mfor\u001b[39;00m i \u001b[38;5;129;01min\u001b[39;00m all_files \u001b[38;5;28;01mif\u001b[39;00m os\u001b[38;5;241m.\u001b[39mpath\u001b[38;5;241m.\u001b[39misfile(\u001b[38;5;124mf\u001b[39m\u001b[38;5;124m'\u001b[39m\u001b[38;5;132;01m{\u001b[39;00mroot_path\u001b[38;5;132;01m}\u001b[39;00m\u001b[38;5;124m/\u001b[39m\u001b[38;5;132;01m{\u001b[39;00mi\u001b[38;5;132;01m}\u001b[39;00m\u001b[38;5;124m/ct.nii.gz\u001b[39m\u001b[38;5;124m'\u001b[39m) \u001b[38;5;28;01mif\u001b[39;00m\n\u001b[0;32m    205\u001b[0m             nib\u001b[38;5;241m.\u001b[39mload(\u001b[38;5;124mf\u001b[39m\u001b[38;5;124m'\u001b[39m\u001b[38;5;132;01m{\u001b[39;00mroot_path\u001b[38;5;132;01m}\u001b[39;00m\u001b[38;5;124m/\u001b[39m\u001b[38;5;132;01m{\u001b[39;00mi\u001b[38;5;132;01m}\u001b[39;00m\u001b[38;5;124m/segments/\u001b[39m\u001b[38;5;132;01m{\u001b[39;00mlabel_name\u001b[38;5;132;01m}\u001b[39;00m\u001b[38;5;124m.nii.gz\u001b[39m\u001b[38;5;124m'\u001b[39m)\u001b[38;5;241m.\u001b[39mget_fdata(dtype\u001b[38;5;241m=\u001b[39mnp\u001b[38;5;241m.\u001b[39mfloat32)\u001b[38;5;241m.\u001b[39mmax() \u001b[38;5;241m>\u001b[39m \u001b[38;5;241m0\u001b[39m]\n",
      "File \u001b[1;32mD:\\Arash\\AnatomySegmentation\\Preprocessing.py:205\u001b[0m, in \u001b[0;36m<listcomp>\u001b[1;34m(.0)\u001b[0m\n\u001b[0;32m    199\u001b[0m \u001b[38;5;28;01mdef\u001b[39;00m \u001b[38;5;21mgenerate_file_path\u001b[39m(root_path, label_name):\n\u001b[0;32m    200\u001b[0m     all_files \u001b[38;5;241m=\u001b[39m os\u001b[38;5;241m.\u001b[39mlistdir(root_path)\n\u001b[0;32m    201\u001b[0m     \u001b[38;5;28;01mreturn\u001b[39;00m [{\u001b[38;5;124m'\u001b[39m\u001b[38;5;124mimage\u001b[39m\u001b[38;5;124m'\u001b[39m: \u001b[38;5;124mf\u001b[39m\u001b[38;5;124m'\u001b[39m\u001b[38;5;132;01m{\u001b[39;00mroot_path\u001b[38;5;132;01m}\u001b[39;00m\u001b[38;5;124m/\u001b[39m\u001b[38;5;132;01m{\u001b[39;00mi\u001b[38;5;132;01m}\u001b[39;00m\u001b[38;5;124m/ct.nii.gz\u001b[39m\u001b[38;5;124m'\u001b[39m,\n\u001b[0;32m    202\u001b[0m              \u001b[38;5;124m'\u001b[39m\u001b[38;5;124mlabel\u001b[39m\u001b[38;5;124m'\u001b[39m: \u001b[38;5;124mf\u001b[39m\u001b[38;5;124m'\u001b[39m\u001b[38;5;132;01m{\u001b[39;00mroot_path\u001b[38;5;132;01m}\u001b[39;00m\u001b[38;5;124m/\u001b[39m\u001b[38;5;132;01m{\u001b[39;00mi\u001b[38;5;132;01m}\u001b[39;00m\u001b[38;5;124m/segments/\u001b[39m\u001b[38;5;132;01m{\u001b[39;00mlabel_name\u001b[38;5;132;01m}\u001b[39;00m\u001b[38;5;124m.nii.gz\u001b[39m\u001b[38;5;124m'\u001b[39m\n\u001b[0;32m    203\u001b[0m              }\n\u001b[0;32m    204\u001b[0m             \u001b[38;5;28;01mfor\u001b[39;00m i \u001b[38;5;129;01min\u001b[39;00m all_files \u001b[38;5;28;01mif\u001b[39;00m os\u001b[38;5;241m.\u001b[39mpath\u001b[38;5;241m.\u001b[39misfile(\u001b[38;5;124mf\u001b[39m\u001b[38;5;124m'\u001b[39m\u001b[38;5;132;01m{\u001b[39;00mroot_path\u001b[38;5;132;01m}\u001b[39;00m\u001b[38;5;124m/\u001b[39m\u001b[38;5;132;01m{\u001b[39;00mi\u001b[38;5;132;01m}\u001b[39;00m\u001b[38;5;124m/ct.nii.gz\u001b[39m\u001b[38;5;124m'\u001b[39m) \u001b[38;5;28;01mif\u001b[39;00m\n\u001b[1;32m--> 205\u001b[0m             \u001b[43mnib\u001b[49m\u001b[38;5;241;43m.\u001b[39;49m\u001b[43mload\u001b[49m\u001b[43m(\u001b[49m\u001b[38;5;124;43mf\u001b[39;49m\u001b[38;5;124;43m'\u001b[39;49m\u001b[38;5;132;43;01m{\u001b[39;49;00m\u001b[43mroot_path\u001b[49m\u001b[38;5;132;43;01m}\u001b[39;49;00m\u001b[38;5;124;43m/\u001b[39;49m\u001b[38;5;132;43;01m{\u001b[39;49;00m\u001b[43mi\u001b[49m\u001b[38;5;132;43;01m}\u001b[39;49;00m\u001b[38;5;124;43m/segments/\u001b[39;49m\u001b[38;5;132;43;01m{\u001b[39;49;00m\u001b[43mlabel_name\u001b[49m\u001b[38;5;132;43;01m}\u001b[39;49;00m\u001b[38;5;124;43m.nii.gz\u001b[39;49m\u001b[38;5;124;43m'\u001b[39;49m\u001b[43m)\u001b[49m\u001b[38;5;241;43m.\u001b[39;49m\u001b[43mget_fdata\u001b[49m\u001b[43m(\u001b[49m\u001b[43mdtype\u001b[49m\u001b[38;5;241;43m=\u001b[39;49m\u001b[43mnp\u001b[49m\u001b[38;5;241;43m.\u001b[39;49m\u001b[43mfloat32\u001b[49m\u001b[43m)\u001b[49m\u001b[38;5;241m.\u001b[39mmax() \u001b[38;5;241m>\u001b[39m \u001b[38;5;241m0\u001b[39m]\n",
      "File \u001b[1;32mD:\\Arash\\Semester2\\DeepLearning\\FinalProject\\venv\\lib\\site-packages\\nibabel\\dataobj_images.py:368\u001b[0m, in \u001b[0;36mDataobjImage.get_fdata\u001b[1;34m(self, caching, dtype)\u001b[0m\n\u001b[0;32m    364\u001b[0m         \u001b[38;5;28;01mreturn\u001b[39;00m \u001b[38;5;28mself\u001b[39m\u001b[38;5;241m.\u001b[39m_fdata_cache\n\u001b[0;32m    365\u001b[0m \u001b[38;5;66;03m# Always return requested data type\u001b[39;00m\n\u001b[0;32m    366\u001b[0m \u001b[38;5;66;03m# For array proxies, will attempt to confine data array to dtype\u001b[39;00m\n\u001b[0;32m    367\u001b[0m \u001b[38;5;66;03m# during scaling\u001b[39;00m\n\u001b[1;32m--> 368\u001b[0m data \u001b[38;5;241m=\u001b[39m \u001b[43mnp\u001b[49m\u001b[38;5;241;43m.\u001b[39;49m\u001b[43masanyarray\u001b[49m\u001b[43m(\u001b[49m\u001b[38;5;28;43mself\u001b[39;49m\u001b[38;5;241;43m.\u001b[39;49m\u001b[43m_dataobj\u001b[49m\u001b[43m,\u001b[49m\u001b[43m \u001b[49m\u001b[43mdtype\u001b[49m\u001b[38;5;241;43m=\u001b[39;49m\u001b[43mdtype\u001b[49m\u001b[43m)\u001b[49m\n\u001b[0;32m    369\u001b[0m \u001b[38;5;28;01mif\u001b[39;00m caching \u001b[38;5;241m==\u001b[39m \u001b[38;5;124m'\u001b[39m\u001b[38;5;124mfill\u001b[39m\u001b[38;5;124m'\u001b[39m:\n\u001b[0;32m    370\u001b[0m     \u001b[38;5;28mself\u001b[39m\u001b[38;5;241m.\u001b[39m_fdata_cache \u001b[38;5;241m=\u001b[39m data\n",
      "File \u001b[1;32mD:\\Arash\\Semester2\\DeepLearning\\FinalProject\\venv\\lib\\site-packages\\nibabel\\arrayproxy.py:426\u001b[0m, in \u001b[0;36mArrayProxy.__array__\u001b[1;34m(self, dtype)\u001b[0m\n\u001b[0;32m    405\u001b[0m \u001b[38;5;28;01mdef\u001b[39;00m \u001b[38;5;21m__array__\u001b[39m(\u001b[38;5;28mself\u001b[39m, dtype\u001b[38;5;241m=\u001b[39m\u001b[38;5;28;01mNone\u001b[39;00m):\n\u001b[0;32m    406\u001b[0m \u001b[38;5;250m    \u001b[39m\u001b[38;5;124;03m\"\"\"Read data from file and apply scaling, casting to ``dtype``\u001b[39;00m\n\u001b[0;32m    407\u001b[0m \n\u001b[0;32m    408\u001b[0m \u001b[38;5;124;03m    If ``dtype`` is unspecified, the dtype of the returned array is the\u001b[39;00m\n\u001b[1;32m   (...)\u001b[0m\n\u001b[0;32m    424\u001b[0m \u001b[38;5;124;03m        Scaled image data with type `dtype`.\u001b[39;00m\n\u001b[0;32m    425\u001b[0m \u001b[38;5;124;03m    \"\"\"\u001b[39;00m\n\u001b[1;32m--> 426\u001b[0m     arr \u001b[38;5;241m=\u001b[39m \u001b[38;5;28;43mself\u001b[39;49m\u001b[38;5;241;43m.\u001b[39;49m\u001b[43m_get_scaled\u001b[49m\u001b[43m(\u001b[49m\u001b[43mdtype\u001b[49m\u001b[38;5;241;43m=\u001b[39;49m\u001b[43mdtype\u001b[49m\u001b[43m,\u001b[49m\u001b[43m \u001b[49m\u001b[43mslicer\u001b[49m\u001b[38;5;241;43m=\u001b[39;49m\u001b[43m(\u001b[49m\u001b[43m)\u001b[49m\u001b[43m)\u001b[49m\n\u001b[0;32m    427\u001b[0m     \u001b[38;5;28;01mif\u001b[39;00m dtype \u001b[38;5;129;01mis\u001b[39;00m \u001b[38;5;129;01mnot\u001b[39;00m \u001b[38;5;28;01mNone\u001b[39;00m:\n\u001b[0;32m    428\u001b[0m         arr \u001b[38;5;241m=\u001b[39m arr\u001b[38;5;241m.\u001b[39mastype(dtype, copy\u001b[38;5;241m=\u001b[39m\u001b[38;5;28;01mFalse\u001b[39;00m)\n",
      "File \u001b[1;32mD:\\Arash\\Semester2\\DeepLearning\\FinalProject\\venv\\lib\\site-packages\\nibabel\\arrayproxy.py:395\u001b[0m, in \u001b[0;36mArrayProxy._get_scaled\u001b[1;34m(self, dtype, slicer)\u001b[0m\n\u001b[0;32m    393\u001b[0m scaled \u001b[38;5;241m=\u001b[39m apply_read_scaling(\u001b[38;5;28mself\u001b[39m\u001b[38;5;241m.\u001b[39m_get_unscaled(slicer\u001b[38;5;241m=\u001b[39mslicer), scl_slope, scl_inter)\n\u001b[0;32m    394\u001b[0m \u001b[38;5;28;01mif\u001b[39;00m dtype \u001b[38;5;129;01mis\u001b[39;00m \u001b[38;5;129;01mnot\u001b[39;00m \u001b[38;5;28;01mNone\u001b[39;00m:\n\u001b[1;32m--> 395\u001b[0m     scaled \u001b[38;5;241m=\u001b[39m \u001b[43mscaled\u001b[49m\u001b[38;5;241;43m.\u001b[39;49m\u001b[43mastype\u001b[49m\u001b[43m(\u001b[49m\u001b[43mnp\u001b[49m\u001b[38;5;241;43m.\u001b[39;49m\u001b[43mpromote_types\u001b[49m\u001b[43m(\u001b[49m\u001b[43mscaled\u001b[49m\u001b[38;5;241;43m.\u001b[39;49m\u001b[43mdtype\u001b[49m\u001b[43m,\u001b[49m\u001b[43m \u001b[49m\u001b[43mdtype\u001b[49m\u001b[43m)\u001b[49m\u001b[43m,\u001b[49m\u001b[43m \u001b[49m\u001b[43mcopy\u001b[49m\u001b[38;5;241;43m=\u001b[39;49m\u001b[38;5;28;43;01mFalse\u001b[39;49;00m\u001b[43m)\u001b[49m\n\u001b[0;32m    396\u001b[0m \u001b[38;5;28;01mreturn\u001b[39;00m scaled\n",
      "\u001b[1;31mKeyboardInterrupt\u001b[0m: "
     ]
    }
   ],
   "source": [
    "file_list_val = generate_file_path(root_path=f'{root_dataset}/val', label_name=label_name)\n",
    "file_list_train = generate_file_path(root_path=f'{root_dataset}/train', label_name=label_name)"
   ]
  },
  {
   "cell_type": "code",
   "execution_count": 4,
   "id": "95cfe5f7",
   "metadata": {},
   "outputs": [],
   "source": [
    "train_ds = PersistentDataset(\n",
    "    data=file_list_train,\n",
    "    transform=train_transforms,\n",
    "    cache_dir=f'C:/Training/train_{task_name}'\n",
    ")\n",
    "\n",
    "train_loader = ThreadDataLoader(train_ds, batch_size=1, shuffle=True,\n",
    "                                collate_fn=lambda x: pad_list_data_collate(x, pad_to_shape=(96, 96, 96))\n",
    "                               )"
   ]
  },
  {
   "cell_type": "code",
   "execution_count": 5,
   "id": "848ee03c",
   "metadata": {},
   "outputs": [],
   "source": [
    "val_ds = PersistentDataset(\n",
    "    data=file_list_val,\n",
    "    transform=val_transforms,\n",
    "    cache_dir=f'val_{task_name}'\n",
    "#     cache_dir='C:/Training/val'\n",
    ")\n",
    "\n",
    "val_loader = DataLoader(val_ds, batch_size=1, num_workers=0,\n",
    "                              collate_fn=lambda x: pad_list_data_collate(x, pad_to_shape=(96, 96, 96)))"
   ]
  },
  {
   "cell_type": "code",
   "execution_count": 4,
   "id": "fc0492cb",
   "metadata": {},
   "outputs": [
    {
     "data": {
      "text/plain": [
       "17"
      ]
     },
     "execution_count": 4,
     "metadata": {},
     "output_type": "execute_result"
    }
   ],
   "source": [
    "num_of_classes = len(class_map_5_parts[f'class_map_part_{task_name}']) + 1\n",
    "num_of_classes"
   ]
  },
  {
   "cell_type": "markdown",
   "id": "48a8360d",
   "metadata": {},
   "source": [
    "# Model"
   ]
  },
  {
   "cell_type": "code",
   "execution_count": 5,
   "id": "b88096e2",
   "metadata": {},
   "outputs": [],
   "source": [
    "root_dir = 'Model'\n",
    "model_folder = os.path.join(root_dir, f'SwinTransformer_{task_name}')\n",
    "if not os.path.isdir(model_folder):\n",
    "    os.makedirs(model_folder)"
   ]
  },
  {
   "cell_type": "code",
   "execution_count": 6,
   "id": "2a65e1c5",
   "metadata": {},
   "outputs": [],
   "source": [
    "model = SwinUNETR(\n",
    "    img_size=(96, 96, 96),\n",
    "    in_channels=1,\n",
    "    out_channels=num_of_classes,\n",
    "    feature_size=48,\n",
    "#     drop_rate=0.25,\n",
    "    use_checkpoint=True,\n",
    ")"
   ]
  },
  {
   "cell_type": "code",
   "execution_count": 7,
   "id": "cd7abd6a",
   "metadata": {},
   "outputs": [],
   "source": [
    "loss_function = DiceCELoss(to_onehot_y=True, softmax=True, lambda_dice=1, lambda_ce=1)\n",
    "optimizer = torch.optim.AdamW(model.parameters(), lr=1e-4, weight_decay=1e-5)"
   ]
  },
  {
   "cell_type": "code",
   "execution_count": 8,
   "id": "39db20ba",
   "metadata": {},
   "outputs": [],
   "source": [
    "swin_trainer = Trainer(\n",
    "    model=model,\n",
    "    max_epoch=1000,\n",
    "    optimizer=optimizer,\n",
    "    num_samples=4,\n",
    "    loss_function=loss_function,\n",
    "    model_root_path=model_folder,\n",
    "    number_of_classes=num_of_classes,\n",
    "    )\n",
    "swin_trainer.load_weights()"
   ]
  },
  {
   "cell_type": "code",
   "execution_count": 11,
   "id": "04730486",
   "metadata": {},
   "outputs": [
    {
     "name": "stderr",
     "output_type": "stream",
     "text": [
      "Training (0 / 1000 Steps) (loss=1.09068): 100%|████████████████████████████████████| 1039/1039 [17:48<00:00,  1.03s/it]\n",
      "Validate:   0%|                                                                                 | 0/55 [00:00<?, ?it/s]None of the inputs have requires_grad=True. Gradients will be None\n",
      "Validate (loss=1.05429): 100%|█████████████████████████████████████████████████████████| 55/55 [02:53<00:00,  3.16s/it]\n"
     ]
    },
    {
     "name": "stdout",
     "output_type": "stream",
     "text": [
      "Mean Hausdorff disatnce: 0\n",
      "Model Was Saved ! Current Best Avg. Dice: 0.15296822786331177 Current Avg. Dice: 0.15296822786331177\n"
     ]
    },
    {
     "name": "stderr",
     "output_type": "stream",
     "text": [
      "Training (1 / 1000 Steps) (loss=0.97033): 100%|████████████████████████████████████| 1039/1039 [11:02<00:00,  1.57it/s]\n",
      "Validate (loss=0.84996): 100%|█████████████████████████████████████████████████████████| 55/55 [02:43<00:00,  2.98s/it]\n"
     ]
    },
    {
     "name": "stdout",
     "output_type": "stream",
     "text": [
      "Mean Hausdorff disatnce: 0\n",
      "Model Was Saved ! Current Best Avg. Dice: 0.3727213740348816 Current Avg. Dice: 0.3727213740348816\n"
     ]
    },
    {
     "name": "stderr",
     "output_type": "stream",
     "text": [
      "Training (2 / 1000 Steps) (loss=1.05618): 100%|████████████████████████████████████| 1039/1039 [11:02<00:00,  1.57it/s]\n",
      "Validate (loss=0.72742): 100%|█████████████████████████████████████████████████████████| 55/55 [02:43<00:00,  2.98s/it]\n"
     ]
    },
    {
     "name": "stdout",
     "output_type": "stream",
     "text": [
      "Mean Hausdorff disatnce: 0\n",
      "Model Was Saved ! Current Best Avg. Dice: 0.5075340270996094 Current Avg. Dice: 0.5075340270996094\n"
     ]
    },
    {
     "name": "stderr",
     "output_type": "stream",
     "text": [
      "Training (3 / 1000 Steps) (loss=0.93579): 100%|████████████████████████████████████| 1039/1039 [11:07<00:00,  1.56it/s]\n",
      "Validate (loss=0.64317): 100%|█████████████████████████████████████████████████████████| 55/55 [02:43<00:00,  2.97s/it]\n"
     ]
    },
    {
     "name": "stdout",
     "output_type": "stream",
     "text": [
      "Mean Hausdorff disatnce: 0\n",
      "Model Was Saved ! Current Best Avg. Dice: 0.5833728909492493 Current Avg. Dice: 0.5833728909492493\n"
     ]
    },
    {
     "name": "stderr",
     "output_type": "stream",
     "text": [
      "Training (4 / 1000 Steps) (loss=0.99746): 100%|████████████████████████████████████| 1039/1039 [11:04<00:00,  1.56it/s]\n",
      "Validate (loss=0.59170): 100%|█████████████████████████████████████████████████████████| 55/55 [02:43<00:00,  2.97s/it]\n"
     ]
    },
    {
     "name": "stdout",
     "output_type": "stream",
     "text": [
      "Mean Hausdorff disatnce: 0\n",
      "Model Was Saved ! Current Best Avg. Dice: 0.6231897473335266 Current Avg. Dice: 0.6231897473335266\n"
     ]
    },
    {
     "name": "stderr",
     "output_type": "stream",
     "text": [
      "Training (5 / 1000 Steps) (loss=0.79683): 100%|████████████████████████████████████| 1039/1039 [11:04<00:00,  1.56it/s]\n",
      "Validate (loss=0.54724): 100%|█████████████████████████████████████████████████████████| 55/55 [02:43<00:00,  2.97s/it]\n"
     ]
    },
    {
     "name": "stdout",
     "output_type": "stream",
     "text": [
      "Mean Hausdorff disatnce: 0\n",
      "Model Was Saved ! Current Best Avg. Dice: 0.6625035405158997 Current Avg. Dice: 0.6625035405158997\n"
     ]
    },
    {
     "name": "stderr",
     "output_type": "stream",
     "text": [
      "Training (6 / 1000 Steps) (loss=0.88669): 100%|████████████████████████████████████| 1039/1039 [11:04<00:00,  1.56it/s]\n",
      "Validate (loss=0.53293): 100%|█████████████████████████████████████████████████████████| 55/55 [02:43<00:00,  2.98s/it]\n"
     ]
    },
    {
     "name": "stdout",
     "output_type": "stream",
     "text": [
      "Mean Hausdorff disatnce: 0\n",
      "Model Was Saved ! Current Best Avg. Dice: 0.6971206665039062 Current Avg. Dice: 0.6971206665039062\n"
     ]
    },
    {
     "name": "stderr",
     "output_type": "stream",
     "text": [
      "Training (7 / 1000 Steps) (loss=0.87072): 100%|████████████████████████████████████| 1039/1039 [11:04<00:00,  1.56it/s]\n",
      "Validate (loss=0.49634): 100%|█████████████████████████████████████████████████████████| 55/55 [02:43<00:00,  2.97s/it]\n"
     ]
    },
    {
     "name": "stdout",
     "output_type": "stream",
     "text": [
      "Mean Hausdorff disatnce: 0\n",
      "Model Was Saved ! Current Best Avg. Dice: 0.7428083419799805 Current Avg. Dice: 0.7428083419799805\n"
     ]
    },
    {
     "name": "stderr",
     "output_type": "stream",
     "text": [
      "Training (8 / 1000 Steps) (loss=0.94504): 100%|████████████████████████████████████| 1039/1039 [11:04<00:00,  1.56it/s]\n",
      "Validate (loss=0.50324): 100%|█████████████████████████████████████████████████████████| 55/55 [02:43<00:00,  2.97s/it]\n"
     ]
    },
    {
     "name": "stdout",
     "output_type": "stream",
     "text": [
      "Mean Hausdorff disatnce: 0\n",
      "Model Was Not Saved ! Current Best Avg. Dice: 0.7428083419799805 Current Avg. Dice: 0.7407244443893433\n"
     ]
    },
    {
     "name": "stderr",
     "output_type": "stream",
     "text": [
      "Training (9 / 1000 Steps) (loss=0.85219): 100%|████████████████████████████████████| 1039/1039 [11:04<00:00,  1.56it/s]\n",
      "Validate (loss=0.49198): 100%|█████████████████████████████████████████████████████████| 55/55 [02:44<00:00,  2.99s/it]\n"
     ]
    },
    {
     "name": "stdout",
     "output_type": "stream",
     "text": [
      "Mean Hausdorff disatnce: 0\n",
      "Model Was Saved ! Current Best Avg. Dice: 0.7486154437065125 Current Avg. Dice: 0.7486154437065125\n"
     ]
    },
    {
     "name": "stderr",
     "output_type": "stream",
     "text": [
      "Training (10 / 1000 Steps) (loss=0.77136): 100%|███████████████████████████████████| 1039/1039 [11:04<00:00,  1.56it/s]\n",
      "Validate (loss=0.46171): 100%|█████████████████████████████████████████████████████████| 55/55 [02:45<00:00,  3.01s/it]\n"
     ]
    },
    {
     "name": "stdout",
     "output_type": "stream",
     "text": [
      "Mean Hausdorff disatnce: 0\n",
      "Model Was Saved ! Current Best Avg. Dice: 0.7671636939048767 Current Avg. Dice: 0.7671636939048767\n"
     ]
    },
    {
     "name": "stderr",
     "output_type": "stream",
     "text": [
      "Training (11 / 1000 Steps) (loss=0.85733): 100%|███████████████████████████████████| 1039/1039 [11:05<00:00,  1.56it/s]\n",
      "Validate (loss=0.46919): 100%|█████████████████████████████████████████████████████████| 55/55 [02:43<00:00,  2.97s/it]\n"
     ]
    },
    {
     "name": "stdout",
     "output_type": "stream",
     "text": [
      "Mean Hausdorff disatnce: 0\n",
      "Model Was Saved ! Current Best Avg. Dice: 0.7722275257110596 Current Avg. Dice: 0.7722275257110596\n"
     ]
    },
    {
     "name": "stderr",
     "output_type": "stream",
     "text": [
      "Training (12 / 1000 Steps) (loss=0.82873): 100%|███████████████████████████████████| 1039/1039 [11:04<00:00,  1.56it/s]\n",
      "Validate (loss=0.45205): 100%|█████████████████████████████████████████████████████████| 55/55 [02:43<00:00,  2.97s/it]\n"
     ]
    },
    {
     "name": "stdout",
     "output_type": "stream",
     "text": [
      "Mean Hausdorff disatnce: 0\n",
      "Model Was Saved ! Current Best Avg. Dice: 0.7741583585739136 Current Avg. Dice: 0.7741583585739136\n"
     ]
    },
    {
     "name": "stderr",
     "output_type": "stream",
     "text": [
      "Training (13 / 1000 Steps) (loss=0.58405): 100%|███████████████████████████████████| 1039/1039 [11:03<00:00,  1.57it/s]\n",
      "Validate (loss=0.43442): 100%|█████████████████████████████████████████████████████████| 55/55 [02:42<00:00,  2.96s/it]\n"
     ]
    },
    {
     "name": "stdout",
     "output_type": "stream",
     "text": [
      "Mean Hausdorff disatnce: 0\n",
      "Model Was Saved ! Current Best Avg. Dice: 0.7965880036354065 Current Avg. Dice: 0.7965880036354065\n"
     ]
    },
    {
     "name": "stderr",
     "output_type": "stream",
     "text": [
      "Training (14 / 1000 Steps) (loss=0.60563): 100%|███████████████████████████████████| 1039/1039 [11:03<00:00,  1.57it/s]\n",
      "Validate (loss=0.42715): 100%|█████████████████████████████████████████████████████████| 55/55 [02:43<00:00,  2.97s/it]\n"
     ]
    },
    {
     "name": "stdout",
     "output_type": "stream",
     "text": [
      "Early Stopping patience: 1, best loss: 0.49766247841444883, current_loss: 0.4973642807115208\n",
      "Mean Hausdorff disatnce: 0\n",
      "Model Was Saved ! Current Best Avg. Dice: 0.7993398308753967 Current Avg. Dice: 0.7993398308753967\n"
     ]
    },
    {
     "name": "stderr",
     "output_type": "stream",
     "text": [
      "Training (15 / 1000 Steps) (loss=0.95897): 100%|███████████████████████████████████| 1039/1039 [11:03<00:00,  1.56it/s]\n",
      "Validate (loss=0.42631): 100%|█████████████████████████████████████████████████████████| 55/55 [02:44<00:00,  2.99s/it]\n"
     ]
    },
    {
     "name": "stdout",
     "output_type": "stream",
     "text": [
      "Early Stopping patience: 2, best loss: 0.49766247841444883, current_loss: 0.49681804911656813\n",
      "Mean Hausdorff disatnce: 0\n",
      "Model Was Not Saved ! Current Best Avg. Dice: 0.7993398308753967 Current Avg. Dice: 0.7952784895896912\n"
     ]
    },
    {
     "name": "stderr",
     "output_type": "stream",
     "text": [
      "Training (16 / 1000 Steps) (loss=0.81449): 100%|███████████████████████████████████| 1039/1039 [11:04<00:00,  1.56it/s]\n",
      "Validate (loss=0.41766): 100%|█████████████████████████████████████████████████████████| 55/55 [02:43<00:00,  2.96s/it]\n"
     ]
    },
    {
     "name": "stdout",
     "output_type": "stream",
     "text": [
      "Mean Hausdorff disatnce: 0\n",
      "Model Was Saved ! Current Best Avg. Dice: 0.8092374801635742 Current Avg. Dice: 0.8092374801635742\n"
     ]
    },
    {
     "name": "stderr",
     "output_type": "stream",
     "text": [
      "Training (17 / 1000 Steps) (loss=0.80540): 100%|███████████████████████████████████| 1039/1039 [11:03<00:00,  1.57it/s]\n",
      "Validate (loss=0.43554): 100%|█████████████████████████████████████████████████████████| 55/55 [02:43<00:00,  2.98s/it]\n"
     ]
    },
    {
     "name": "stdout",
     "output_type": "stream",
     "text": [
      "Early Stopping patience: 1, best loss: 0.4861612525853244, current_loss: 0.4881108666008169\n",
      "Mean Hausdorff disatnce: 0\n",
      "Model Was Not Saved ! Current Best Avg. Dice: 0.8092374801635742 Current Avg. Dice: 0.8035899996757507\n"
     ]
    },
    {
     "name": "stderr",
     "output_type": "stream",
     "text": [
      "Training (18 / 1000 Steps) (loss=0.87853): 100%|███████████████████████████████████| 1039/1039 [11:03<00:00,  1.57it/s]\n",
      "Validate (loss=0.43033): 100%|█████████████████████████████████████████████████████████| 55/55 [02:43<00:00,  2.98s/it]\n"
     ]
    },
    {
     "name": "stdout",
     "output_type": "stream",
     "text": [
      "Early Stopping patience: 2, best loss: 0.4861612525853244, current_loss: 0.4890425235033035\n",
      "Mean Hausdorff disatnce: 0\n",
      "Model Was Not Saved ! Current Best Avg. Dice: 0.8092374801635742 Current Avg. Dice: 0.7996776103973389\n"
     ]
    },
    {
     "name": "stderr",
     "output_type": "stream",
     "text": [
      "Training (19 / 1000 Steps) (loss=0.73074): 100%|███████████████████████████████████| 1039/1039 [11:04<00:00,  1.56it/s]\n",
      "Validate (loss=0.41586): 100%|█████████████████████████████████████████████████████████| 55/55 [02:43<00:00,  2.97s/it]\n"
     ]
    },
    {
     "name": "stdout",
     "output_type": "stream",
     "text": [
      "Mean Hausdorff disatnce: 0\n",
      "Model Was Saved ! Current Best Avg. Dice: 0.8228093981742859 Current Avg. Dice: 0.8228093981742859\n"
     ]
    },
    {
     "name": "stderr",
     "output_type": "stream",
     "text": [
      "Training (20 / 1000 Steps) (loss=0.79327): 100%|███████████████████████████████████| 1039/1039 [11:04<00:00,  1.56it/s]\n",
      "Validate (loss=0.42212): 100%|█████████████████████████████████████████████████████████| 55/55 [02:44<00:00,  2.99s/it]\n"
     ]
    },
    {
     "name": "stdout",
     "output_type": "stream",
     "text": [
      "Early Stopping patience: 1, best loss: 0.474648562615568, current_loss: 0.48296424096280877\n",
      "Mean Hausdorff disatnce: 0\n",
      "Model Was Not Saved ! Current Best Avg. Dice: 0.8228093981742859 Current Avg. Dice: 0.8072562217712402\n"
     ]
    },
    {
     "name": "stderr",
     "output_type": "stream",
     "text": [
      "Training (21 / 1000 Steps) (loss=0.78909): 100%|███████████████████████████████████| 1039/1039 [11:04<00:00,  1.56it/s]\n",
      "Validate (loss=0.41891): 100%|█████████████████████████████████████████████████████████| 55/55 [02:45<00:00,  3.01s/it]\n"
     ]
    },
    {
     "name": "stdout",
     "output_type": "stream",
     "text": [
      "Early Stopping patience: 2, best loss: 0.474648562615568, current_loss: 0.47415215129202065\n",
      "Mean Hausdorff disatnce: 0\n",
      "Model Was Not Saved ! Current Best Avg. Dice: 0.8228093981742859 Current Avg. Dice: 0.8190710544586182\n"
     ]
    },
    {
     "name": "stderr",
     "output_type": "stream",
     "text": [
      "Training (22 / 1000 Steps) (loss=0.93287): 100%|███████████████████████████████████| 1039/1039 [11:03<00:00,  1.57it/s]\n",
      "Validate (loss=0.40585): 100%|█████████████████████████████████████████████████████████| 55/55 [02:44<00:00,  3.00s/it]\n"
     ]
    },
    {
     "name": "stdout",
     "output_type": "stream",
     "text": [
      "Mean Hausdorff disatnce: 0\n",
      "Model Was Not Saved ! Current Best Avg. Dice: 0.8228093981742859 Current Avg. Dice: 0.82123863697052\n"
     ]
    },
    {
     "name": "stderr",
     "output_type": "stream",
     "text": [
      "Training (23 / 1000 Steps) (loss=0.97057): 100%|███████████████████████████████████| 1039/1039 [11:03<00:00,  1.57it/s]\n",
      "Validate (loss=0.42183): 100%|█████████████████████████████████████████████████████████| 55/55 [02:43<00:00,  2.98s/it]\n"
     ]
    },
    {
     "name": "stdout",
     "output_type": "stream",
     "text": [
      "Mean Hausdorff disatnce: 0\n",
      "Model Was Saved ! Current Best Avg. Dice: 0.8274716734886169 Current Avg. Dice: 0.8274716734886169\n"
     ]
    },
    {
     "name": "stderr",
     "output_type": "stream",
     "text": [
      "Training (24 / 1000 Steps) (loss=0.85588): 100%|███████████████████████████████████| 1039/1039 [11:04<00:00,  1.56it/s]\n",
      "Validate (loss=0.41313): 100%|█████████████████████████████████████████████████████████| 55/55 [02:43<00:00,  2.98s/it]\n"
     ]
    },
    {
     "name": "stdout",
     "output_type": "stream",
     "text": [
      "Early Stopping patience: 1, best loss: 0.46816985512321646, current_loss: 0.4675943913784894\n",
      "Mean Hausdorff disatnce: 0\n",
      "Model Was Not Saved ! Current Best Avg. Dice: 0.8274716734886169 Current Avg. Dice: 0.8205151557922363\n"
     ]
    },
    {
     "name": "stderr",
     "output_type": "stream",
     "text": [
      "Training (25 / 1000 Steps) (loss=0.81602): 100%|███████████████████████████████████| 1039/1039 [11:04<00:00,  1.56it/s]\n",
      "Validate (loss=0.40270): 100%|█████████████████████████████████████████████████████████| 55/55 [02:44<00:00,  2.98s/it]\n"
     ]
    },
    {
     "name": "stdout",
     "output_type": "stream",
     "text": [
      "Mean Hausdorff disatnce: 0\n",
      "Model Was Saved ! Current Best Avg. Dice: 0.8299735188484192 Current Avg. Dice: 0.8299735188484192\n"
     ]
    },
    {
     "name": "stderr",
     "output_type": "stream",
     "text": [
      "Training (26 / 1000 Steps) (loss=0.91286): 100%|███████████████████████████████████| 1039/1039 [11:04<00:00,  1.56it/s]\n",
      "Validate (loss=0.40418): 100%|█████████████████████████████████████████████████████████| 55/55 [02:44<00:00,  2.98s/it]\n"
     ]
    },
    {
     "name": "stdout",
     "output_type": "stream",
     "text": [
      "Early Stopping patience: 1, best loss: 0.46407961777665396, current_loss: 0.4649651032957164\n",
      "Mean Hausdorff disatnce: 0\n",
      "Model Was Not Saved ! Current Best Avg. Dice: 0.8299735188484192 Current Avg. Dice: 0.8251155614852905\n"
     ]
    },
    {
     "name": "stderr",
     "output_type": "stream",
     "text": [
      "Training (27 / 1000 Steps) (loss=0.71126): 100%|███████████████████████████████████| 1039/1039 [11:05<00:00,  1.56it/s]\n",
      "Validate (loss=0.40577): 100%|█████████████████████████████████████████████████████████| 55/55 [02:43<00:00,  2.98s/it]\n"
     ]
    },
    {
     "name": "stdout",
     "output_type": "stream",
     "text": [
      "Mean Hausdorff disatnce: 0\n",
      "Model Was Saved ! Current Best Avg. Dice: 0.8376989364624023 Current Avg. Dice: 0.8376989364624023\n"
     ]
    },
    {
     "name": "stderr",
     "output_type": "stream",
     "text": [
      "Training (28 / 1000 Steps) (loss=0.88047): 100%|███████████████████████████████████| 1039/1039 [11:05<00:00,  1.56it/s]\n",
      "Validate (loss=0.40919): 100%|█████████████████████████████████████████████████████████| 55/55 [02:43<00:00,  2.98s/it]\n"
     ]
    },
    {
     "name": "stdout",
     "output_type": "stream",
     "text": [
      "Early Stopping patience: 1, best loss: 0.45742335400798106, current_loss: 0.4582262999632142\n",
      "Mean Hausdorff disatnce: 0\n",
      "Model Was Saved ! Current Best Avg. Dice: 0.8380894064903259 Current Avg. Dice: 0.8380894064903259\n"
     ]
    },
    {
     "name": "stderr",
     "output_type": "stream",
     "text": [
      "Training (29 / 1000 Steps) (loss=0.82667): 100%|███████████████████████████████████| 1039/1039 [11:03<00:00,  1.57it/s]\n",
      "Validate (loss=0.40023): 100%|█████████████████████████████████████████████████████████| 55/55 [02:43<00:00,  2.97s/it]\n"
     ]
    },
    {
     "name": "stdout",
     "output_type": "stream",
     "text": [
      "Early Stopping patience: 2, best loss: 0.45742335400798106, current_loss: 0.4619780414483764\n",
      "Mean Hausdorff disatnce: 0\n",
      "Model Was Not Saved ! Current Best Avg. Dice: 0.8380894064903259 Current Avg. Dice: 0.8380831480026245\n"
     ]
    },
    {
     "name": "stderr",
     "output_type": "stream",
     "text": [
      "Training (30 / 1000 Steps) (loss=0.85647): 100%|███████████████████████████████████| 1039/1039 [11:04<00:00,  1.56it/s]\n",
      "Validate (loss=0.40328): 100%|█████████████████████████████████████████████████████████| 55/55 [02:44<00:00,  2.98s/it]\n"
     ]
    },
    {
     "name": "stdout",
     "output_type": "stream",
     "text": [
      "Mean Hausdorff disatnce: 0\n",
      "Model Was Not Saved ! Current Best Avg. Dice: 0.8380894064903259 Current Avg. Dice: 0.8376787900924683\n"
     ]
    },
    {
     "name": "stderr",
     "output_type": "stream",
     "text": [
      "Training (31 / 1000 Steps) (loss=0.60695): 100%|███████████████████████████████████| 1039/1039 [11:04<00:00,  1.56it/s]\n",
      "Validate (loss=0.39858): 100%|█████████████████████████████████████████████████████████| 55/55 [02:44<00:00,  2.98s/it]\n"
     ]
    },
    {
     "name": "stdout",
     "output_type": "stream",
     "text": [
      "Early Stopping patience: 1, best loss: 0.45555431802164426, current_loss: 0.45713027065450496\n",
      "Mean Hausdorff disatnce: 0\n",
      "Model Was Not Saved ! Current Best Avg. Dice: 0.8380894064903259 Current Avg. Dice: 0.8357685208320618\n"
     ]
    },
    {
     "name": "stderr",
     "output_type": "stream",
     "text": [
      "Training (32 / 1000 Steps) (loss=0.59244): 100%|███████████████████████████████████| 1039/1039 [11:03<00:00,  1.57it/s]\n",
      "Validate (loss=0.39417): 100%|█████████████████████████████████████████████████████████| 55/55 [02:43<00:00,  2.97s/it]\n"
     ]
    },
    {
     "name": "stdout",
     "output_type": "stream",
     "text": [
      "Mean Hausdorff disatnce: 0\n",
      "Model Was Saved ! Current Best Avg. Dice: 0.8398483991622925 Current Avg. Dice: 0.8398483991622925\n"
     ]
    },
    {
     "name": "stderr",
     "output_type": "stream",
     "text": [
      "Training (33 / 1000 Steps) (loss=0.78908): 100%|███████████████████████████████████| 1039/1039 [11:02<00:00,  1.57it/s]\n",
      "Validate (loss=0.39700): 100%|█████████████████████████████████████████████████████████| 55/55 [02:43<00:00,  2.97s/it]\n"
     ]
    },
    {
     "name": "stdout",
     "output_type": "stream",
     "text": [
      "Early Stopping patience: 1, best loss: 0.4533586552197283, current_loss: 0.45396692834117197\n",
      "Mean Hausdorff disatnce: 0\n",
      "Model Was Not Saved ! Current Best Avg. Dice: 0.8398483991622925 Current Avg. Dice: 0.8372632265090942\n"
     ]
    },
    {
     "name": "stderr",
     "output_type": "stream",
     "text": [
      "Training (34 / 1000 Steps) (loss=0.92042): 100%|███████████████████████████████████| 1039/1039 [11:04<00:00,  1.56it/s]\n",
      "Validate (loss=0.39554): 100%|█████████████████████████████████████████████████████████| 55/55 [02:45<00:00,  3.01s/it]\n"
     ]
    },
    {
     "name": "stdout",
     "output_type": "stream",
     "text": [
      "Mean Hausdorff disatnce: 0\n",
      "Model Was Saved ! Current Best Avg. Dice: 0.8441547751426697 Current Avg. Dice: 0.8441547751426697\n"
     ]
    },
    {
     "name": "stderr",
     "output_type": "stream",
     "text": [
      "Training (35 / 1000 Steps) (loss=0.71746): 100%|███████████████████████████████████| 1039/1039 [11:05<00:00,  1.56it/s]\n",
      "Validate (loss=0.39937): 100%|█████████████████████████████████████████████████████████| 55/55 [02:46<00:00,  3.03s/it]\n"
     ]
    },
    {
     "name": "stdout",
     "output_type": "stream",
     "text": [
      "Early Stopping patience: 1, best loss: 0.4477178619666533, current_loss: 0.45574115826324985\n",
      "Mean Hausdorff disatnce: 0\n",
      "Model Was Not Saved ! Current Best Avg. Dice: 0.8441547751426697 Current Avg. Dice: 0.8355910778045654\n"
     ]
    },
    {
     "name": "stderr",
     "output_type": "stream",
     "text": [
      "Training (36 / 1000 Steps) (loss=0.78999): 100%|███████████████████████████████████| 1039/1039 [11:04<00:00,  1.56it/s]\n",
      "Validate (loss=0.38600): 100%|█████████████████████████████████████████████████████████| 55/55 [02:43<00:00,  2.98s/it]\n"
     ]
    },
    {
     "name": "stdout",
     "output_type": "stream",
     "text": [
      "Early Stopping patience: 2, best loss: 0.4477178619666533, current_loss: 0.44757036620920354\n",
      "Mean Hausdorff disatnce: 0\n",
      "Model Was Saved ! Current Best Avg. Dice: 0.8482221961021423 Current Avg. Dice: 0.8482221961021423\n"
     ]
    },
    {
     "name": "stderr",
     "output_type": "stream",
     "text": [
      "Training (37 / 1000 Steps) (loss=0.86626): 100%|███████████████████████████████████| 1039/1039 [11:03<00:00,  1.57it/s]\n",
      "Validate (loss=0.39701): 100%|█████████████████████████████████████████████████████████| 55/55 [02:43<00:00,  2.98s/it]\n"
     ]
    },
    {
     "name": "stdout",
     "output_type": "stream",
     "text": [
      "Early Stopping patience: 3, best loss: 0.4477178619666533, current_loss: 0.44768483394926245\n",
      "Mean Hausdorff disatnce: 0\n",
      "Model Was Saved ! Current Best Avg. Dice: 0.8491175770759583 Current Avg. Dice: 0.8491175770759583\n"
     ]
    },
    {
     "name": "stderr",
     "output_type": "stream",
     "text": [
      "Training (38 / 1000 Steps) (loss=0.83807): 100%|███████████████████████████████████| 1039/1039 [11:04<00:00,  1.56it/s]\n",
      "Validate (loss=0.39086): 100%|█████████████████████████████████████████████████████████| 55/55 [02:43<00:00,  2.97s/it]\n"
     ]
    },
    {
     "name": "stdout",
     "output_type": "stream",
     "text": [
      "Mean Hausdorff disatnce: 0\n",
      "Model Was Saved ! Current Best Avg. Dice: 0.853600800037384 Current Avg. Dice: 0.853600800037384\n"
     ]
    },
    {
     "name": "stderr",
     "output_type": "stream",
     "text": [
      "Training (39 / 1000 Steps) (loss=0.83065): 100%|███████████████████████████████████| 1039/1039 [11:03<00:00,  1.57it/s]\n",
      "Validate (loss=0.39408): 100%|█████████████████████████████████████████████████████████| 55/55 [02:43<00:00,  2.97s/it]\n"
     ]
    },
    {
     "name": "stdout",
     "output_type": "stream",
     "text": [
      "Mean Hausdorff disatnce: 0\n",
      "Model Was Saved ! Current Best Avg. Dice: 0.8539389371871948 Current Avg. Dice: 0.8539389371871948\n"
     ]
    },
    {
     "name": "stderr",
     "output_type": "stream",
     "text": [
      "Training (40 / 1000 Steps) (loss=0.64377): 100%|███████████████████████████████████| 1039/1039 [11:04<00:00,  1.56it/s]\n",
      "Validate (loss=0.38754): 100%|█████████████████████████████████████████████████████████| 55/55 [02:44<00:00,  2.98s/it]\n"
     ]
    },
    {
     "name": "stdout",
     "output_type": "stream",
     "text": [
      "Early Stopping patience: 1, best loss: 0.44126919494433836, current_loss: 0.44041971496560356\n",
      "Mean Hausdorff disatnce: 0\n",
      "Model Was Not Saved ! Current Best Avg. Dice: 0.8539389371871948 Current Avg. Dice: 0.8509385585784912\n"
     ]
    },
    {
     "name": "stderr",
     "output_type": "stream",
     "text": [
      "Training (41 / 1000 Steps) (loss=0.82943): 100%|███████████████████████████████████| 1039/1039 [11:03<00:00,  1.57it/s]\n",
      "Validate (loss=0.38603): 100%|█████████████████████████████████████████████████████████| 55/55 [02:43<00:00,  2.97s/it]\n"
     ]
    },
    {
     "name": "stdout",
     "output_type": "stream",
     "text": [
      "Early Stopping patience: 2, best loss: 0.44126919494433836, current_loss: 0.4418094672939994\n",
      "Mean Hausdorff disatnce: 0\n",
      "Model Was Not Saved ! Current Best Avg. Dice: 0.8539389371871948 Current Avg. Dice: 0.8453568816184998\n"
     ]
    },
    {
     "name": "stderr",
     "output_type": "stream",
     "text": [
      "Training (42 / 1000 Steps) (loss=0.68150): 100%|███████████████████████████████████| 1039/1039 [11:05<00:00,  1.56it/s]\n",
      "Validate (loss=0.38930): 100%|█████████████████████████████████████████████████████████| 55/55 [02:43<00:00,  2.97s/it]\n"
     ]
    },
    {
     "name": "stdout",
     "output_type": "stream",
     "text": [
      "Early Stopping patience: 3, best loss: 0.44126919494433836, current_loss: 0.4424372904679992\n",
      "Mean Hausdorff disatnce: 0\n",
      "Model Was Not Saved ! Current Best Avg. Dice: 0.8539389371871948 Current Avg. Dice: 0.8518849015235901\n"
     ]
    },
    {
     "name": "stderr",
     "output_type": "stream",
     "text": [
      "Training (43 / 1000 Steps) (loss=0.77471): 100%|███████████████████████████████████| 1039/1039 [11:04<00:00,  1.56it/s]\n",
      "Validate (loss=0.39783): 100%|█████████████████████████████████████████████████████████| 55/55 [02:43<00:00,  2.97s/it]\n"
     ]
    },
    {
     "name": "stdout",
     "output_type": "stream",
     "text": [
      "Early Stopping patience: 4, best loss: 0.44126919494433836, current_loss: 0.4454359408129345\n",
      "Mean Hausdorff disatnce: 0\n",
      "Model Was Not Saved ! Current Best Avg. Dice: 0.8539389371871948 Current Avg. Dice: 0.8531455993652344\n"
     ]
    },
    {
     "name": "stderr",
     "output_type": "stream",
     "text": [
      "Training (44 / 1000 Steps) (loss=0.71418): 100%|███████████████████████████████████| 1039/1039 [11:06<00:00,  1.56it/s]\n",
      "Validate (loss=0.38942): 100%|█████████████████████████████████████████████████████████| 55/55 [02:43<00:00,  2.97s/it]\n"
     ]
    },
    {
     "name": "stdout",
     "output_type": "stream",
     "text": [
      "Mean Hausdorff disatnce: 0\n",
      "Model Was Saved ! Current Best Avg. Dice: 0.8541989326477051 Current Avg. Dice: 0.8541989326477051\n"
     ]
    },
    {
     "name": "stderr",
     "output_type": "stream",
     "text": [
      "Training (45 / 1000 Steps) (loss=0.85827): 100%|███████████████████████████████████| 1039/1039 [11:02<00:00,  1.57it/s]\n",
      "Validate (loss=0.38513): 100%|█████████████████████████████████████████████████████████| 55/55 [02:44<00:00,  2.99s/it]\n"
     ]
    },
    {
     "name": "stdout",
     "output_type": "stream",
     "text": [
      "Early Stopping patience: 1, best loss: 0.4380179579962384, current_loss: 0.4379426846450025\n",
      "Mean Hausdorff disatnce: 0\n",
      "Model Was Saved ! Current Best Avg. Dice: 0.8558337688446045 Current Avg. Dice: 0.8558337688446045\n"
     ]
    },
    {
     "name": "stderr",
     "output_type": "stream",
     "text": [
      "Training (46 / 1000 Steps) (loss=0.75054): 100%|███████████████████████████████████| 1039/1039 [11:03<00:00,  1.57it/s]\n",
      "Validate (loss=0.38576): 100%|█████████████████████████████████████████████████████████| 55/55 [02:43<00:00,  2.97s/it]\n"
     ]
    },
    {
     "name": "stdout",
     "output_type": "stream",
     "text": [
      "Early Stopping patience: 2, best loss: 0.4380179579962384, current_loss: 0.4397539347410202\n",
      "Mean Hausdorff disatnce: 0\n",
      "Model Was Not Saved ! Current Best Avg. Dice: 0.8558337688446045 Current Avg. Dice: 0.8533521890640259\n"
     ]
    },
    {
     "name": "stderr",
     "output_type": "stream",
     "text": [
      "Training (47 / 1000 Steps) (loss=0.71879): 100%|███████████████████████████████████| 1039/1039 [11:03<00:00,  1.57it/s]\n",
      "Validate (loss=0.39328): 100%|█████████████████████████████████████████████████████████| 55/55 [02:44<00:00,  2.99s/it]\n"
     ]
    },
    {
     "name": "stdout",
     "output_type": "stream",
     "text": [
      "Early Stopping patience: 3, best loss: 0.4380179579962384, current_loss: 0.4414014063098214\n",
      "Mean Hausdorff disatnce: 0\n",
      "Model Was Not Saved ! Current Best Avg. Dice: 0.8558337688446045 Current Avg. Dice: 0.848105251789093\n"
     ]
    },
    {
     "name": "stderr",
     "output_type": "stream",
     "text": [
      "Training (48 / 1000 Steps) (loss=0.84968): 100%|███████████████████████████████████| 1039/1039 [11:04<00:00,  1.56it/s]\n",
      "Validate (loss=0.38483): 100%|█████████████████████████████████████████████████████████| 55/55 [02:44<00:00,  2.98s/it]\n"
     ]
    },
    {
     "name": "stdout",
     "output_type": "stream",
     "text": [
      "Early Stopping patience: 4, best loss: 0.4380179579962384, current_loss: 0.4373142131350257\n",
      "Mean Hausdorff disatnce: 0\n",
      "Model Was Not Saved ! Current Best Avg. Dice: 0.8558337688446045 Current Avg. Dice: 0.8541148900985718\n"
     ]
    },
    {
     "name": "stderr",
     "output_type": "stream",
     "text": [
      "Training (49 / 1000 Steps) (loss=0.71195): 100%|███████████████████████████████████| 1039/1039 [11:03<00:00,  1.57it/s]\n",
      "Validate (loss=0.38710): 100%|█████████████████████████████████████████████████████████| 55/55 [02:43<00:00,  2.97s/it]\n"
     ]
    },
    {
     "name": "stdout",
     "output_type": "stream",
     "text": [
      "Mean Hausdorff disatnce: 0\n",
      "Model Was Saved ! Current Best Avg. Dice: 0.8589763045310974 Current Avg. Dice: 0.8589763045310974\n"
     ]
    },
    {
     "name": "stderr",
     "output_type": "stream",
     "text": [
      "Training (50 / 1000 Steps) (loss=0.56679): 100%|███████████████████████████████████| 1039/1039 [11:04<00:00,  1.56it/s]\n",
      "Validate (loss=0.39715): 100%|█████████████████████████████████████████████████████████| 55/55 [02:44<00:00,  2.99s/it]\n"
     ]
    },
    {
     "name": "stdout",
     "output_type": "stream",
     "text": [
      "Early Stopping patience: 1, best loss: 0.43395390876314854, current_loss: 0.43828642002560875\n",
      "Mean Hausdorff disatnce: 0\n",
      "Model Was Not Saved ! Current Best Avg. Dice: 0.8589763045310974 Current Avg. Dice: 0.8552272319793701\n"
     ]
    },
    {
     "name": "stderr",
     "output_type": "stream",
     "text": [
      "Training (51 / 1000 Steps) (loss=0.71576): 100%|███████████████████████████████████| 1039/1039 [11:04<00:00,  1.56it/s]\n",
      "Validate (loss=0.38208): 100%|█████████████████████████████████████████████████████████| 55/55 [02:43<00:00,  2.98s/it]\n"
     ]
    },
    {
     "name": "stdout",
     "output_type": "stream",
     "text": [
      "Early Stopping patience: 2, best loss: 0.43395390876314854, current_loss: 0.4353025971488519\n",
      "Mean Hausdorff disatnce: 0\n",
      "Model Was Not Saved ! Current Best Avg. Dice: 0.8589763045310974 Current Avg. Dice: 0.856297492980957\n"
     ]
    },
    {
     "name": "stderr",
     "output_type": "stream",
     "text": [
      "Training (52 / 1000 Steps) (loss=0.88683): 100%|███████████████████████████████████| 1039/1039 [11:05<00:00,  1.56it/s]\n",
      "Validate (loss=0.38486): 100%|█████████████████████████████████████████████████████████| 55/55 [02:44<00:00,  2.99s/it]\n"
     ]
    },
    {
     "name": "stdout",
     "output_type": "stream",
     "text": [
      "Early Stopping patience: 3, best loss: 0.43395390876314854, current_loss: 0.4389703397046436\n",
      "Mean Hausdorff disatnce: 0\n",
      "Model Was Not Saved ! Current Best Avg. Dice: 0.8589763045310974 Current Avg. Dice: 0.8571638464927673\n"
     ]
    },
    {
     "name": "stderr",
     "output_type": "stream",
     "text": [
      "Training (53 / 1000 Steps) (loss=0.83078): 100%|███████████████████████████████████| 1039/1039 [11:04<00:00,  1.56it/s]\n",
      "Validate (loss=0.39551): 100%|█████████████████████████████████████████████████████████| 55/55 [02:43<00:00,  2.98s/it]\n"
     ]
    },
    {
     "name": "stdout",
     "output_type": "stream",
     "text": [
      "Epoch 00054: reducing learning rate of group 0 to 2.5000e-05.\n",
      "Early Stopping patience: 4, best loss: 0.43395390876314854, current_loss: 0.43796092583374546\n",
      "Mean Hausdorff disatnce: 0\n",
      "Model Was Not Saved ! Current Best Avg. Dice: 0.8589763045310974 Current Avg. Dice: 0.8557887673377991\n"
     ]
    },
    {
     "name": "stderr",
     "output_type": "stream",
     "text": [
      "Training (54 / 1000 Steps) (loss=0.75417): 100%|███████████████████████████████████| 1039/1039 [11:02<00:00,  1.57it/s]\n",
      "Validate (loss=0.38099): 100%|█████████████████████████████████████████████████████████| 55/55 [02:43<00:00,  2.98s/it]\n"
     ]
    },
    {
     "name": "stdout",
     "output_type": "stream",
     "text": [
      "Mean Hausdorff disatnce: 0\n",
      "Model Was Saved ! Current Best Avg. Dice: 0.8695031404495239 Current Avg. Dice: 0.8695031404495239\n"
     ]
    },
    {
     "name": "stderr",
     "output_type": "stream",
     "text": [
      "Training (55 / 1000 Steps) (loss=0.80430): 100%|███████████████████████████████████| 1039/1039 [11:03<00:00,  1.57it/s]\n",
      "Validate (loss=0.37985): 100%|█████████████████████████████████████████████████████████| 55/55 [02:44<00:00,  3.00s/it]\n"
     ]
    },
    {
     "name": "stdout",
     "output_type": "stream",
     "text": [
      "Mean Hausdorff disatnce: 0\n",
      "Model Was Saved ! Current Best Avg. Dice: 0.8726158142089844 Current Avg. Dice: 0.8726158142089844\n"
     ]
    },
    {
     "name": "stderr",
     "output_type": "stream",
     "text": [
      "Training (56 / 1000 Steps) (loss=0.70208): 100%|███████████████████████████████████| 1039/1039 [11:06<00:00,  1.56it/s]\n",
      "Validate (loss=0.37838): 100%|█████████████████████████████████████████████████████████| 55/55 [02:43<00:00,  2.98s/it]\n"
     ]
    },
    {
     "name": "stdout",
     "output_type": "stream",
     "text": [
      "Early Stopping patience: 1, best loss: 0.4228833837942644, current_loss: 0.4231154752048579\n",
      "Mean Hausdorff disatnce: 0\n",
      "Model Was Not Saved ! Current Best Avg. Dice: 0.8726158142089844 Current Avg. Dice: 0.8718453645706177\n"
     ]
    },
    {
     "name": "stderr",
     "output_type": "stream",
     "text": [
      "Training (57 / 1000 Steps) (loss=0.53664): 100%|███████████████████████████████████| 1039/1039 [11:15<00:00,  1.54it/s]\n",
      "Validate (loss=0.38141): 100%|█████████████████████████████████████████████████████████| 55/55 [02:35<00:00,  2.82s/it]\n"
     ]
    },
    {
     "name": "stdout",
     "output_type": "stream",
     "text": [
      "Early Stopping patience: 2, best loss: 0.4228833837942644, current_loss: 0.4237156223167073\n",
      "Mean Hausdorff disatnce: 0\n",
      "Model Was Not Saved ! Current Best Avg. Dice: 0.8726158142089844 Current Avg. Dice: 0.8701474070549011\n"
     ]
    },
    {
     "name": "stderr",
     "output_type": "stream",
     "text": [
      "Training (58 / 1000 Steps) (loss=0.79685): 100%|███████████████████████████████████| 1039/1039 [11:05<00:00,  1.56it/s]\n",
      "Validate (loss=0.37945): 100%|█████████████████████████████████████████████████████████| 55/55 [02:43<00:00,  2.97s/it]\n"
     ]
    },
    {
     "name": "stdout",
     "output_type": "stream",
     "text": [
      "Early Stopping patience: 3, best loss: 0.4228833837942644, current_loss: 0.42350708869370546\n",
      "Mean Hausdorff disatnce: 0\n",
      "Model Was Not Saved ! Current Best Avg. Dice: 0.8726158142089844 Current Avg. Dice: 0.8701378703117371\n"
     ]
    },
    {
     "name": "stderr",
     "output_type": "stream",
     "text": [
      "Training (59 / 1000 Steps) (loss=0.72824): 100%|███████████████████████████████████| 1039/1039 [11:04<00:00,  1.56it/s]\n",
      "Validate (loss=0.37912): 100%|█████████████████████████████████████████████████████████| 55/55 [02:46<00:00,  3.03s/it]\n"
     ]
    },
    {
     "name": "stdout",
     "output_type": "stream",
     "text": [
      "Early Stopping patience: 4, best loss: 0.4228833837942644, current_loss: 0.42202058895067734\n",
      "Mean Hausdorff disatnce: 0\n",
      "Model Was Not Saved ! Current Best Avg. Dice: 0.8726158142089844 Current Avg. Dice: 0.8718574047088623\n"
     ]
    },
    {
     "name": "stderr",
     "output_type": "stream",
     "text": [
      "Training (60 / 1000 Steps) (loss=0.74005): 100%|███████████████████████████████████| 1039/1039 [11:04<00:00,  1.56it/s]\n",
      "Validate (loss=0.37809): 100%|█████████████████████████████████████████████████████████| 55/55 [02:45<00:00,  3.02s/it]\n"
     ]
    },
    {
     "name": "stdout",
     "output_type": "stream",
     "text": [
      "Early Stopping patience: 5, best loss: 0.4228833837942644, current_loss: 0.42301784374497153\n",
      "Mean Hausdorff disatnce: 0\n",
      "Model Was Not Saved ! Current Best Avg. Dice: 0.8726158142089844 Current Avg. Dice: 0.870623767375946\n"
     ]
    },
    {
     "name": "stderr",
     "output_type": "stream",
     "text": [
      "Training (61 / 1000 Steps) (loss=0.77731): 100%|███████████████████████████████████| 1039/1039 [11:04<00:00,  1.56it/s]\n",
      "Validate (loss=0.38004): 100%|█████████████████████████████████████████████████████████| 55/55 [02:44<00:00,  2.99s/it]\n"
     ]
    },
    {
     "name": "stdout",
     "output_type": "stream",
     "text": [
      "Mean Hausdorff disatnce: 0\n",
      "Model Was Saved ! Current Best Avg. Dice: 0.8741252422332764 Current Avg. Dice: 0.8741252422332764\n"
     ]
    },
    {
     "name": "stderr",
     "output_type": "stream",
     "text": [
      "Training (62 / 1000 Steps) (loss=0.72810): 100%|███████████████████████████████████| 1039/1039 [11:03<00:00,  1.56it/s]\n",
      "Validate (loss=0.37882): 100%|█████████████████████████████████████████████████████████| 55/55 [02:43<00:00,  2.97s/it]\n"
     ]
    },
    {
     "name": "stdout",
     "output_type": "stream",
     "text": [
      "Early Stopping patience: 1, best loss: 0.42077506292950023, current_loss: 0.42060599652203645\n",
      "Mean Hausdorff disatnce: 0\n",
      "Model Was Saved ! Current Best Avg. Dice: 0.8750147223472595 Current Avg. Dice: 0.8750147223472595\n"
     ]
    },
    {
     "name": "stderr",
     "output_type": "stream",
     "text": [
      "Training (63 / 1000 Steps) (loss=0.82645): 100%|███████████████████████████████████| 1039/1039 [11:04<00:00,  1.56it/s]\n",
      "Validate (loss=0.37896): 100%|█████████████████████████████████████████████████████████| 55/55 [02:43<00:00,  2.98s/it]\n"
     ]
    },
    {
     "name": "stdout",
     "output_type": "stream",
     "text": [
      "Early Stopping patience: 2, best loss: 0.42077506292950023, current_loss: 0.42034731805324554\n",
      "Mean Hausdorff disatnce: 0\n",
      "Model Was Not Saved ! Current Best Avg. Dice: 0.8750147223472595 Current Avg. Dice: 0.8742664456367493\n"
     ]
    },
    {
     "name": "stderr",
     "output_type": "stream",
     "text": [
      "Training (64 / 1000 Steps) (loss=0.66755): 100%|███████████████████████████████████| 1039/1039 [11:04<00:00,  1.56it/s]\n",
      "Validate (loss=0.37458): 100%|█████████████████████████████████████████████████████████| 55/55 [02:43<00:00,  2.98s/it]\n"
     ]
    },
    {
     "name": "stdout",
     "output_type": "stream",
     "text": [
      "Mean Hausdorff disatnce: 0\n",
      "Model Was Saved ! Current Best Avg. Dice: 0.8753531575202942 Current Avg. Dice: 0.8753531575202942\n"
     ]
    },
    {
     "name": "stderr",
     "output_type": "stream",
     "text": [
      "Training (65 / 1000 Steps) (loss=0.74243): 100%|███████████████████████████████████| 1039/1039 [11:04<00:00,  1.56it/s]\n",
      "Validate (loss=0.37852): 100%|█████████████████████████████████████████████████████████| 55/55 [02:44<00:00,  2.99s/it]\n"
     ]
    },
    {
     "name": "stdout",
     "output_type": "stream",
     "text": [
      "Early Stopping patience: 1, best loss: 0.419400332597169, current_loss: 0.4200226904316382\n",
      "Mean Hausdorff disatnce: 0\n",
      "Model Was Not Saved ! Current Best Avg. Dice: 0.8753531575202942 Current Avg. Dice: 0.8745185136795044\n"
     ]
    },
    {
     "name": "stderr",
     "output_type": "stream",
     "text": [
      "Training (66 / 1000 Steps) (loss=0.83959): 100%|███████████████████████████████████| 1039/1039 [11:04<00:00,  1.56it/s]\n",
      "Validate (loss=0.38443): 100%|█████████████████████████████████████████████████████████| 55/55 [02:43<00:00,  2.98s/it]\n"
     ]
    },
    {
     "name": "stdout",
     "output_type": "stream",
     "text": [
      "Early Stopping patience: 2, best loss: 0.419400332597169, current_loss: 0.4211263132366267\n",
      "Mean Hausdorff disatnce: 0\n",
      "Model Was Not Saved ! Current Best Avg. Dice: 0.8753531575202942 Current Avg. Dice: 0.8733807802200317\n"
     ]
    },
    {
     "name": "stderr",
     "output_type": "stream",
     "text": [
      "Training (67 / 1000 Steps) (loss=0.72741): 100%|███████████████████████████████████| 1039/1039 [11:06<00:00,  1.56it/s]\n",
      "Validate (loss=0.37565): 100%|█████████████████████████████████████████████████████████| 55/55 [02:43<00:00,  2.97s/it]\n"
     ]
    },
    {
     "name": "stdout",
     "output_type": "stream",
     "text": [
      "Early Stopping patience: 3, best loss: 0.419400332597169, current_loss: 0.4195758338678967\n",
      "Mean Hausdorff disatnce: 0\n",
      "Model Was Not Saved ! Current Best Avg. Dice: 0.8753531575202942 Current Avg. Dice: 0.8748478889465332\n"
     ]
    },
    {
     "name": "stderr",
     "output_type": "stream",
     "text": [
      "Training (68 / 1000 Steps) (loss=0.64855): 100%|███████████████████████████████████| 1039/1039 [11:05<00:00,  1.56it/s]\n",
      "Validate (loss=0.37681): 100%|█████████████████████████████████████████████████████████| 55/55 [02:43<00:00,  2.98s/it]\n"
     ]
    },
    {
     "name": "stdout",
     "output_type": "stream",
     "text": [
      "Early Stopping patience: 4, best loss: 0.419400332597169, current_loss: 0.41935519399968063\n",
      "Mean Hausdorff disatnce: 0\n",
      "Model Was Not Saved ! Current Best Avg. Dice: 0.8753531575202942 Current Avg. Dice: 0.8745620846748352\n"
     ]
    },
    {
     "name": "stderr",
     "output_type": "stream",
     "text": [
      "Training (69 / 1000 Steps) (loss=0.69042): 100%|███████████████████████████████████| 1039/1039 [11:04<00:00,  1.56it/s]\n",
      "Validate (loss=0.37810): 100%|█████████████████████████████████████████████████████████| 55/55 [02:43<00:00,  2.98s/it]\n"
     ]
    },
    {
     "name": "stdout",
     "output_type": "stream",
     "text": [
      "Early Stopping patience: 5, best loss: 0.419400332597169, current_loss: 0.4190236577933485\n",
      "Mean Hausdorff disatnce: 0\n",
      "Model Was Saved ! Current Best Avg. Dice: 0.8760828375816345 Current Avg. Dice: 0.8760828375816345\n"
     ]
    },
    {
     "name": "stderr",
     "output_type": "stream",
     "text": [
      "Training (70 / 1000 Steps) (loss=0.83379): 100%|███████████████████████████████████| 1039/1039 [11:04<00:00,  1.56it/s]\n",
      "Validate (loss=0.37473): 100%|█████████████████████████████████████████████████████████| 55/55 [02:44<00:00,  2.99s/it]\n"
     ]
    },
    {
     "name": "stdout",
     "output_type": "stream",
     "text": [
      "Mean Hausdorff disatnce: 0\n",
      "Model Was Not Saved ! Current Best Avg. Dice: 0.8760828375816345 Current Avg. Dice: 0.8754878044128418\n"
     ]
    },
    {
     "name": "stderr",
     "output_type": "stream",
     "text": [
      "Training (71 / 1000 Steps) (loss=0.83033): 100%|███████████████████████████████████| 1039/1039 [11:03<00:00,  1.56it/s]\n",
      "Validate (loss=0.37865): 100%|█████████████████████████████████████████████████████████| 55/55 [02:43<00:00,  2.98s/it]\n"
     ]
    },
    {
     "name": "stdout",
     "output_type": "stream",
     "text": [
      "Early Stopping patience: 1, best loss: 0.4183650148185817, current_loss: 0.41940570920705794\n",
      "Mean Hausdorff disatnce: 0\n",
      "Model Was Saved ! Current Best Avg. Dice: 0.8765730261802673 Current Avg. Dice: 0.8765730261802673\n"
     ]
    },
    {
     "name": "stderr",
     "output_type": "stream",
     "text": [
      "Training (72 / 1000 Steps) (loss=0.78984): 100%|███████████████████████████████████| 1039/1039 [11:04<00:00,  1.56it/s]\n",
      "Validate (loss=0.37752): 100%|█████████████████████████████████████████████████████████| 55/55 [02:45<00:00,  3.02s/it]\n"
     ]
    },
    {
     "name": "stdout",
     "output_type": "stream",
     "text": [
      "Early Stopping patience: 2, best loss: 0.4183650148185817, current_loss: 0.41867500123652546\n",
      "Mean Hausdorff disatnce: 0\n",
      "Model Was Not Saved ! Current Best Avg. Dice: 0.8765730261802673 Current Avg. Dice: 0.8758448362350464\n"
     ]
    },
    {
     "name": "stderr",
     "output_type": "stream",
     "text": [
      "Training (73 / 1000 Steps) (loss=0.82977): 100%|███████████████████████████████████| 1039/1039 [11:03<00:00,  1.57it/s]\n",
      "Validate (loss=0.37808): 100%|█████████████████████████████████████████████████████████| 55/55 [02:43<00:00,  2.98s/it]\n"
     ]
    },
    {
     "name": "stdout",
     "output_type": "stream",
     "text": [
      "Early Stopping patience: 3, best loss: 0.4183650148185817, current_loss: 0.4188354810530489\n",
      "Mean Hausdorff disatnce: 0\n",
      "Model Was Not Saved ! Current Best Avg. Dice: 0.8765730261802673 Current Avg. Dice: 0.8757368326187134\n"
     ]
    },
    {
     "name": "stderr",
     "output_type": "stream",
     "text": [
      "Training (74 / 1000 Steps) (loss=0.72295): 100%|███████████████████████████████████| 1039/1039 [11:03<00:00,  1.56it/s]\n",
      "Validate (loss=0.37857): 100%|█████████████████████████████████████████████████████████| 55/55 [02:43<00:00,  2.98s/it]\n"
     ]
    },
    {
     "name": "stdout",
     "output_type": "stream",
     "text": [
      "Epoch 00075: reducing learning rate of group 0 to 6.2500e-06.\n",
      "Early Stopping patience: 4, best loss: 0.4183650148185817, current_loss: 0.41911925212903456\n",
      "Mean Hausdorff disatnce: 0\n",
      "Model Was Not Saved ! Current Best Avg. Dice: 0.8765730261802673 Current Avg. Dice: 0.8751946091651917\n"
     ]
    },
    {
     "name": "stderr",
     "output_type": "stream",
     "text": [
      "Training (75 / 1000 Steps) (loss=0.85749): 100%|███████████████████████████████████| 1039/1039 [11:06<00:00,  1.56it/s]\n",
      "Validate (loss=0.37687): 100%|█████████████████████████████████████████████████████████| 55/55 [02:44<00:00,  3.00s/it]\n"
     ]
    },
    {
     "name": "stdout",
     "output_type": "stream",
     "text": [
      "Mean Hausdorff disatnce: 0\n",
      "Model Was Saved ! Current Best Avg. Dice: 0.878430187702179 Current Avg. Dice: 0.878430187702179\n"
     ]
    },
    {
     "name": "stderr",
     "output_type": "stream",
     "text": [
      "Training (76 / 1000 Steps) (loss=0.67652): 100%|███████████████████████████████████| 1039/1039 [11:06<00:00,  1.56it/s]\n",
      "Validate (loss=0.37640): 100%|█████████████████████████████████████████████████████████| 55/55 [02:43<00:00,  2.98s/it]\n"
     ]
    },
    {
     "name": "stdout",
     "output_type": "stream",
     "text": [
      "Early Stopping patience: 1, best loss: 0.4165125161409378, current_loss: 0.4164765443991531\n",
      "Mean Hausdorff disatnce: 0\n",
      "Model Was Not Saved ! Current Best Avg. Dice: 0.878430187702179 Current Avg. Dice: 0.8783376812934875\n"
     ]
    },
    {
     "name": "stderr",
     "output_type": "stream",
     "text": [
      "Training (77 / 1000 Steps) (loss=0.86549): 100%|███████████████████████████████████| 1039/1039 [11:04<00:00,  1.56it/s]\n",
      "Validate (loss=0.37773): 100%|█████████████████████████████████████████████████████████| 55/55 [02:43<00:00,  2.97s/it]\n"
     ]
    },
    {
     "name": "stdout",
     "output_type": "stream",
     "text": [
      "Early Stopping patience: 2, best loss: 0.4165125161409378, current_loss: 0.41595028923316435\n",
      "Mean Hausdorff disatnce: 0\n",
      "Model Was Saved ! Current Best Avg. Dice: 0.8788793683052063 Current Avg. Dice: 0.8788793683052063\n"
     ]
    },
    {
     "name": "stderr",
     "output_type": "stream",
     "text": [
      "Training (78 / 1000 Steps) (loss=0.58386): 100%|███████████████████████████████████| 1039/1039 [11:04<00:00,  1.56it/s]\n",
      "Validate (loss=0.37501): 100%|█████████████████████████████████████████████████████████| 55/55 [02:43<00:00,  2.98s/it]\n"
     ]
    },
    {
     "name": "stdout",
     "output_type": "stream",
     "text": [
      "Early Stopping patience: 3, best loss: 0.4165125161409378, current_loss: 0.41595550220121036\n",
      "Mean Hausdorff disatnce: 0\n",
      "Model Was Saved ! Current Best Avg. Dice: 0.8793957829475403 Current Avg. Dice: 0.8793957829475403\n"
     ]
    },
    {
     "name": "stderr",
     "output_type": "stream",
     "text": [
      "Training (79 / 1000 Steps) (loss=0.72314): 100%|███████████████████████████████████| 1039/1039 [11:04<00:00,  1.56it/s]\n",
      "Validate (loss=0.37564): 100%|█████████████████████████████████████████████████████████| 55/55 [02:43<00:00,  2.98s/it]\n"
     ]
    },
    {
     "name": "stdout",
     "output_type": "stream",
     "text": [
      "Early Stopping patience: 4, best loss: 0.4165125161409378, current_loss: 0.41558923491022803\n",
      "Mean Hausdorff disatnce: 0\n",
      "Model Was Saved ! Current Best Avg. Dice: 0.8799896240234375 Current Avg. Dice: 0.8799896240234375\n"
     ]
    },
    {
     "name": "stderr",
     "output_type": "stream",
     "text": [
      "Training (80 / 1000 Steps) (loss=0.76377): 100%|███████████████████████████████████| 1039/1039 [11:03<00:00,  1.57it/s]\n",
      "Validate (loss=0.37433): 100%|█████████████████████████████████████████████████████████| 55/55 [02:44<00:00,  2.99s/it]\n"
     ]
    },
    {
     "name": "stdout",
     "output_type": "stream",
     "text": [
      "Early Stopping patience: 5, best loss: 0.4165125161409378, current_loss: 0.4162652873857455\n",
      "Mean Hausdorff disatnce: 0\n",
      "Model Was Not Saved ! Current Best Avg. Dice: 0.8799896240234375 Current Avg. Dice: 0.8787851333618164\n"
     ]
    },
    {
     "name": "stderr",
     "output_type": "stream",
     "text": [
      "Training (81 / 1000 Steps) (loss=0.83051): 100%|███████████████████████████████████| 1039/1039 [11:35<00:00,  1.49it/s]\n",
      "Validate (loss=0.37473): 100%|█████████████████████████████████████████████████████████| 55/55 [02:48<00:00,  3.06s/it]\n"
     ]
    },
    {
     "name": "stdout",
     "output_type": "stream",
     "text": [
      "Early Stopping patience: 6, best loss: 0.4165125161409378, current_loss: 0.4158355788751082\n",
      "Mean Hausdorff disatnce: 0\n",
      "Model Was Not Saved ! Current Best Avg. Dice: 0.8799896240234375 Current Avg. Dice: 0.8790391683578491\n"
     ]
    },
    {
     "name": "stderr",
     "output_type": "stream",
     "text": [
      "Training (82 / 1000 Steps) (loss=0.97307): 100%|███████████████████████████████████| 1039/1039 [11:38<00:00,  1.49it/s]\n",
      "Validate (loss=0.37637): 100%|█████████████████████████████████████████████████████████| 55/55 [02:52<00:00,  3.14s/it]\n"
     ]
    },
    {
     "name": "stdout",
     "output_type": "stream",
     "text": [
      "Early Stopping patience: 7, best loss: 0.4165125161409378, current_loss: 0.41566013165495613\n",
      "Mean Hausdorff disatnce: 0\n",
      "Model Was Not Saved ! Current Best Avg. Dice: 0.8799896240234375 Current Avg. Dice: 0.8793209195137024\n"
     ]
    },
    {
     "name": "stderr",
     "output_type": "stream",
     "text": [
      "Training (83 / 1000 Steps) (loss=0.60618): 100%|███████████████████████████████████| 1039/1039 [11:29<00:00,  1.51it/s]\n",
      "Validate (loss=0.37557): 100%|█████████████████████████████████████████████████████████| 55/55 [02:45<00:00,  3.00s/it]\n"
     ]
    },
    {
     "name": "stdout",
     "output_type": "stream",
     "text": [
      "Epoch 00084: reducing learning rate of group 0 to 1.5625e-06.\n",
      "Early Stopping patience: 8, best loss: 0.4165125161409378, current_loss: 0.4157843738794327\n",
      "Mean Hausdorff disatnce: 0\n",
      "Model Was Not Saved ! Current Best Avg. Dice: 0.8799896240234375 Current Avg. Dice: 0.8787671327590942\n"
     ]
    },
    {
     "name": "stderr",
     "output_type": "stream",
     "text": [
      "Training (84 / 1000 Steps) (loss=0.79603): 100%|███████████████████████████████████| 1039/1039 [11:14<00:00,  1.54it/s]\n",
      "Validate (loss=0.37532): 100%|█████████████████████████████████████████████████████████| 55/55 [02:44<00:00,  2.98s/it]\n"
     ]
    },
    {
     "name": "stdout",
     "output_type": "stream",
     "text": [
      "Mean Hausdorff disatnce: 0\n",
      "Model Was Not Saved ! Current Best Avg. Dice: 0.8799896240234375 Current Avg. Dice: 0.8797536492347717\n"
     ]
    },
    {
     "name": "stderr",
     "output_type": "stream",
     "text": [
      "Training (85 / 1000 Steps) (loss=0.65630): 100%|███████████████████████████████████| 1039/1039 [11:07<00:00,  1.56it/s]\n",
      "Validate (loss=0.37519): 100%|█████████████████████████████████████████████████████████| 55/55 [02:44<00:00,  2.99s/it]\n"
     ]
    },
    {
     "name": "stdout",
     "output_type": "stream",
     "text": [
      "Early Stopping patience: 1, best loss: 0.41524329795078796, current_loss: 0.4156145336275751\n",
      "Mean Hausdorff disatnce: 0\n",
      "Model Was Not Saved ! Current Best Avg. Dice: 0.8799896240234375 Current Avg. Dice: 0.8789950013160706\n"
     ]
    },
    {
     "name": "stderr",
     "output_type": "stream",
     "text": [
      "Training (86 / 1000 Steps) (loss=0.75521): 100%|███████████████████████████████████| 1039/1039 [11:07<00:00,  1.56it/s]\n",
      "Validate (loss=0.37518): 100%|█████████████████████████████████████████████████████████| 55/55 [02:43<00:00,  2.97s/it]\n"
     ]
    },
    {
     "name": "stdout",
     "output_type": "stream",
     "text": [
      "Early Stopping patience: 2, best loss: 0.41524329795078796, current_loss: 0.415173935551535\n",
      "Mean Hausdorff disatnce: 0\n",
      "Model Was Not Saved ! Current Best Avg. Dice: 0.8799896240234375 Current Avg. Dice: 0.8798643350601196\n"
     ]
    },
    {
     "name": "stderr",
     "output_type": "stream",
     "text": [
      "Training (87 / 1000 Steps) (loss=0.57747): 100%|███████████████████████████████████| 1039/1039 [11:07<00:00,  1.56it/s]\n",
      "Validate (loss=0.37504): 100%|█████████████████████████████████████████████████████████| 55/55 [02:45<00:00,  3.01s/it]\n"
     ]
    },
    {
     "name": "stdout",
     "output_type": "stream",
     "text": [
      "Early Stopping patience: 3, best loss: 0.41524329795078796, current_loss: 0.41510616960850627\n",
      "Mean Hausdorff disatnce: 0\n",
      "Model Was Not Saved ! Current Best Avg. Dice: 0.8799896240234375 Current Avg. Dice: 0.879803478717804\n"
     ]
    },
    {
     "name": "stderr",
     "output_type": "stream",
     "text": [
      "Training (88 / 1000 Steps) (loss=0.76490): 100%|███████████████████████████████████| 1039/1039 [11:07<00:00,  1.56it/s]\n",
      "Validate (loss=0.37496): 100%|█████████████████████████████████████████████████████████| 55/55 [02:45<00:00,  3.02s/it]\n"
     ]
    },
    {
     "name": "stdout",
     "output_type": "stream",
     "text": [
      "Early Stopping patience: 4, best loss: 0.41524329795078796, current_loss: 0.41500787450508636\n",
      "Mean Hausdorff disatnce: 0\n",
      "Model Was Not Saved ! Current Best Avg. Dice: 0.8799896240234375 Current Avg. Dice: 0.8799756169319153\n"
     ]
    },
    {
     "name": "stderr",
     "output_type": "stream",
     "text": [
      "Training (89 / 1000 Steps) (loss=0.75823): 100%|███████████████████████████████████| 1039/1039 [11:05<00:00,  1.56it/s]\n",
      "Validate (loss=0.37546): 100%|█████████████████████████████████████████████████████████| 55/55 [02:43<00:00,  2.98s/it]\n"
     ]
    },
    {
     "name": "stdout",
     "output_type": "stream",
     "text": [
      "Early Stopping patience: 5, best loss: 0.41524329795078796, current_loss: 0.41509823697534476\n",
      "Mean Hausdorff disatnce: 0\n",
      "Model Was Not Saved ! Current Best Avg. Dice: 0.8799896240234375 Current Avg. Dice: 0.8799595236778259\n"
     ]
    },
    {
     "name": "stderr",
     "output_type": "stream",
     "text": [
      "Training (90 / 1000 Steps) (loss=0.85817): 100%|███████████████████████████████████| 1039/1039 [11:05<00:00,  1.56it/s]\n",
      "Validate (loss=0.37534): 100%|█████████████████████████████████████████████████████████| 55/55 [02:45<00:00,  3.00s/it]\n"
     ]
    },
    {
     "name": "stdout",
     "output_type": "stream",
     "text": [
      "Early Stopping patience: 6, best loss: 0.41524329795078796, current_loss: 0.41512649316679345\n",
      "Mean Hausdorff disatnce: 0\n",
      "Model Was Not Saved ! Current Best Avg. Dice: 0.8799896240234375 Current Avg. Dice: 0.8796949982643127\n"
     ]
    },
    {
     "name": "stderr",
     "output_type": "stream",
     "text": [
      "Training (91 / 1000 Steps) (loss=0.87272): 100%|███████████████████████████████████| 1039/1039 [11:04<00:00,  1.56it/s]\n",
      "Validate (loss=0.37499): 100%|█████████████████████████████████████████████████████████| 55/55 [02:43<00:00,  2.97s/it]\n"
     ]
    },
    {
     "name": "stdout",
     "output_type": "stream",
     "text": [
      "Early Stopping patience: 7, best loss: 0.41524329795078796, current_loss: 0.4152219823815606\n",
      "Mean Hausdorff disatnce: 0\n",
      "Model Was Not Saved ! Current Best Avg. Dice: 0.8799896240234375 Current Avg. Dice: 0.879848837852478\n"
     ]
    },
    {
     "name": "stderr",
     "output_type": "stream",
     "text": [
      "Training (92 / 1000 Steps) (loss=0.57738): 100%|███████████████████████████████████| 1039/1039 [11:05<00:00,  1.56it/s]\n",
      "Validate (loss=0.37529): 100%|█████████████████████████████████████████████████████████| 55/55 [02:43<00:00,  2.97s/it]\n"
     ]
    },
    {
     "name": "stdout",
     "output_type": "stream",
     "text": [
      "Epoch 00093: reducing learning rate of group 0 to 3.9063e-07.\n",
      "Early Stopping patience: 8, best loss: 0.41524329795078796, current_loss: 0.4152900977568193\n",
      "Mean Hausdorff disatnce: 0\n",
      "Model Was Not Saved ! Current Best Avg. Dice: 0.8799896240234375 Current Avg. Dice: 0.8793687224388123\n"
     ]
    },
    {
     "name": "stderr",
     "output_type": "stream",
     "text": [
      "Training (93 / 1000 Steps) (loss=0.67743): 100%|███████████████████████████████████| 1039/1039 [11:04<00:00,  1.56it/s]\n",
      "Validate (loss=0.37506): 100%|█████████████████████████████████████████████████████████| 55/55 [02:44<00:00,  2.99s/it]\n"
     ]
    },
    {
     "name": "stdout",
     "output_type": "stream",
     "text": [
      "Early Stopping patience: 9, best loss: 0.41524329795078796, current_loss: 0.4150154153731736\n",
      "Mean Hausdorff disatnce: 0\n",
      "Model Was Saved ! Current Best Avg. Dice: 0.8801009654998779 Current Avg. Dice: 0.8801009654998779\n"
     ]
    },
    {
     "name": "stderr",
     "output_type": "stream",
     "text": [
      "Training (94 / 1000 Steps) (loss=0.78178): 100%|███████████████████████████████████| 1039/1039 [11:04<00:00,  1.56it/s]\n",
      "Validate (loss=0.37529): 100%|█████████████████████████████████████████████████████████| 55/55 [02:43<00:00,  2.98s/it]"
     ]
    },
    {
     "name": "stdout",
     "output_type": "stream",
     "text": [
      "Early Stopping patience: 10, best loss: 0.41524329795078796, current_loss: 0.4151345882903446\n",
      "Mean Hausdorff disatnce: 0\n",
      "Model Was Not Saved ! Current Best Avg. Dice: 0.8801009654998779 Current Avg. Dice: 0.8798875212669373\n"
     ]
    },
    {
     "name": "stderr",
     "output_type": "stream",
     "text": [
      "\n"
     ]
    }
   ],
   "source": [
    "torch.backends.cudnn.benchmark = True\n",
    "swin_trainer.train(train_loader, val_loader)"
   ]
  },
  {
   "cell_type": "code",
   "execution_count": 10,
   "id": "dbf42693",
   "metadata": {},
   "outputs": [
    {
     "data": {
      "image/png": "[encoded data removed]",
      "text/plain": [
       "<Figure size 1200x600 with 2 Axes>"
      ]
     },
     "metadata": {},
     "output_type": "display_data"
    }
   ],
   "source": [
    "swin_trainer.plot_train_info()"
   ]
  },
  {
   "cell_type": "code",
   "execution_count": 11,
   "id": "48463085",
   "metadata": {},
   "outputs": [],
   "source": [
    "file_list_test = generate_file_path(root_path=f'{root_dataset}/test', label_name=label_name)\n",
    "test_ds = PersistentDataset(\n",
    "    data=file_list_test,\n",
    "    transform=val_transforms,\n",
    "    cache_dir=f'test_{task_name}'\n",
    "#     cache_dir='C:/Training/val'\n",
    ")\n",
    "\n",
    "test_loader = DataLoader(test_ds, num_workers=0, batch_size=1, \n",
    "                              collate_fn=lambda x: pad_list_data_collate(x, pad_to_shape=(96, 96, 96)))"
   ]
  },
  {
   "cell_type": "code",
   "execution_count": 12,
   "id": "de31cf16",
   "metadata": {},
   "outputs": [
    {
     "name": "stderr",
     "output_type": "stream",
     "text": [
      "Test (loss=0.20943): 100%|█████████████████████████████████████████████████████████████| 65/65 [11:40<00:00, 10.78s/it]\n"
     ]
    },
    {
     "data": {
      "text/plain": [
       "([0.9200992748999768,\n",
       "  0.949615024839197,\n",
       "  0.9221226538741139,\n",
       "  0.9250450915147606,\n",
       "  0.9555596954800085,\n",
       "  0.9242563342213943,\n",
       "  0.9446133897641553,\n",
       "  0.9138603063397513,\n",
       "  0.897075435961098,\n",
       "  0.8821303445615939,\n",
       "  0.9162870301095283,\n",
       "  0.9139617410749454,\n",
       "  0.9034680524819797,\n",
       "  0.8081415454587089,\n",
       "  0.8878613382319471,\n",
       "  0.9297684219539495],\n",
       " [6.807026608045429,\n",
       "  2.768798627238937,\n",
       "  5.0447647326358265,\n",
       "  9.469515784392394,\n",
       "  2.8312076633762424,\n",
       "  9.361229013433023,\n",
       "  5.907428095554253,\n",
       "  13.530528778467252,\n",
       "  9.231600799089062,\n",
       "  17.19484977696392,\n",
       "  10.771061619139529,\n",
       "  4.819129722772724,\n",
       "  6.072005441993271,\n",
       "  19.187711196126266,\n",
       "  14.917280272678019,\n",
       "  6.180969544189763],\n",
       " [0.9817359236883049,\n",
       "  0.9845014339741611,\n",
       "  0.9871971278497133,\n",
       "  0.9688912342446432,\n",
       "  0.9866338120264354,\n",
       "  0.9611788061034406,\n",
       "  0.9676056873825101,\n",
       "  0.9772208588320845,\n",
       "  0.960296023658944,\n",
       "  0.9588119063767874,\n",
       "  0.9789612643821464,\n",
       "  0.9824496292112226,\n",
       "  0.9258974905316737,\n",
       "  0.9022863954781049,\n",
       "  0.9071535878123014,\n",
       "  0.9277026528344865],\n",
       " [7.368642729178662,\n",
       "  2.2157377248185504,\n",
       "  3.9241843050957623,\n",
       "  8.792669179789954,\n",
       "  4.616258071289411,\n",
       "  9.294819915697545,\n",
       "  8.696596387326666,\n",
       "  9.856214034707843,\n",
       "  7.917368864707869,\n",
       "  9.46023095752269,\n",
       "  7.976892688226865,\n",
       "  2.6024948803880403,\n",
       "  6.4556371741856164,\n",
       "  14.23395264307887,\n",
       "  14.248150125088157,\n",
       "  10.732827657920398],\n",
       " 0.35014420862381274)"
      ]
     },
     "execution_count": 12,
     "metadata": {},
     "output_type": "execute_result"
    }
   ],
   "source": [
    "swin_trainer.test(test_loader)"
   ]
  },
  {
   "cell_type": "code",
   "execution_count": 10,
   "id": "a4ce1171",
   "metadata": {},
   "outputs": [],
   "source": [
    "torch.cuda.empty_cache()"
   ]
  },
  {
   "cell_type": "code",
   "execution_count": 11,
   "id": "04f24257",
   "metadata": {},
   "outputs": [
    {
     "name": "stderr",
     "output_type": "stream",
     "text": [
      "Test:   0%|                                                                                     | 0/65 [00:00<?, ?it/s]None of the inputs have requires_grad=True. Gradients will be None\n",
      "invalid value encountered in double_scalars\n",
      "torch.cuda.reset_max_memory_allocated now calls torch.cuda.reset_peak_memory_stats, which resets /all/ peak memory stats.\n",
      "Test (loss=0.20943): 100%|█████████████████████████████████████████████████████████████| 65/65 [13:23<00:00, 12.37s/it]\n"
     ]
    },
    {
     "data": {
      "text/plain": [
       "([0.9200992748999768,\n",
       "  0.8652048004090461,\n",
       "  0.9221226538741139,\n",
       "  0.8872881490039538,\n",
       "  0.9555596954800085,\n",
       "  0.9242563342213943,\n",
       "  0.9446133897641553,\n",
       "  0.8288500452848907,\n",
       "  0.8580721561367024,\n",
       "  0.8625274480157807,\n",
       "  0.8959250961070945,\n",
       "  0.8733412192493921,\n",
       "  0.866591805441899,\n",
       "  0.7919787145495347,\n",
       "  0.8394325379647501,\n",
       "  0.9086373214549959],\n",
       " [6.807026608045429,\n",
       "  27.15338129164411,\n",
       "  5.0447647326358265,\n",
       "  20.51888239978631,\n",
       "  2.8312076633762424,\n",
       "  9.361229013433023,\n",
       "  5.907428095554253,\n",
       "  29.506821995474663,\n",
       "  20.400818939685855,\n",
       "  21.40497457167043,\n",
       "  17.200735943474342,\n",
       "  19.415138258130774,\n",
       "  18.83961033941341,\n",
       "  22.109072259964293,\n",
       "  24.83776594167306,\n",
       "  15.14401428313526],\n",
       " [0.9817359236883049,\n",
       "  0.8969901953986802,\n",
       "  0.9871971278497133,\n",
       "  0.9293446532550662,\n",
       "  0.9866338120264354,\n",
       "  0.9611788061034406,\n",
       "  0.9676056873825101,\n",
       "  0.886316592894216,\n",
       "  0.9185440226302944,\n",
       "  0.93750497512397,\n",
       "  0.9572065696180987,\n",
       "  0.9387852012462793,\n",
       "  0.8881057562242585,\n",
       "  0.8842406675685427,\n",
       "  0.8576724830225394,\n",
       "  0.9066185016337027],\n",
       " [7.368642729178662,\n",
       "  28.096980694058406,\n",
       "  3.9241843050957623,\n",
       "  21.0161727005389,\n",
       "  4.616258071289411,\n",
       "  9.294819915697545,\n",
       "  8.696596387326666,\n",
       "  29.89661866741572,\n",
       "  21.05872304972169,\n",
       "  16.948767240801434,\n",
       "  16.44549075846206,\n",
       "  20.40556655009879,\n",
       "  19.380526009877666,\n",
       "  18.924084247952884,\n",
       "  24.825840191798704,\n",
       "  17.427804483283733],\n",
       " 0.35014420787875467)"
      ]
     },
     "execution_count": 11,
     "metadata": {},
     "output_type": "execute_result"
    }
   ],
   "source": [
    "torch.cuda.empty_cache()\n",
    "swin_trainer.test(test_loader)"
   ]
  },
  {
   "cell_type": "code",
   "execution_count": 15,
   "id": "85ba1ec3",
   "metadata": {},
   "outputs": [],
   "source": [
    "for t in train_loader:\n",
    "    if t['label'].max() == 0:\n",
    "        print(t['label'].min(), t['label'].max() == 0)\n",
    "    break"
   ]
  }
 ],
 "metadata": {
  "kernelspec": {
   "display_name": "Python (DeepLearningFinalProject)",
   "language": "python",
   "name": "myenv"
  },
  "language_info": {
   "codemirror_mode": {
    "name": "ipython",
    "version": 3
   },
   "file_extension": ".py",
   "mimetype": "text/x-python",
   "name": "python",
   "nbconvert_exporter": "python",
   "pygments_lexer": "ipython3",
   "version": "3.9.7"
  }
 },
 "nbformat": 4,
 "nbformat_minor": 5
}
